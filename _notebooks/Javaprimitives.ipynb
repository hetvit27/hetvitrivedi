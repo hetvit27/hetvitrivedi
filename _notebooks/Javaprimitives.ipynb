import java.util.Scanner; //allows for user input

public class FahrenheitCelsius {
    public static void main(String[] args) {
        String userInputStr;
        double Fahrenheitdouble, celsiusdouble;
        Scanner inputStream = new Scanner(System.in); //creates area for input

        System.out.print("What is your Fahrenheit degrees? ");
        userInputStr = inputStream.nextLine(); //assigns userinputstr as input
        fahrenheitdouble = Double.parseDouble(userInputStr); //changes to stored variable fahrenheitdouble

        System.out.print(fahrenheitdouble);

        celsiusdouble = (fahrenheitdouble-32)/1.8; //set celsius variable to conversion

        System.out.print("\nCelsius conversion: " ); //enter line and print celsius
        System.out.print(celsiusdouble);
    }   
}

FahrenheitCelsius.main(null);
