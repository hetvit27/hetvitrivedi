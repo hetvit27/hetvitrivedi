{
 "cells": [
  {
   "cell_type": "markdown",
   "metadata": {},
   "source": [
    "# \"Control Structures in Java\"\n",
    "> \"Our group presentation on Control Structures\"\n",
    "\n",
    "- toc:true\n",
    "- branch: master\n",
    "- badges: true\n",
    "- comments: true\n",
    "- author: Hetvi Trivedi\n",
    "- categories: [jupyter]"
   ]
  },
  {
   "cell_type": "markdown",
   "metadata": {},
   "source": [
    "# Overview to Control Structures\n",
    "- Programming blocks that can change the path taken to complete a set of instructions\n",
    "- Three kinds of structures: Conditional branches, Loops, and Branching Statements\n",
    "- Conditional Branches are used for choosing between two or more paths: if/else/else if and switch case\n",
    "- Loops are used to sift through different objects and run loops of specific codes: for, while, and do while\n",
    "- Branching Statements are used to change the process of loops: break and continue"
   ]
  },
  {
   "cell_type": "markdown",
   "metadata": {},
   "source": [
    "# If/Else/Else If\n",
    "- We used this when we make our own learnings last week about if/else statements and Boolean expressions\n",
    "\n",
    "- Chooses between two paths"
   ]
  },
  {
   "cell_type": "code",
   "execution_count": null,
   "metadata": {
    "vscode": {
     "languageId": "java"
    }
   },
   "outputs": [],
   "source": [
    "if (count > 6) {\n",
    "    System.out.println(\"Count is higher than 6\");\n",
    "} else {\n",
    "    System.out.println(\"Count is lower or equal than 6\");\n",
    "}"
   ]
  },
  {
   "cell_type": "markdown",
   "metadata": {},
   "source": [
    "# Ternary Operator\n",
    "- Takes three operands rather than one or two\n",
    "\n",
    "- Shorter way to write an if else code; uses a question mark"
   ]
  },
  {
   "cell_type": "code",
   "execution_count": null,
   "metadata": {
    "vscode": {
     "languageId": "java"
    }
   },
   "outputs": [],
   "source": [
    "System.out.println(count > 6 ? \"Count is higher than 6\" : \"Count is lower or equal than 6\");"
   ]
  },
  {
   "cell_type": "markdown",
   "metadata": {},
   "source": [
    "# Switch case \n",
    "- If-else ladder that checks multiple conditions at once\n",
    "- Value inputted is checked with each given case until a match is found\n",
    "- Things to remember: two cases can't have the same value, data variable needs to be the same in all cases, and the value needs to be literal or constant not a variable.\n"
   ]
  },
  {
   "cell_type": "code",
   "execution_count": 2,
   "metadata": {
    "vscode": {
     "languageId": "java"
    }
   },
   "outputs": [
    {
     "name": "stdout",
     "output_type": "stream",
     "text": [
      "You didn't even get a grade\n"
     ]
    }
   ],
   "source": [
    "import java.util.Scanner;\n",
    "\n",
    "public class SwitchExample { // sets up class and objects for scanner\n",
    "    public void go() {\n",
    "        Scanner scan = new Scanner(System.in);\n",
    "        int score = scan.nextInt();\n",
    " \n",
    "        switch (score){ // switch statement with condition that goes through different cases to find a match\n",
    "            case 1: // for the score of less than 60\n",
    "                    System.out.println(\"You got an F\");\n",
    "                    break;    \n",
    "            case 2: // for the score  between 60 and 70\n",
    "                System.out.println(\"You got a D\");\n",
    "                break;\n",
    "            case 3: // for a score between 70 and 80\n",
    "                System.out.println(\"You got a C\");\n",
    "                break;\n",
    "            case 4: // for a score between an 80 and a 90\n",
    "                System.out.println(\"You got a B\");\n",
    "                break;\n",
    "            case 5: // for a score between a 90 and 100\n",
    "                System.out.println(\"You got an A\");\n",
    "                break;\n",
    "            default: // if none of the cases are a match, this is what will be the code automatically executed\n",
    "                System.out.println(\"You didn't even get a grade\");\n",
    "        }\n",
    "    }\n",
    "\n",
    "    public static void main(String[] args) {\n",
    "        SwitchExample cond = new SwitchExample();\n",
    "        cond.go();\n",
    "    }\n",
    "}\n",
    "\n",
    "SwitchExample.main(null);"
   ]
  },
  {
   "cell_type": "markdown",
   "metadata": {},
   "source": [
    "# Loops\n",
    "- Used to repeat a code multiple times\n",
    "\n",
    "- We can set the number of times we want the code to be repeated"
   ]
  },
  {
   "cell_type": "code",
   "execution_count": null,
   "metadata": {
    "vscode": {
     "languageId": "java"
    }
   },
   "outputs": [],
   "source": [
    "for (int i = 5; i <= 90; i++) {\n",
    "    methodToRepeat();\n",
    "}\n",
    "\n",
    "int whileCounter = 5;\n",
    "while (whileCounter <= 90) {\n",
    "    methodToRepeat();\n",
    "    whileCounter++;\n",
    "}"
   ]
  },
  {
   "cell_type": "markdown",
   "metadata": {},
   "source": [
    "# Break and Continue\n",
    "- A break is used to leave a loop earlier than expected\n",
    "- A continue is used to skip a loop we were already in "
   ]
  },
  {
   "cell_type": "code",
   "execution_count": null,
   "metadata": {
    "vscode": {
     "languageId": "java"
    }
   },
   "outputs": [],
   "source": [
    "List<String> names = getNameList();\n",
    "String name = \"Group 3\";\n",
    "int index = 0;\n",
    "for ( ; index < names.length; index++) {\n",
    "    if (names[index].equals(name)) {\n",
    "        break;\n",
    "    }\n",
    "}\n",
    "// Using a list of groups to find one in specific. When we find Group 3, the code will \"break\" or stop."
   ]
  },
  {
   "cell_type": "code",
   "execution_count": null,
   "metadata": {
    "vscode": {
     "languageId": "java"
    }
   },
   "outputs": [],
   "source": [
    "List<String> names = getNameList();\n",
    "String name = \"Group 3\";\n",
    "String list = \"\";\n",
    "for (int i = 0; i < names.length; i++) { \n",
    "    if (names[i].equals(name)) {\n",
    "        continue;\n",
    "    }\n",
    "    list += names[i];\n",
    "}\n",
    "// Here, if Group 3 is identified, this code will stop and the program will move on to the next; it will \"continue\""
   ]
  }
 ],
 "metadata": {
  "kernelspec": {
   "display_name": "Java",
   "language": "java",
   "name": "java"
  },
  "language_info": {
   "codemirror_mode": "java",
   "file_extension": ".jshell",
   "mimetype": "text/x-java-source",
   "name": "Java",
   "pygments_lexer": "java",
   "version": "17.0.4.1+1"
  },
  "orig_nbformat": 4,
  "vscode": {
   "interpreter": {
    "hash": "b0fa6594d8f4cbf19f97940f81e996739fb7646882a419484c72d19e05852a7e"
   }
  }
 },
 "nbformat": 4,
 "nbformat_minor": 2
}
