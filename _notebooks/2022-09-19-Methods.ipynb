{
 "cells": [
  {
   "cell_type": "markdown",
   "metadata": {},
   "source": [
    "# What is a Method?\n",
    "- Function or sub-code that is associated with a class in object-oriented programming\n",
    "- Can contain a set of codes that performs an action\n",
    "- It can also take an input and return an output based on the user"
   ]
  },
  {
   "cell_type": "markdown",
   "metadata": {},
   "source": [
    "# Creating a Method\n",
    "- A method is created within a class\n",
    "- It is defined with the name, followed by ()\n",
    "- An example of a Java pre-defined method is System.out.println()\n"
   ]
  },
  {
   "cell_type": "markdown",
   "metadata": {},
   "source": [
    "# Example Code"
   ]
  },
  {
   "cell_type": "code",
   "execution_count": 3,
   "metadata": {
    "vscode": {
     "languageId": "java"
    }
   },
   "outputs": [],
   "source": [
    "public class Main {\n",
    "    static void ExampleMethod(){ // ExampleMethod is the name of the method; static means that the method belongs to the Main class and not an object\n",
    "        System.out.println(\"Hi!\");\n",
    "    }\n",
    "}"
   ]
  },
  {
   "cell_type": "markdown",
   "metadata": {},
   "source": [
    "# Calling a Method\n",
    "- With Java, you can call a method by writing the method's name and then having (); after it\n"
   ]
  },
  {
   "cell_type": "markdown",
   "metadata": {},
   "source": [
    "# Example Code"
   ]
  },
  {
   "cell_type": "code",
   "execution_count": 1,
   "metadata": {
    "vscode": {
     "languageId": "java"
    }
   },
   "outputs": [],
   "source": [
    "public class Main {\n",
    "    static void ExampleMethod() {\n",
    "      System.out.println(\"Hello AP CSA!\");\n",
    "    }\n",
    "  \n",
    "    public static void main(String[] args) {\n",
    "      ExampleMethod();\n",
    "    }\n",
    "  }\n",
    "  \n",
    "  // Outputs \"I just got executed!\""
   ]
  }
 ],
 "metadata": {
  "kernelspec": {
   "display_name": "Java",
   "language": "java",
   "name": "java"
  },
  "language_info": {
   "codemirror_mode": "java",
   "file_extension": ".jshell",
   "mimetype": "text/x-java-source",
   "name": "Java",
   "pygments_lexer": "java",
   "version": "17.0.4.1+1"
  },
  "orig_nbformat": 4
 },
 "nbformat": 4,
 "nbformat_minor": 2
}
