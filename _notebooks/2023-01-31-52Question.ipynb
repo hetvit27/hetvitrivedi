{
 "cells": [
  {
   "attachments": {},
   "cell_type": "markdown",
   "metadata": {},
   "source": [
    "# \"52 Question Test Review\"\n",
    "> \"Collegeboard Practice Test Corrections\"\n",
    "\n",
    "- toc:true\n",
    "- branch: master\n",
    "- badges: true\n",
    "- comments: true\n",
    "- author: Hetvi Trivedi\n",
    "- categories: [collegeboard]"
   ]
  },
  {
   "attachments": {},
   "cell_type": "markdown",
   "metadata": {},
   "source": [
    "# Score: 39/52 or 75%\n"
   ]
  },
  {
   "attachments": {},
   "cell_type": "markdown",
   "metadata": {},
   "source": [
    "## Experience\n",
    "\n",
    "The test took me roughly an hour to complete. I had to guess on some of the questions and reference google and different websites. I definitely am rusty on multiple choice after not practicing it for a long time. I feel like we spent a lot of time on FRQ review so far this trimester that I'll perform better on that section of the test. I feel as though I did better on the recursion problems though which was a concept I struggled with on the test we took at the end of Trimester 1."
   ]
  },
  {
   "attachments": {},
   "cell_type": "markdown",
   "metadata": {},
   "source": [
    "## Weak Areas \n",
    "- 2D Arrays\n",
    "- Traversing 2D Arrays\n",
    "- String Methods\n",
    "- Array Lists\n",
    "- Traversing Array Lists"
   ]
  }
 ],
 "metadata": {
  "kernelspec": {
   "display_name": "Python 3",
   "language": "python",
   "name": "python3"
  },
  "language_info": {
   "name": "python",
   "version": "3.10.9 (main, Dec 15 2022, 10:44:50) [Clang 14.0.0 (clang-1400.0.29.202)]"
  },
  "orig_nbformat": 4,
  "vscode": {
   "interpreter": {
    "hash": "b0fa6594d8f4cbf19f97940f81e996739fb7646882a419484c72d19e05852a7e"
   }
  }
 },
 "nbformat": 4,
 "nbformat_minor": 2
}
