{
 "cells": [
  {
   "attachments": {},
   "cell_type": "markdown",
   "metadata": {},
   "source": [
    "# Algorithm Notes\n",
    "> \"Notes on Mr. M's tech talk\"\n",
    "\n",
    "- toc:true\n",
    "- branch: master\n",
    "- badges: true\n",
    "- comments: true\n",
    "- author: Hetvi Trivedi\n",
    "- categories: [collegeboard]"
   ]
  },
  {
   "attachments": {},
   "cell_type": "markdown",
   "metadata": {},
   "source": [
    "### Bubble Sort\n",
    "- Sorts a list of values by comparing the first and second values then sorting them, then comparing the second and third, then third and fourth, etc. \n",
    "- After doing this the largest number will be at the end of the list.  Start over again at the beginning of the list and do this until you reach the n-1 values in the list.  Continue this until the list is sorted.\n",
    "- Efficiency decreases with larger number of items\n"
   ]
  },
  {
   "cell_type": "code",
   "execution_count": 1,
   "metadata": {},
   "outputs": [
    {
     "name": "stdout",
     "output_type": "stream",
     "text": [
      "Original Order:\n",
      "5 2 8 1 9 \n",
      "Sorted Order:\n",
      "1 2 5 8 9 "
     ]
    }
   ],
   "source": [
    "public class TurtleSort {\n",
    "    public static void main(String[] args) {\n",
    "        int[] turtleHeights = { 5, 2, 8, 1, 9 };\n",
    "\n",
    "        // Print the original order of turtle heights\n",
    "        System.out.println(\"Original Order:\");\n",
    "        for (int height : turtleHeights) {\n",
    "            System.out.print(height + \" \");\n",
    "        }\n",
    "        System.out.println();\n",
    "\n",
    "        // Perform bubble sort on the array\n",
    "        for (int i = 0; i < turtleHeights.length - 1; i++) {\n",
    "            for (int j = 0; j < turtleHeights.length - i - 1; j++) {\n",
    "                if (turtleHeights[j] > turtleHeights[j + 1]) {\n",
    "                    int temp = turtleHeights[j];\n",
    "                    turtleHeights[j] = turtleHeights[j + 1];\n",
    "                    turtleHeights[j + 1] = temp;\n",
    "                }\n",
    "            }\n",
    "        }\n",
    "\n",
    "        // Print the sorted order of turtle heights\n",
    "        System.out.println(\"Sorted Order:\");\n",
    "        for (int height : turtleHeights) {\n",
    "            System.out.print(height + \" \");\n",
    "        }\n",
    "    }\n",
    "}\n",
    "TurtleSort.main(null);\n"
   ]
  },
  {
   "attachments": {},
   "cell_type": "markdown",
   "metadata": {},
   "source": [
    "### Selection Sort\n",
    "- Choosing the smallest number and swapping\n",
    "- Can implement with Linked List\n",
    "- You set a value as the minimum, iterate through the array, and any value you find that smaller than the one you set becomes the minimum. You swap the minimum with the original value."
   ]
  },
  {
   "cell_type": "code",
   "execution_count": 2,
   "metadata": {},
   "outputs": [
    {
     "name": "stdout",
     "output_type": "stream",
     "text": [
      "Original Order:\n",
      "5 2 8 1 9 \n",
      "Sorted Order:\n",
      "1 2 5 8 9 "
     ]
    }
   ],
   "source": [
    "public class TurtleSort2 {\n",
    "    public static void main(String[] args) {\n",
    "        int[] turtleHeights = { 5, 2, 8, 1, 9 };\n",
    "\n",
    "        // Print the original order of turtle heights\n",
    "        System.out.println(\"Original Order:\");\n",
    "        for (int height : turtleHeights) {\n",
    "            System.out.print(height + \" \");\n",
    "        }\n",
    "        System.out.println();\n",
    "\n",
    "        // Perform selection sort on the array\n",
    "        for (int i = 0; i < turtleHeights.length - 1; i++) {\n",
    "            int minIndex = i;\n",
    "            for (int j = i + 1; j < turtleHeights.length; j++) {\n",
    "                if (turtleHeights[j] < turtleHeights[minIndex]) {\n",
    "                    minIndex = j;\n",
    "                }\n",
    "            }\n",
    "            int temp = turtleHeights[i];\n",
    "            turtleHeights[i] = turtleHeights[minIndex];\n",
    "            turtleHeights[minIndex] = temp;\n",
    "        }\n",
    "\n",
    "        // Print the sorted order of turtle heights\n",
    "        System.out.println(\"Sorted Order:\");\n",
    "        for (int height : turtleHeights) {\n",
    "            System.out.print(height + \" \");\n",
    "        }\n",
    "    }\n",
    "}\n",
    "TurtleSort2.main(null);"
   ]
  },
  {
   "attachments": {},
   "cell_type": "markdown",
   "metadata": {},
   "source": [
    "### Insertion Sort \n",
    "- starts with an i and j \n",
    "- trying to determine where the value goes in front of it\n",
    "- i stays at 0, and j goes along cross dimensional\n",
    "- makes insertion slot for number\n",
    "- Insertion sort iterates, consuming one input element each repetition, and grows a sorted output list. At each iteration, insertion sort removes one element from the input data, finds the location it belongs within the sorted list, and inserts it there. It repeats until no input elements remain.\n"
   ]
  },
  {
   "cell_type": "code",
   "execution_count": 3,
   "metadata": {},
   "outputs": [
    {
     "name": "stdout",
     "output_type": "stream",
     "text": [
      "Original Order:\n",
      "5 2 8 1 9 \n",
      "Sorted Order:\n",
      "1 2 5 8 9 "
     ]
    }
   ],
   "source": [
    "public class TurtleSort3 {\n",
    "    public static void main(String[] args) {\n",
    "        int[] turtleHeights = { 5, 2, 8, 1, 9 };\n",
    "\n",
    "        // Print the original order of turtle heights\n",
    "        System.out.println(\"Original Order:\");\n",
    "        for (int height : turtleHeights) {\n",
    "            System.out.print(height + \" \");\n",
    "        }\n",
    "        System.out.println();\n",
    "\n",
    "        // Perform insertion sort on the array\n",
    "        for (int i = 1; i < turtleHeights.length; i++) {\n",
    "            int key = turtleHeights[i];\n",
    "            int j = i - 1;\n",
    "            while (j >= 0 && turtleHeights[j] > key) {\n",
    "                turtleHeights[j + 1] = turtleHeights[j];\n",
    "                j--;\n",
    "            }\n",
    "            turtleHeights[j + 1] = key;\n",
    "        }\n",
    "\n",
    "        // Print the sorted order of turtle heights\n",
    "        System.out.println(\"Sorted Order:\");\n",
    "        for (int height : turtleHeights) {\n",
    "            System.out.print(height + \" \");\n",
    "        }\n",
    "    }\n",
    "}\n",
    "TurtleSort3.main(null);"
   ]
  }
 ],
 "metadata": {
  "kernelspec": {
   "display_name": "Java",
   "language": "java",
   "name": "java"
  },
  "language_info": {
   "codemirror_mode": "java",
   "file_extension": ".jshell",
   "mimetype": "text/x-java-source",
   "name": "java",
   "pygments_lexer": "java",
   "version": "17.0.4.1+1"
  },
  "orig_nbformat": 4
 },
 "nbformat": 4,
 "nbformat_minor": 2
}
