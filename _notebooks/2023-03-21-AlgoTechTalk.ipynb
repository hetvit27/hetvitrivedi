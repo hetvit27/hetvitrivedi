{
 "cells": [
  {
   "attachments": {},
   "cell_type": "markdown",
   "metadata": {},
   "source": [
    "# Algorithm Notes\n",
    "> \"Notes on Mr. M's tech talk\"\n",
    "\n",
    "- toc:true\n",
    "- branch: master\n",
    "- badges: true\n",
    "- comments: true\n",
    "- author: Hetvi Trivedi\n",
    "- categories: [collegeboard]"
   ]
  },
  {
   "attachments": {},
   "cell_type": "markdown",
   "metadata": {},
   "source": [
    "### Bubble Sort\n",
    "- Sorts a list of values by comparing the first and second values then sorting them, then comparing the second and third, then third and fourth, etc. \n",
    "- After doing this the largest number will be at the end of the list.  Start over again at the beginning of the list and do this until you reach the n-1 values in the list.  Continue this until the list is sorted.\n",
    "\n"
   ]
  },
  {
   "cell_type": "code",
   "execution_count": 1,
   "metadata": {
    "vscode": {
     "languageId": "java"
    }
   },
   "outputs": [
    {
     "name": "stdout",
     "output_type": "stream",
     "text": [
      "Sorted array\n",
      "1 2 4 5 8 \n"
     ]
    }
   ],
   "source": [
    "// Java program for implementation of Bubble Sort\n",
    "import java.util.*;\n",
    "\n",
    "class BubbleSort {\n",
    "\tvoid bubbleSort(int arr[])\n",
    "\t{\n",
    "\t\tint n = arr.length;\n",
    "\t\tfor (int i = 0; i < n - 1; i++)\n",
    "\t\t\tfor (int j = 0; j < n - i - 1; j++)\n",
    "\t\t\t\tif (arr[j] > arr[j + 1]) {\n",
    "\t\t\t\t\t// swap arr[j+1] and arr[j]\n",
    "\t\t\t\t\tint temp = arr[j];\n",
    "\t\t\t\t\tarr[j] = arr[j + 1];\n",
    "\t\t\t\t\tarr[j + 1] = temp;\n",
    "\t\t\t\t}\n",
    "\t}\n",
    "\n",
    "\t/* Prints the array */\n",
    "\tvoid printArray(int arr[])\n",
    "\t{\n",
    "\t\tint n = arr.length;\n",
    "\t\tfor (int i = 0; i < n; ++i)\n",
    "\t\t\tSystem.out.print(arr[i] + \" \");\n",
    "\t\tSystem.out.println();\n",
    "\t}\n",
    "\n",
    "\t// Driver method to test above\n",
    "\tpublic static void main(String args[])\n",
    "\t{\n",
    "\t\tBubbleSort ob = new BubbleSort();\n",
    "\t\tint arr[] = { 5, 1, 4, 2, 8 };\n",
    "\t\tob.bubbleSort(arr);\n",
    "\t\tSystem.out.println(\"Sorted array\");\n",
    "\t\tob.printArray(arr);\n",
    "\t}\n",
    "}\n",
    "/* This code is contributed by Rajat Mishra */\n",
    "BubbleSort.main(null);\n"
   ]
  },
  {
   "attachments": {},
   "cell_type": "markdown",
   "metadata": {},
   "source": [
    "### Selection Sort\n",
    "- Choosing the smallest number and swapping\n",
    "- Can implement with linklist \n"
   ]
  },
  {
   "cell_type": "code",
   "execution_count": 2,
   "metadata": {
    "vscode": {
     "languageId": "java"
    }
   },
   "outputs": [
    {
     "name": "stdout",
     "output_type": "stream",
     "text": [
      "Sorted array\n",
      "11 12 22 25 64 \n"
     ]
    }
   ],
   "source": [
    "// Java program for implementation of Selection Sort\n",
    "import java.io.*;\n",
    "public class SelectionSort\n",
    "{\n",
    "\tvoid sort(int arr[])\n",
    "\t{\n",
    "\t\tint n = arr.length;\n",
    "\n",
    "\t\t// One by one move boundary of unsorted subarray\n",
    "\t\tfor (int i = 0; i < n-1; i++)\n",
    "\t\t{\n",
    "\t\t\t// Find the minimum element in unsorted array\n",
    "\t\t\tint min_idx = i;\n",
    "\t\t\tfor (int j = i+1; j < n; j++)\n",
    "\t\t\t\tif (arr[j] < arr[min_idx])\n",
    "\t\t\t\t\tmin_idx = j;\n",
    "\n",
    "\t\t\t// Swap the found minimum element with the first\n",
    "\t\t\t// element\n",
    "\t\t\tint temp = arr[min_idx];\n",
    "\t\t\tarr[min_idx] = arr[i];\n",
    "\t\t\tarr[i] = temp;\n",
    "\t\t}\n",
    "\t}\n",
    "\n",
    "\t// Prints the array\n",
    "\tvoid printArray(int arr[])\n",
    "\t{\n",
    "\t\tint n = arr.length;\n",
    "\t\tfor (int i=0; i<n; ++i)\n",
    "\t\t\tSystem.out.print(arr[i]+\" \");\n",
    "\t\tSystem.out.println();\n",
    "\t}\n",
    "\n",
    "\t// Driver code to test above\n",
    "\tpublic static void main(String args[])\n",
    "\t{\n",
    "\t\tSelectionSort ob = new SelectionSort();\n",
    "\t\tint arr[] = {64,25,12,22,11};\n",
    "\t\tob.sort(arr);\n",
    "\t\tSystem.out.println(\"Sorted array\");\n",
    "\t\tob.printArray(arr);\n",
    "\t}\n",
    "}\n",
    "/* This code is contributed by Rajat Mishra*/\n",
    "SelectionSort.main(null);"
   ]
  },
  {
   "cell_type": "markdown",
   "metadata": {},
   "source": [
    "### Insertion Sort \n",
    "- starts with an i and j \n",
    "- trying to determine where the value goes in front of it\n",
    "- i stays at 0, and j goes along cross dimensional\n",
    "- makes insertion slot for number"
   ]
  },
  {
   "cell_type": "code",
   "execution_count": 3,
   "metadata": {
    "vscode": {
     "languageId": "java"
    }
   },
   "outputs": [
    {
     "name": "stdout",
     "output_type": "stream",
     "text": [
      "5 6 11 12 13 \n"
     ]
    }
   ],
   "source": [
    "// Java program for implementation of Insertion Sort\n",
    "public class InsertionSort {\n",
    "\t/*Function to sort array using insertion sort*/\n",
    "\tvoid sort(int arr[])\n",
    "\t{\n",
    "\t\tint n = arr.length;\n",
    "\t\tfor (int i = 1; i < n; ++i) {\n",
    "\t\t\tint key = arr[i];\n",
    "\t\t\tint j = i - 1;\n",
    "\n",
    "\t\t\t/* Move elements of arr[0..i-1], that are\n",
    "\t\t\tgreater than key, to one position ahead\n",
    "\t\t\tof their current position */\n",
    "\t\t\twhile (j >= 0 && arr[j] > key) {\n",
    "\t\t\t\tarr[j + 1] = arr[j];\n",
    "\t\t\t\tj = j - 1;\n",
    "\t\t\t}\n",
    "\t\t\tarr[j + 1] = key;\n",
    "\t\t}\n",
    "\t}\n",
    "\n",
    "\t/* A utility function to print array of size n*/\n",
    "\tstatic void printArray(int arr[])\n",
    "\t{\n",
    "\t\tint n = arr.length;\n",
    "\t\tfor (int i = 0; i < n; ++i)\n",
    "\t\t\tSystem.out.print(arr[i] + \" \");\n",
    "\n",
    "\t\tSystem.out.println();\n",
    "\t}\n",
    "\n",
    "\t// Driver method\n",
    "\tpublic static void main(String args[])\n",
    "\t{\n",
    "\t\tint arr[] = { 12, 11, 13, 5, 6 };\n",
    "\n",
    "\t\tInsertionSort ob = new InsertionSort();\n",
    "\t\tob.sort(arr);\n",
    "\n",
    "\t\tprintArray(arr);\n",
    "\t}\n",
    "};\n",
    "\n",
    "\n",
    "/* This code is contributed by Rajat Mishra. */\n",
    "\n",
    "InsertionSort.main(null);"
   ]
  }
 ],
 "metadata": {
  "kernelspec": {
   "display_name": "Java",
   "language": "java",
   "name": "java"
  },
  "language_info": {
   "codemirror_mode": "java",
   "file_extension": ".jshell",
   "mimetype": "text/x-java-source",
   "name": "Java",
   "pygments_lexer": "java",
   "version": "17.0.4.1+1"
  },
  "orig_nbformat": 4
 },
 "nbformat": 4,
 "nbformat_minor": 2
}
