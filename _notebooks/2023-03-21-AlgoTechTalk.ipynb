{
 "cells": [
  {
   "attachments": {},
   "cell_type": "markdown",
   "metadata": {},
   "source": [
    "# Algorithm Notes\n",
    "> \"Notes on Mr. M's tech talk\"\n",
    "\n",
    "- toc:true\n",
    "- branch: master\n",
    "- badges: true\n",
    "- comments: true\n",
    "- author: Hetvi Trivedi\n",
    "- categories: [collegeboard]"
   ]
  },
  {
   "attachments": {},
   "cell_type": "markdown",
   "metadata": {},
   "source": [
    "### Selection Sort\n",
    "- Choosing the smallest number and swapping\n",
    "- Can implement with linklist \n",
    "\n",
    "### Insertion Sort \n",
    "- starts with an i and j \n",
    "- trying to determine where the value goes in front of it\n",
    "- i stays at 0, and j goes along cross dimensional\n",
    "- makes insertion slot for number"
   ]
  }
 ],
 "metadata": {
  "kernelspec": {
   "display_name": "Java",
   "language": "java",
   "name": "java"
  },
  "language_info": {
   "name": "java"
  },
  "orig_nbformat": 4
 },
 "nbformat": 4,
 "nbformat_minor": 2
}
