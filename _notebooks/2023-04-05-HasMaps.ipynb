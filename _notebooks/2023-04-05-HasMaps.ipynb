{
 "cells": [
  {
   "attachments": {},
   "cell_type": "markdown",
   "metadata": {},
   "source": [
    "# \"Selection Sort and Big O Notation\"\n",
    "> \"Checkpoint #3\"\n",
    "\n",
    "- toc:true\n",
    "- branch: master\n",
    "- badges: true\n",
    "- comments: true\n",
    "- author: Hetvi Trivedi\n",
    "- categories: [collegeboard]"
   ]
  },
  {
   "attachments": {},
   "cell_type": "markdown",
   "metadata": {},
   "source": [
    "# Checkpoint #3\n",
    "- Build Sort into Data Structure\n",
    "- Perform BigO analysis and evaluation of best sorts from CB, use Sorts from others to compare to yours.   \n",
    "- Support Analysis with runtime data, also analyze number of compares and swaps.  Consider space complexity."
   ]
  },
  {
   "cell_type": "code",
   "execution_count": 41,
   "metadata": {
    "vscode": {
     "languageId": "java"
    }
   },
   "outputs": [
    {
     "name": "stdout",
     "output_type": "stream",
     "text": [
      "Comparisons: 12497500\n",
      "Swaps: 4992\n",
      "Comparisons: 24995000\n",
      "Swaps: 9984\n",
      "Comparisons: 37492500\n",
      "Swaps: 14969\n",
      "Comparisons: 49990000\n",
      "Swaps: 19962\n",
      "Comparisons: 62487500\n",
      "Swaps: 24954\n",
      "Comparisons: 74985000\n",
      "Swaps: 29944\n",
      "Comparisons: 87482500\n",
      "Swaps: 34934\n",
      "Comparisons: 99980000\n",
      "Swaps: 39925\n",
      "Comparisons: 112477500\n",
      "Swaps: 44915\n",
      "Comparisons: 124975000\n",
      "Swaps: 49906\n",
      "Comparisons: 137472500\n",
      "Swaps: 54893\n",
      "Comparisons: 149970000\n",
      "Swaps: 59877\n",
      "Average time taken: 20 ms\n",
      "Average comparisons: 12497500\n",
      "Average swaps: 4989\n"
     ]
    }
   ],
   "source": [
    "public class SelectionSort {\n",
    "\n",
    "    public int comparisons = 0; // creates primitive data types \n",
    "    public int swaps = 0; // public so it's used by both methods\n",
    "\n",
    "    public static void main(String[] args) { // main method\n",
    "\n",
    "        long start = 0; // initializes long which is a primitive data type that stores whole numbers. common type of initialization for a counter or timer that needs to be incremented or decremented as part of a program's logic\n",
    "        long end = 0;\n",
    "\n",
    "        // create a new SelectionSort object\n",
    "        SelectionSort selectionSort = new SelectionSort();\n",
    " \n",
    "        for (int i=0;i<12;i++) { // create 12 arrays as per requirements\n",
    "        // generate 5000 random elements\n",
    "            int[] array = new int[5000]; // creates a new array with 5000 integer\n",
    "            for (int j=0;j<5000;j++) {\n",
    "            array[j] = (int)(Math.random()*10000);\n",
    "            } // for loop generates the elements using random (math.random is only 0-1 so you mulitiply by 10000 to get bigger number)\n",
    "            // sort the array\n",
    "            start += System.currentTimeMillis(); // before you start the sorting, it stores the current time\n",
    "            selectionSort.sort(array); // sorts\n",
    "            end += System.currentTimeMillis(); // stores the end time\n",
    "        } \n",
    "        // get average\n",
    "        System.out.println(\"Average time taken: \" + (end-start)/12 + \" ms\");\n",
    "        System.out.println(\"Average comparisons: \" + selectionSort.comparisons/12); \n",
    "        System.out.println(\"Average swaps: \" + selectionSort.swaps/12);\n",
    "    }\n",
    "\n",
    "    public void sort(int[] numbers) {\n",
    "        int n = numbers.length;\n",
    "                \n",
    "        for (int i = 0; i < n - 1; i++) {\n",
    "            int minIndex = i;\n",
    "            \n",
    "            for (int j = i + 1; j < n; j++) {\n",
    "                comparisons++;\n",
    "                if (numbers[j] < numbers[minIndex]) {\n",
    "                    minIndex = j;\n",
    "                }\n",
    "            }\n",
    "            \n",
    "            if (minIndex != i) {\n",
    "                int temp = numbers[i];\n",
    "                numbers[i] = numbers[minIndex];\n",
    "                numbers[minIndex] = temp;\n",
    "                swaps++;\n",
    "            }\n",
    "        }\n",
    "        \n",
    "        System.out.println(\"Comparisons: \" + comparisons);\n",
    "        System.out.println(\"Swaps: \" + swaps);\n",
    "    }\n",
    "}\n",
    "\n",
    "SelectionSort.main(null);"
   ]
  },
  {
   "attachments": {},
   "cell_type": "markdown",
   "metadata": {},
   "source": [
    "### Evaluation of Sorts\n",
    "- Selection Sort: 20 ms\n",
    "- Insertion Sort: 6 ms\n",
    "- Merge Sort: 14 ms\n",
    "- Bubble Sort: 22 ms\n",
    "- Insertion Sort is the fastest at 6 ms which is weird because it also had the highest number of comparision and swaps. It should've been the lowest number of comparision and swaps since those take time."
   ]
  },
  {
   "attachments": {},
   "cell_type": "markdown",
   "metadata": {},
   "source": [
    "### Big O Notation Notes\n",
    "- simplified analysis of an algorithm's efficiency\n",
    "- gives complexity based on input size, n\n",
    "- analyze time and space complexity\n",
    "- types of measurements for effiecieny: worst case, best case, and average case\n",
    "- Big O notation typically looks at worst case\n",
    "- Rules: ignore constants, ceratin terms dominate others\n",
    "- Constant time: x = 5 +(15*20) is not dependent on size so the big O notation is O(1)\n",
    "- Linear time: O(N)"
   ]
  },
  {
   "attachments": {},
   "cell_type": "markdown",
   "metadata": {},
   "source": [
    "![](../images/bigo.png)"
   ]
  },
  {
   "attachments": {},
   "cell_type": "markdown",
   "metadata": {},
   "source": [
    "## HashMap Example\n"
   ]
  },
  {
   "cell_type": "code",
   "execution_count": 37,
   "metadata": {
    "vscode": {
     "languageId": "java"
    }
   },
   "outputs": [
    {
     "name": "stdout",
     "output_type": "stream",
     "text": [
      "Average search time: 9433 milliseconds\n"
     ]
    }
   ],
   "source": [
    "import java.util.HashMap;\n",
    "import java.util.Random;\n",
    "\n",
    "public class ExampleHashMapSearch {\n",
    "    public static void main(String[] args) {\n",
    "        // Create a new HashMap object with 5000 elements\n",
    "        HashMap<Integer, String> myHashMap = new HashMap<>();\n",
    "        for (int i = 0; i < 5000; i++) {\n",
    "            myHashMap.put(i, \"value_\" + i);\n",
    "        } \n",
    "\n",
    "        // Perform 12 searches with random keys\n",
    "        int numSearches = 12; // search for 12 different elements \n",
    "        int numKeys = 100; \n",
    "        int[] searchTimes = new int[numSearches];\n",
    "        Random rand = new Random();\n",
    "        for (int i = 0; i < numSearches; i++) {\n",
    "            // Generate random keys to search for\n",
    "            int[] keys = new int[numKeys];\n",
    "            for (int j = 0; j < numKeys; j++) {\n",
    "                keys[j] = rand.nextInt(5000);\n",
    "            }\n",
    "\n",
    "            // Search for the keys and record the time taken\n",
    "            long startTime = System.nanoTime();\n",
    "            for (int j = 0; j < numKeys; j++) {\n",
    "                myHashMap.get(keys[j]);\n",
    "            }\n",
    "            long endTime = System.nanoTime();\n",
    "            searchTimes[i] = (int) ((endTime - startTime));  // Convert nanoseconds to milliseconds\n",
    "        }\n",
    "\n",
    "        // Calculate the average search time\n",
    "        int sum = 0;\n",
    "        for (int i = 0; i < numSearches; i++) {\n",
    "            sum += searchTimes[i];\n",
    "        }\n",
    "        int avg = sum / numSearches;\n",
    "\n",
    "        // Print the results\n",
    "        System.out.println(\"Average search time: \" + avg + \" milliseconds\");\n",
    "    }\n",
    "}\n",
    "ExampleHashMapSearch.main(null);"
   ]
  },
  {
   "attachments": {},
   "cell_type": "markdown",
   "metadata": {},
   "source": [
    "## Extra \n",
    "- Compare pros and cons of collections\n",
    "\n",
    "| Name | Pros | Cons |\n",
    "| --- | --- |--- |\n",
    "| Collections | Framework for storing and manipulating groups of objects, flexible and useful for different data types and structures, easy to add search delete elements, easy to iterate through. | Not efficient for large datasets, no fast random access to elements. |\n",
    "| Hashmaps | fast way to look up values by key, hash tables are efficient for large datasets. | Don't maintain order of elements, more memory, slower iteration than arrays or simple lists. |"
   ]
  }
 ],
 "metadata": {
  "kernelspec": {
   "display_name": "Java",
   "language": "java",
   "name": "java"
  },
  "language_info": {
   "codemirror_mode": "java",
   "file_extension": ".jshell",
   "mimetype": "text/x-java-source",
   "name": "Java",
   "pygments_lexer": "java",
   "version": "17.0.4.1+1"
  },
  "orig_nbformat": 4
 },
 "nbformat": 4,
 "nbformat_minor": 2
}
