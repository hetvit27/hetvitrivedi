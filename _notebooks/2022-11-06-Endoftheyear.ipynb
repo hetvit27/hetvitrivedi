{
 "cells": [
  {
   "cell_type": "markdown",
   "metadata": {},
   "source": [
    "# \"End of the Year Reflection\"\n",
    "> \"Lesson Notes + Reflections\"\n",
    "\n",
    "- toc:true\n",
    "- branch: master\n",
    "- badges: true\n",
    "- comments: true\n",
    "- author: Hetvi Trivedi\n",
    "- categories: [jupyter]"
   ]
  },
  {
   "cell_type": "markdown",
   "metadata": {},
   "source": [
    "# Unit 1: Primitives\n",
    "\n",
    "[See Jupyter Notebook here](https://hetvit27.github.io/hetvitrivedi/jupyter/2022/10/15/primitivedatatypes.html)\n",
    "\n",
    "Takeaways:\n",
    "- Boolean, char, int, float, double are all primitive data types\n",
    "- String, Array, etc. are non-primitive data types\n",
    "- Learned to declare a variable that can be accessible and/or changed\n",
    "- Learned how to store data as variables\n",
    "- (=) is used to initialize variables or change its associated value\n",
    "- Operators are + - * / %\n",
    "- Compound operators are +=, -=, *=, /=, %=\n",
    "- Increment/decrement ++ or --\n"
   ]
  },
  {
   "cell_type": "markdown",
   "metadata": {},
   "source": [
    "# Unit 2: Objects\n",
    "\n",
    "[See Jupyter Notebook here](https://hetvit27.github.io/hetvitrivedi/jupyter/2022/10/15/Objects.html)\n",
    "\n",
    "Takeaways: \n",
    "- Learned the difference between classes vs. objects\n",
    "- Classes are blueprints for creating objects\n",
    "- Objects are instances within a class\n",
    "- Methods: certain set of code that runs a specific task\n",
    "- Class attributes are inherited by objects\n",
    "- Learned about myPainter in Code.org\n",
    "- Non static methods are dot operators \n",
    "- Overloaded methods give multiple methods the same name with different signatures\n",
    "- Void methods don't return values\n",
    "- Non void methods return a value of the same type defined in the method signature\n",
    "- Strings are created with String class constructor\n",
    "- Wrapper class: integer and double class are part of the java.lang package"
   ]
  },
  {
   "cell_type": "code",
   "execution_count": null,
   "metadata": {
    "vscode": {
     "languageId": "java"
    }
   },
   "outputs": [],
   "source": [
    "public Food {\n",
    "    public Food (String tp, int cr, boolean st){\n",
    "        type = tp;\n",
    "        color = cr;\n",
    "        store = st;\n",
    "    }\n",
    "}\n",
    "// call the values and defines the objects\n",
    "Food 1 = new Food(\"Apple\", red, Ralphs);"
   ]
  },
  {
   "cell_type": "markdown",
   "metadata": {},
   "source": [
    "# Unit 3: Boolean\n",
    "\n",
    "[See Jupyter Notebook #1 here](https://hetvit27.github.io/hetvitrivedi/jupyter/2022/10/18/Boolean.html)\n",
    "\n",
    "[See Jupyter Notebook #1 here](https://hetvit27.github.io/hetvitrivedi/jupyter/2022/09/10/BooleanExpression.html)\n",
    "\n",
    "\n",
    "Takeaways:\n",
    "- Whether boolean expression is true or false dictates whether the code will run\n",
    "- If-else statements sets up alternate code if the first expression turns false\n",
    "- Else-if statements allow for more conditions to be defined\n",
    "- De Morgan's law: logical operators && (and) ll(or) and !(not)\n",
    "- Comparing objects through == \n"
   ]
  },
  {
   "cell_type": "markdown",
   "metadata": {},
   "source": [
    "# Unit 4: Iteration\n",
    "\n",
    "[See Jupyter Notebook here](https://hetvit27.github.io/hetvitrivedi/college%20board/units/2022/10/10/unit4iteration.html)\n",
    "\n",
    "Takeaways:\n",
    "- While/for loops: repeats lines of code until a specific condition comes out false; can iterate over multiple elements\n",
    "- For loops are most tested\n",
    "- Strings: array chairs\n",
    "- Nested iteration: loop within a loop"
   ]
  },
  {
   "cell_type": "markdown",
   "metadata": {},
   "source": [
    "# Unit 5: Writing Classes\n",
    "\n",
    "[See Jupyter Notebook here](https://hetvit27.github.io/hetvitrivedi/college%20board/units/2022/10/10/unit4iteration.html)\n",
    "\n",
    "Takeaways:\n",
    "- Classes are blueprints to create objects and define attributes\n",
    "- Instances: attributes, constructors, methods, objects\n",
    "- Public classes: no restricted access - constructors \n",
    "- Private classes: restricted access - instance variables\n",
    "- Accessor method (getter): allows other objects to obtain values of instance variables or static variables\n",
    "- Non void methods return a single value\n",
    "- toString() method is a overridden method that provides description of a specific object\n",
    "- Mutator Method (setter): void method that changes value of instance variables/static variable "
   ]
  },
  {
   "cell_type": "markdown",
   "metadata": {},
   "source": [
    "# Unit 6: Arrays \n",
    "\n",
    "[See Jupyter Notebook #1 here](https://hetvit27.github.io/hetvitrivedi/2022/10/25/Arrays.html)\n",
    "\n",
    "[See Jupyter Notebook #2 here](https://hetvit27.github.io/hetvitrivedi/jupyter/2022/10/09/ListsandArrayLists.html)\n",
    "\n",
    "Takeaways:\n",
    "- Arrays: one type of data storage\n",
    "- Reference types\n",
    "- Need import java.util Arrays \n",
    "- Initialize arrays using constructors\n",
    "- Access elements through arrayName[index]"
   ]
  },
  {
   "cell_type": "markdown",
   "metadata": {},
   "source": [
    "# Reflection\n",
    "\n",
    "Coming into AP CSA with absolutely no background did make the beginning of the year a little difficult. I remember feeling confused and unsure about a lot of concepts my classmates already knew. However, I soon started finding my rhythm. I began feeling more comfortable asking for help to Mr. M and my peers. I felt like the lessons were important for me to learn and apply the material. I learned the importance of practical application and creating tangible projects. My favorite activity of the year was defining the N@TM project because it was cool to see the intersection of code and Physics."
   ]
  }
 ],
 "metadata": {
  "kernelspec": {
   "display_name": "Java",
   "language": "java",
   "name": "java"
  },
  "language_info": {
   "codemirror_mode": "java",
   "file_extension": ".jshell",
   "mimetype": "text/x-java-source",
   "name": "Java",
   "pygments_lexer": "java",
   "version": "17.0.4.1+1"
  },
  "orig_nbformat": 4
 },
 "nbformat": 4,
 "nbformat_minor": 2
}
