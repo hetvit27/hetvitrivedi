{
 "cells": [
  {
   "cell_type": "markdown",
   "metadata": {},
   "source": [
    "# \"Unit 1-5 Lesson Blogs\"\n",
    "> \"Lesson Notes + Tangibles\"\n",
    "\n",
    "- toc:true\n",
    "- branch: master\n",
    "- badges: true\n",
    "- comments: true\n",
    "- author: Hetvi Trivedi\n",
    "- categories: [extra]"
   ]
  },
  {
   "cell_type": "markdown",
   "metadata": {},
   "source": [
    "# Table of Scores\n",
    "\n",
    "| Unit | Score | Grading |\n",
    "| --- | --- | --- |\n",
    "| Unit 1 | 0.9/1 | [Link](https://docs.google.com/spreadsheets/d/1LG6lYp17hDaXROLX8L0f7-3NXGY8P1KYTAbHTg4vuVg/edit#gid=0) |\n",
    "| Unit 2 | 0.95/1 | [Link](https://kar722.github.io/fastpages/markdown/2022/11/29/Grading.html) |\n",
    "| Unit 3 | 0.9/1 | [Link](https://riya-patil.github.io/Riya-Patil-APCSA/2022/12/01/Unit3-Grading-(2).html) |\n",
    "| Unit 4 | 0.8/1| [Link](https://docs.google.com/spreadsheets/d/1ZdxY0y2xNr3ucfgGALu0natnx74QOfdhiWjEnxHkx6c/edit#gid=0) | \n",
    "| Unit 5 | 0.9/1|[Link](https://docs.google.com/spreadsheets/d/1aFZm759u2tpGNjJ7zaB753t2nwZ4bEZ88p9NMF37k2c/edit#gid=0)|\n",
    "| TOTAL SCORE | 4.45/5| N/A"
   ]
  },
  {
   "cell_type": "markdown",
   "metadata": {},
   "source": [
    "# Unit 1: Primitives\n",
    "\n",
    "[See Jupyter Notebook here](https://hetvit27.github.io/hetvitrivedi/collegeboard/2022/10/15/primitivedatatypes.html)\n",
    "\n",
    "Takeaways:\n",
    "- Java provides `wrapper classes` for all primitive data types like char, int, double, boolean where you can call in static methods that return values\n",
    "- Primitive wrapper objects or string objects are immutable so the methods can't change\n",
    "- Boolean, char, int, float, double are all primitive data types\n",
    "- String, Array, etc. are non-primitive data types\n",
    "- Learned to declare a variable that can be accessible and/or changed\n",
    "- Learned how to store data as variables\n",
    "- (=) is used to initialize variables or change its associated value\n",
    "- Operators are + - * / %\n",
    "- Compound operators are +=, -=, *=, /=, %=\n",
    "- Increment/decrement ++ or --\n"
   ]
  },
  {
   "cell_type": "code",
   "execution_count": 7,
   "metadata": {
    "vscode": {
     "languageId": "java"
    }
   },
   "outputs": [
    {
     "name": "stdout",
     "output_type": "stream",
     "text": [
      "2147483647\n",
      "-2147483648\n"
     ]
    }
   ],
   "source": [
    "public class Integer103\n",
    "{\n",
    "    public static void main(String[] args)\n",
    "    {\n",
    "        System.out.println(Integer.MAX_VALUE);\n",
    "        System.out.println(Integer.MIN_VALUE);\n",
    "\n",
    "        int low = Integer.MAX_VALUE;\n",
    "        int high = Integer.MIN_VALUE;\n",
    "    }\n",
    "}\n",
    "Integer103.main(null);\n",
    "// creating a class, wrapper classes for int"
   ]
  },
  {
   "cell_type": "markdown",
   "metadata": {},
   "source": [
    "# Unit 2: Objects\n",
    "\n",
    "[See Jupyter Notebook here](https://hetvit27.github.io/hetvitrivedi/collegeboard/2022/10/15/Objects.html)\n",
    "\n",
    "Takeaways: \n",
    "- Learned the difference between classes vs. objects\n",
    "- Classes are blueprints for creating objects\n",
    "- Objects are instances within a class\n",
    "- Methods: certain set of code that runs a specific task\n",
    "- Class attributes are inherited by objects\n",
    "- Learned about myPainter in Code.org\n",
    "- Non static methods are dot operators \n",
    "- Overloaded methods give multiple methods the same name with different signatures\n",
    "- Void methods don't return values\n",
    "- Non void methods return a value of the same type defined in the method signature\n",
    "- Strings are created with String class constructor\n",
    "- Wrapper class: integer and double class are part of the java.lang package\n",
    "- `Comparing numbers and objects` using .equals()\n",
    "- `static methods` are a part of a class instead of an instance of a class which is why it's in a bracket in the class \n",
    "- `class methods` were just like in Code.org lessons"
   ]
  },
  {
   "cell_type": "code",
   "execution_count": 12,
   "metadata": {
    "vscode": {
     "languageId": "java"
    }
   },
   "outputs": [
    {
     "name": "stdout",
     "output_type": "stream",
     "text": [
      "Objects are not equal, hence it's false\n"
     ]
    }
   ],
   "source": [
    "public class ComparingObjects  \n",
    "{  \n",
    "public static void main(String[] args)   \n",
    "{  \n",
    "//creating constructor of the Double class   \n",
    "Double x = new Double(100.50);  \n",
    "//creating constructor of the Long class   \n",
    "Long y = new Long(12345);  \n",
    "//invoking the equals() method   \n",
    "System.out.println(\"Objects are not equal, hence it's \" + x.equals(y));  \n",
    "}  \n",
    "}  \n",
    "ComparingObjects.main(null);\n",
    "// comparing objects using .equals()"
   ]
  },
  {
   "cell_type": "markdown",
   "metadata": {},
   "source": [
    "# Unit 3: Boolean\n",
    "\n",
    "[See Jupyter Notebook #1 here](https://hetvit27.github.io/hetvitrivedi/collegeboard/2022/10/18/Boolean.html)\n",
    "\n",
    "[See Jupyter Notebook #2 here](https://hetvit27.github.io/hetvitrivedi/jupyter/2022/09/10/BooleanExpression.html)\n",
    "\n",
    "\n",
    "Takeaways:\n",
    "- Whether boolean expression is true or false dictates whether the code will run\n",
    "- If-else statements sets up alternate code if the first expression turns false\n",
    "- Else-if statements allow for more conditions to be defined\n",
    "- De Morgan's law: logical operators && (and) ll(or) and !(not)\n",
    "- Comparing objects through == \n",
    "- `Compound boolean expression` check multiple values in a single statement with && - like `DeMorgan's Law`\n"
   ]
  },
  {
   "cell_type": "code",
   "execution_count": 24,
   "metadata": {
    "vscode": {
     "languageId": "java"
    }
   },
   "outputs": [
    {
     "name": "stdout",
     "output_type": "stream",
     "text": [
      "No, you can't go out\n"
     ]
    }
   ],
   "source": [
    "public class Test1\n",
    "{\n",
    "   public static void main(String[] args)\n",
    "   {\n",
    "     boolean cleanedRoom = true;\n",
    "     boolean didHomework = false;\n",
    "     if (cleanedRoom && didHomework)\n",
    "     {\n",
    "         System.out.println(\"You can go out\");\n",
    "     }\n",
    "     else\n",
    "     {\n",
    "         System.out.println(\"No, you can't go out\");\n",
    "     }\n",
    "   }\n",
    "}\n",
    "Test1.main(null);"
   ]
  },
  {
   "cell_type": "markdown",
   "metadata": {},
   "source": [
    "# Unit 4: Iteration\n",
    "\n",
    "[See Jupyter Notebook here](https://hetvit27.github.io/hetvitrivedi/collegeboard/2022/10/10/unit4iteration.html)\n",
    "\n",
    "Takeaways:\n",
    "- `While/for loops`: repeats lines of code until a specific condition comes out false; can iterate over multiple elements\n",
    "- For loops are most tested\n",
    "- Strings: array chairs\n",
    "- `Nested iteration`: loop within a loop like when we did the monkeys and the rhymes"
   ]
  },
  {
   "cell_type": "code",
   "execution_count": 25,
   "metadata": {
    "vscode": {
     "languageId": "java"
    }
   },
   "outputs": [
    {
     "name": "stdout",
     "output_type": "stream",
     "text": [
      "\n",
      "Monkey Jumpers Poem in Java with Objects!!!\n",
      "1 little monkey jumping on the bed...\n",
      "ʕง ͠° ͟ل͜ ͡°)ʔ  \n",
      "  \\_⏄_/   \n",
      "  --0--    \n",
      "  ⎛   ⎞    \n",
      "\n",
      "2 little monkey jumping on the bed...\n",
      "ʕง ͠° ͟ل͜ ͡°)ʔ  \n",
      "  \\_⏄_/   \n",
      "  --0--    \n",
      "  ⎛   ⎞    \n",
      "\n",
      " ʕ༼ ◕_◕ ༽ʔ \n",
      "  \\_⎏_/   \n",
      "  ++1++   \n",
      "   ⌋ ⌊    \n",
      "\n",
      "3 little monkey jumping on the bed...\n",
      "ʕง ͠° ͟ل͜ ͡°)ʔ  \n",
      "  \\_⏄_/   \n",
      "  --0--    \n",
      "  ⎛   ⎞    \n",
      "\n",
      " ʕ༼ ◕_◕ ༽ʔ \n",
      "  \\_⎏_/   \n",
      "  ++1++   \n",
      "   ⌋ ⌊    \n",
      "\n",
      " ʕ(▀ ⍡ ▀)ʔ \n",
      "  \\_⎐_/  \n",
      "  <-2->   \n",
      "  〈  〉  \n",
      "\n",
      "Too many monkeys jumping on the bed\n",
      "0000000000000000000000000000000000\n",
      "             THE END              \n"
     ]
    }
   ],
   "source": [
    "import java.util.ArrayList;\n",
    "\n",
    "/*\n",
    " * Creator: Nighthawk Coding Society\n",
    " * Mini Lab Name: Hello Series,featuring Monkey Jumpers\n",
    " */\n",
    "\n",
    "/**\n",
    " * Class for Monkey: a 2D array of Monkey\n",
    " * As well as method to print the Poem\n",
    " */\n",
    "class Monkey {\n",
    "    //The area between class definition and the 1st method is where we keep data for object in Java\n",
    "    private static ArrayList<String[]> monkeyList = new ArrayList<String[]>();    //2D Array: AP CSA Unit 8: 2D array of strings\n",
    "    private String[] monkeyASCII;\n",
    "\n",
    "    /**\n",
    "     * Constructor initializes a 2D array of Monkey\n",
    "     */\n",
    "    public Monkey(String[] monkeyASCII) {\n",
    "        this.monkeyASCII = monkeyASCII;\n",
    "        monkeyList.add(monkeyASCII);\n",
    "    }\n",
    "\n",
    "    /**\n",
    "     * Loop and print monkey in array\n",
    "     * ... repeat until you reach zero  ...\n",
    "     */\n",
    "    public static void printPoem() {\n",
    "        //begin the poem\n",
    "        System.out.println();\n",
    "        System.out.println(\"Monkey Jumpers Poem in Java with Objects!!!\");\n",
    "\n",
    "        // monkey (non-primitive) defined in constructor knows its length\n",
    "        int monkeyCount = monkeyList.size();\n",
    "        for (int i = 1; i <= monkeyCount; i++)  //loops through 2D array length forwards\n",
    "        {\n",
    "\n",
    "            //this print statement shows current count of Monkey\n",
    "            //  concatenation (+) of the loop variable and string to form a countdown message\n",
    "            System.out.println(i + \" little monkey jumping on the bed...\");\n",
    "\n",
    "            //how many separate parts are there in a monkey monkey?\n",
    "            for (int row = 0; row < i; row++) {  //cycles through \"cells\" of 2d array\n",
    "\n",
    "                /*cycles through columns to print\n",
    "                each monkey part by part, will eventually print entire column*/\n",
    "                for (int col = 0; col < monkeyList.get(row).length; col++) {\n",
    "\n",
    "                    // prints specific part of the monkey from the column\n",
    "                    System.out.print(monkeyList.get(row)[col] + \" \");\n",
    "\n",
    "                    //this is new line between separate parts\n",
    "                    System.out.println();\n",
    "                }\n",
    "                \n",
    "                //this new line gives separation between stanza of poem\n",
    "                System.out.println();\n",
    "            }\n",
    "\n",
    "            //countdown for poem, decrementing monkeyCount variable by 1\n",
    "            monkeyCount -= 1;\n",
    "        }\n",
    "\n",
    "        //out of all the loops, prints finishing messages\n",
    "        System.out.println(\"Too many monkeys jumping on the bed\");\n",
    "        System.out.println(\"0000000000000000000000000000000000\");\n",
    "        System.out.println(\"             THE END              \");\n",
    "    }\n",
    "\n",
    "   \n",
    "    /**\n",
    "    * A Java Driver/Test method that is the entry point for execution\n",
    "    */\n",
    "    public static void main(String[] args)  {\n",
    "        Monkey monkey0 = new Monkey(new String[]{\n",
    "            \"ʕง ͠° ͟ل͜ ͡°)ʔ \",      //[0][0] eyes\n",
    "            \"  \\\\_⏄_/  \",      //[0][1] chin\n",
    "            \"  --0--   \",       //[0][2] body\n",
    "            \"  ⎛   ⎞   \"        //[0][3] legs\n",
    "        });\n",
    "        Monkey monkey1 = new Monkey(new String[]{\n",
    "            \" ʕ༼ ◕_◕ ༽ʔ\",       //[1][0]\n",
    "            \"  \\\\_⎏_/  \",\n",
    "            \"  ++1++  \",\n",
    "            \"   ⌋ ⌊   \"\n",
    "        });\n",
    "        Monkey monkey2 = new Monkey(new String[]{\n",
    "            \" ʕ(▀ ⍡ ▀)ʔ\",       //[2][0]\n",
    "            \"  \\\\_⎐_/ \",\n",
    "            \"  <-2->  \",\n",
    "            \"  〈  〉 \"\n",
    "        });\n",
    "        Monkey monkey3 = new Monkey(new String[]{\n",
    "            \"ʕ ͡° ͜ʖ ° ͡ʔ\",        //[3][0]\n",
    "            \"  \\\\_⍾_/  \",\n",
    "            \"  ==3==  \",\n",
    "            \"  _/ \\\\_  \"\n",
    "        });\n",
    "        Monkey monkey4 = new Monkey(new String[]{\n",
    "            \"  (◕‿◕✿) \",          //[4][0]\n",
    "            \"  \\\\_⍾_/ \",          //[4][1]\n",
    "            \"  ==4==  \",          //[4][2]\n",
    "            \"  _/ \\\\_ \"           //[4][3]\n",
    "        });\n",
    "\n",
    "        \n",
    "        Monkey.printPoem();   //a new monkey list and output in one step\n",
    "    }\n",
    "\n",
    "}\n",
    "\n",
    "Monkey.main(null);"
   ]
  },
  {
   "cell_type": "markdown",
   "metadata": {},
   "source": [
    "# Unit 5: Writing Classes\n",
    "\n",
    "[See Jupyter Notebook here](https://hetvit27.github.io/hetvitrivedi/collegeboard/2022/10/20/Writingclasses.html)\n",
    "\n",
    "Takeaways:\n",
    "- Classes are blueprints to create objects and define attributes\n",
    "- Instances: attributes, constructors, methods, objects\n",
    "- Public classes: no restricted access - constructors \n",
    "- Private classes: restricted access - instance variables\n",
    "- `Accessor method (getter)`: allows other objects to obtain values of instance variables or static variables\n",
    "- Non void methods return a single value\n",
    "- `toString() method` is a overridden method that provides description of a specific object\n",
    "- `Mutator Method (setter)`: void method that changes value of instance variables/static variable "
   ]
  },
  {
   "cell_type": "markdown",
   "metadata": {},
   "source": [
    "# Unit 6: Arrays \n",
    "\n",
    "[See Jupyter Notebook #1 here](https://hetvit27.github.io/hetvitrivedi/2022/10/25/Arrays.html)\n",
    "\n",
    "[See Jupyter Notebook #2 here](https://hetvit27.github.io/hetvitrivedi/jupyter/2022/10/09/ListsandArrayLists.html)\n",
    "\n",
    "Takeaways:\n",
    "- Arrays: one type of data storage\n",
    "- Reference types\n",
    "- Need import java.util Arrays \n",
    "- Initialize arrays using constructors\n",
    "- Access elements through arrayName[index]"
   ]
  },
  {
   "cell_type": "markdown",
   "metadata": {},
   "source": [
    "# Reflection\n",
    "\n",
    "Coming into AP CSA with absolutely no background did make the beginning of the year a little difficult. I remember feeling confused and unsure about a lot of concepts my classmates already knew. However, I soon started finding my rhythm. I began feeling more comfortable asking for help to Mr. M and my peers. I felt like the lessons were important for me to learn and apply the material. I learned the importance of practical application and creating tangible projects. My favorite activity of the year was defining the N@TM project because it was cool to see the intersection of code and Physics."
   ]
  }
 ],
 "metadata": {
  "kernelspec": {
   "display_name": "Java",
   "language": "java",
   "name": "java"
  },
  "language_info": {
   "codemirror_mode": "java",
   "file_extension": ".jshell",
   "mimetype": "text/x-java-source",
   "name": "Java",
   "pygments_lexer": "java",
   "version": "17.0.4.1+1"
  },
  "orig_nbformat": 4
 },
 "nbformat": 4,
 "nbformat_minor": 2
}
