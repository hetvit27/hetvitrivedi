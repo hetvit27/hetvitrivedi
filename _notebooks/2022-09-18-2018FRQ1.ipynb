{
 "cells": [
  {
   "attachments": {},
   "cell_type": "markdown",
   "metadata": {},
   "source": [
    "# \"2018 FRQ 1\"\n",
    "> \"Answering Question 1 using code\"\n",
    "\n",
    "- toc:true\n",
    "- branch: master\n",
    "- badges: true\n",
    "- comments: true\n",
    "- author: Hetvi Trivedi\n",
    "- categories: [practicetests]"
   ]
  },
  {
   "cell_type": "code",
   "execution_count": null,
   "metadata": {},
   "outputs": [],
   "source": [
    "public class FrogSimulation\n",
    "{\n",
    "    /** Distance, in inches, from the starting position to the goal. */\n",
    "    private int goalDistance;\n",
    "    /** Maximum number of hops allowed to reach the goal. */\n",
    "    private int maxHops;\n",
    "    /** Constructs a FrogSimulation where dist is the distance, in inches, from the starting\n",
    "    * position to the goal, and numHops is the maximum number of hops allowed to reach the goal.\n",
    "    * Precondition: dist > 0; numHops > 0\n",
    "    */\n",
    "    public FrogSimulation(int dist, int numHops)\n",
    "{\n",
    "    goalDistance = dist;\n",
    "    maxHops = numHops;\n",
    "}\n",
    "    /** Returns an integer representing the distance, in inches, to be moved when the frog hops.\n",
    "     */\n",
    "    private int hopDistance()\n",
    "    { /* implementation not shown */ }\n",
    "    /** Simulates a frog attempting to reach the goal as described in part (a).\n",
    "    *  Returns true if the frog successfully reached or passed the goal during the simulation;\n",
    "    * false otherwise.\n",
    "    */\n",
    "    public boolean simulate()\n",
    "    { /* to be implemented in part (a) */ }\n",
    "    /** Runs num simulations and returns the proportion of simulations in which the frog\n",
    "    * successfully reached or passed the goal.\n",
    "    * Precondition: num > 0\n",
    "    */\n",
    "    public double runSimulations(int num)\n",
    "    { /* to be implemented in part (b) */ }\n",
    "}"
   ]
  },
  {
   "cell_type": "markdown",
   "metadata": {},
   "source": [
    "# Part A and Explanation\n",
    "Write the simulate method, which simulates the frog attempting to hop in a straight line to a goal from\n",
    "the frog's starting position of 0 within a maximum number of hops. The method returns true if the frog\n",
    "successfully reached the goal within the maximum number of hops; otherwise, the method returns false. "
   ]
  },
  {
   "cell_type": "code",
   "execution_count": null,
   "metadata": {},
   "outputs": [],
   "source": [
    "public boolean simulate() \n",
    "{ \n",
    "    int position = 0;\n",
    "    for (int count = 0; count < MaxHops; count++) \n",
    "    {\n",
    "        position += hopDistance(); // calling hopDistance method \n",
    "        if (position >= goalDistance) // distance of multiple hops is at least goal distance\n",
    "        {\n",
    "            return true; // goal reached\n",
    "        }\n",
    "        else if (position < 0) // distance of multiple hops is less than initial position \n",
    "        {\n",
    "            return false; // goal not reached \n",
    "        }\n",
    "    }\n",
    "    return false;\n",
    "}"
   ]
  },
  {
   "cell_type": "markdown",
   "metadata": {},
   "source": [
    "- Keep track of position and set starting position as zero \n",
    "- We have to track this position through a \"for\" loop that is initially 0 and go to our maximum number of hops \n",
    "- We need to have a code that adds hop distance to our position \n",
    "- Things that will stop the code: if we have reached the maximum number of hops OR if the position is = goal distance\n",
    "- Using the \"if/else if\" statements, if the position is greater than or equal to the goal Distance, the code will be true\n",
    "- However, if our position is negative, we want to return false\n",
    "- If neither true or false occurs, the code will run until we reach maximum number of hops \n",
    "- Starting count at 0 and keeps going until frog reaches goal distance (true) or negative position (false) or reaches maximum number of hops (false)"
   ]
  },
  {
   "cell_type": "markdown",
   "metadata": {},
   "source": [
    "# Part B and Explanation\n",
    "Write the runSimulations method, which performs a given number of simulations and returns the\n",
    "proportion of simulations in which the frog successfully reached or passed the goal. For example, if the\n",
    "parameter passed to runSimulations is 400, and 100 of the 400 simulate method calls returned\n",
    "true, then the runSimulations method should return 0.25.\n",
    "Complete method runSimulations below. Assume that simulate works as specified, regardless\n",
    "of what you wrote in part (a). You must use simulate appropriately to receive full credit."
   ]
  },
  {
   "cell_type": "code",
   "execution_count": null,
   "metadata": {},
   "outputs": [],
   "source": [
    "public double runSimulation(int num) // int is the number of times we want to run the loop; called simulate method\n",
    "{\n",
    "    int countSuccess = 0;\n",
    "    for (int i = 0; i < num; i++){  // keeps track of the counts so far\n",
    "        if (simulate()){\n",
    "            countSuccess++; // if it's successful, the hops will increase by 1\n",
    "        }\n",
    "    }\n",
    "    return (double) countSuccess / num; // gives a proportion of successes with double arthmetic\n",
    "}"
   ]
  },
  {
   "cell_type": "markdown",
   "metadata": {},
   "source": [
    "- Need to declare a double and start it at zero \n",
    "- We need to keep track of runs\n",
    "- Simulate is a boolean function that returns true or false\n",
    "- If true, then I want to increase the number of successes\n",
    "- If false, then the run is a fail \n",
    "- At the end, I want to return successes/# of simulations for the frog"
   ]
  },
  {
   "cell_type": "markdown",
   "metadata": {},
   "source": [
    "# Scoring Guidelines\n",
    "- Part A:\n",
    "    - Calls hopDistance and uses returned distance to adjust (or represent) the frog’s position\n",
    "    - Initializes and accumulates the frog’s position at most maxHops times (must be in context of a loop)\n",
    "    - Determines if a distance representing multiple hops is at least goalDistance\n",
    "    - Determines if a distance representing multiple hops is less than starting position\n",
    "    - Returns true if goal ever reached, false if goal never reached or position ever less than starting position\n",
    "- Part B\n",
    "    - Calls simulate the specified number of times (no bounds errors)\n",
    "    - Initializes and accumulates a count of true results \n",
    "    - Calculates proportion of successful simulations using double arithmetic \n",
    "    - Returns calculated value"
   ]
  }
 ],
 "metadata": {
  "kernelspec": {
   "display_name": "Java",
   "language": "java",
   "name": "java"
  },
  "language_info": {
   "name": "java",
   "version": "3.10.6"
  },
  "orig_nbformat": 4,
  "vscode": {
   "interpreter": {
    "hash": "b0fa6594d8f4cbf19f97940f81e996739fb7646882a419484c72d19e05852a7e"
   }
  }
 },
 "nbformat": 4,
 "nbformat_minor": 2
}
