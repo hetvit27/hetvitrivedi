{
 "cells": [
  {
   "attachments": {},
   "cell_type": "markdown",
   "metadata": {},
   "source": [
    "# \"FRQ 4 2019\"\n",
    "> \"Basic FRQ Completed\"\n",
    "\n",
    "- toc:true\n",
    "- branch: master\n",
    "- badges: true\n",
    "- comments: true\n",
    "- author: Hetvi Trivedi\n",
    "- categories: [collegeboard]"
   ]
  },
  {
   "attachments": {},
   "cell_type": "markdown",
   "metadata": {},
   "source": [
    "## Part A\n",
    "\n",
    "- creates an array using the boolean [numRows][numCols]\n",
    "- Access elements in 2d array that was created\n",
    "- Computes 40% probability\n",
    "- Sets all values of 2D array based on the computed probability"
   ]
  },
  {
   "cell_type": "code",
   "execution_count": null,
   "metadata": {},
   "outputs": [],
   "source": [
    "public LightBoard(int numRows, int numCols) {\n",
    "    lights = new boolean[numRows][numCols];\n",
    "    for (int r = 0; r < numRows; r++) {\n",
    "        for (int c = 0; c < numCols; c++) {\n",
    "            double onoff = Math.random();\n",
    "            lights[r][c] = onoff < 0.4;\n",
    "        }\n",
    "    }\n",
    "}"
   ]
  },
  {
   "attachments": {},
   "cell_type": "markdown",
   "metadata": {},
   "source": [
    "## Part B\n",
    "- Accesses an element of lights as a boolean\n",
    "- Traverses the columns of 2D array and counts the number of trues (lights are off & number of lights is divisible by 3)\n",
    "- Performs division calculation\n",
    "- Returns true or false according to three rules"
   ]
  },
  {
   "cell_type": "code",
   "execution_count": null,
   "metadata": {},
   "outputs": [],
   "source": [
    "public boolean evaluateLight(int row, int col){\n",
    "    int lightsOn = 0;\n",
    "    for (int r = 0; r < lights.length; r++){\n",
    "        if (lights[r][col]){\n",
    "            lightsOn++;\n",
    "        }\n",
    "    }\n",
    "    if (lights[row][col] && lightsOn % 2 == 0){\n",
    "        return false;\n",
    "    }\n",
    "    if (!lights[row][col] && lightsOn % 3 == 0){\n",
    "        return true;\n",
    "    }\n",
    "    return lights[row][col];\n",
    "}\n"
   ]
  }
 ],
 "metadata": {
  "kernelspec": {
   "display_name": "Java",
   "language": "java",
   "name": "java"
  },
  "language_info": {
   "name": "java",
   "version": "3.10.6 (main, Aug 11 2022, 13:36:31) [Clang 13.1.6 (clang-1316.0.21.2.5)]"
  },
  "orig_nbformat": 4,
  "vscode": {
   "interpreter": {
    "hash": "b0fa6594d8f4cbf19f97940f81e996739fb7646882a419484c72d19e05852a7e"
   }
  }
 },
 "nbformat": 4,
 "nbformat_minor": 2
}
