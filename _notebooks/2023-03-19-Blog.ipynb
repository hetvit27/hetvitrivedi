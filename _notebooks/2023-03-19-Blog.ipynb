{
 "cells": [
  {
   "attachments": {},
   "cell_type": "markdown",
   "metadata": {},
   "source": [
    "# \"Unit 3 and 4 Concepts + Ideas\"\n",
    "> \"Thematic ideas for lesson development\"\n",
    "\n",
    "- toc:true\n",
    "- branch: master\n",
    "- badges: true\n",
    "- comments: true\n",
    "- author: Hetvi Trivedi\n",
    "- categories: [collegeboard]"
   ]
  },
  {
   "cell_type": "markdown",
   "metadata": {},
   "source": [
    "# Unit 3\n",
    "\n",
    "## Boolean Expressions and Operators \n",
    "- Operators used to create boolean expressions\n",
    "-  == equals o (two primitive types have the same value)\n",
    "- \"!= checks for inequality (not equal)\n",
    "- \"<\" less than\n",
    "- \"<=\" less than or equal to\n",
    "- \">\" greater than\n",
    "- \">=\" greater than or equal to\n",
    "- Use boolean statements in conjunction with other operators as well, such as in the following statement: (a%2) == 0\n",
    "- Thematic idea: you are buying a car and you want to compare prices. you can idealistically have a code that allows you to input different car prices and compares them using these boolean operators and then return true and false\n",
    "\n",
    "## Conditional Statements\n",
    "- If statements: occurs if a block of code is only run if the condition is true. Here is the anatomy of an if statement\n",
    "- Thematic idea: use conditional statements like and if statement if there are certain restrictions someone wants on a car\n",
    "- If else statements: We have just covered if statements, but what if we want something to be done if the condition that we are checking is false? This is where the else statement comes into play. The header for the else does not have a condition and is just \"else\" while the body is what is performed if the condition for the if statement is false.\n",
    "- Rounding numbers\n",
    "- Else if statements: The body of a certain else if statement only runs if all the previous conditions were false and the condition of that particular else if statement is true.\n",
    "- Example: seeing if a number is divisible or leap year\n",
    "\n",
    "## Compound Boolean\n",
    "- Nested conditionals\n",
    "- ! (NOT) negates whatever is in front of it\n",
    "- && (AND) returns true if BOTH the statement directly preceding it and the statement following it are true\n",
    "- || (OR) returns true if at least one of the statements directly preceding or following it is true\n",
    "- You can use compound operators to create compound boolean expressions\n",
    "\n",
    "## Comparing Object\n",
    "-  check if two objects have the same characteristics, such as two different String objects saying the same text\n",
    "- the equals operator for most classes returns true if their attributes are the same, even though they aren't the same object (like identical twins!)."
   ]
  },
  {
   "attachments": {},
   "cell_type": "markdown",
   "metadata": {},
   "source": [
    "# Unit 4\n",
    "## While Loops\n",
    "- loop keeps running while condition is true \n",
    "- Condition is a boolean statement and the loop body is a statement that is repeated while the condition is true. Once the condition is no longer true, the loop is exited\n",
    "- Problems: infinite loop or fully false loop \n",
    "- Structure: \n",
    "int i = 0;\n",
    "while (i < numberOfRepetitions) {\n",
    "  do something\n",
    "  i++;\n",
    "}\n",
    "- integer i as an increment and increases by 1 every time the loop is run\n",
    "- break statements to exit a loop immediately\n",
    "- continue statements for jumping loops \n",
    "- try catch statements for exceptions\n",
    "## For Loops\n",
    "- used when the number of repetitions is fixed\n",
    "- for loop header includes: variable initialization, a conditional expression, and an incrementer\n",
    "- The initialization is the int i = 0, the conditional expression is the i < numberOfTimesToRepeat, and the incrementer is the i++. \n",
    "\n",
    "## Algorithms using Strings\n",
    "- Reversing a string = get character and make it into a string using a for loop\n",
    "- Get all substrings with a certain length \"n\"\n",
    "## Nested Iteration\n",
    "- Loop inside a loop\n",
    "- If there are two nested for loops without break statements, and the outer loop runs n times, and the inner loop runs m times for every iteration of the outer loop, then the inner loop will run m*n times. This can be extended to situations where there are more than 2 nested loops. The total number of times the innermost loop is run is the product of the number of times that each loop runs per iteration."
   ]
  }
 ],
 "metadata": {
  "kernelspec": {
   "display_name": "Java",
   "language": "java",
   "name": "java"
  },
  "language_info": {
   "name": "java"
  },
  "orig_nbformat": 4
 },
 "nbformat": 4,
 "nbformat_minor": 2
}
