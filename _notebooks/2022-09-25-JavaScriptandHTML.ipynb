{
 "cells": [
  {
   "cell_type": "markdown",
   "metadata": {},
   "source": [
    "# \"Java Script and HTML\"\n",
    "> \"Variables, Functions, Arrays, IJavaScript HTML, using Jupyter Notebooks + Hacks \"\n",
    "\n",
    "- toc:true\n",
    "- branch: master\n",
    "- badges: true\n",
    "- comments: true\n",
    "- author: Hetvi Trivedi\n",
    "- categories: [jupyter]"
   ]
  },
  {
   "cell_type": "markdown",
   "metadata": {},
   "source": [
    "# Console Log Output"
   ]
  },
  {
   "cell_type": "code",
   "execution_count": 2,
   "metadata": {},
   "outputs": [
    {
     "name": "stdout",
     "output_type": "stream",
     "text": [
      "Hello, World!\n"
     ]
    }
   ],
   "source": [
    "console.log(\"Hello, World!\");\n"
   ]
  },
  {
   "cell_type": "code",
   "execution_count": 3,
   "metadata": {},
   "outputs": [
    {
     "name": "stdout",
     "output_type": "stream",
     "text": [
      "Hello, World!\n"
     ]
    }
   ],
   "source": [
    "var msg = \"Hello, World!\";\n",
    "console.log(msg);\n"
   ]
  },
  {
   "cell_type": "code",
   "execution_count": 4,
   "metadata": {},
   "outputs": [
    {
     "name": "stdout",
     "output_type": "stream",
     "text": [
      "Hello, World!\n"
     ]
    }
   ],
   "source": [
    "function logIt(output) {\n",
    "    console.log(output);\n",
    "}\n",
    "logIt(msg);"
   ]
  },
  {
   "cell_type": "code",
   "execution_count": 5,
   "metadata": {},
   "outputs": [
    {
     "name": "stdout",
     "output_type": "stream",
     "text": [
      "Reuse!\n",
      "Hello, Students!\n",
      "2022\n"
     ]
    }
   ],
   "source": [
    "console.log(\"Reuse!\")\n",
    "logIt(\"Hello, Students!\");\n",
    "logIt(2022)"
   ]
  },
  {
   "cell_type": "code",
   "execution_count": 7,
   "metadata": {},
   "outputs": [
    {
     "name": "stdout",
     "output_type": "stream",
     "text": [
      "Looking at dynamic nature of types in JavaScript\n",
      "string ; Hi Class!\n",
      "number ; 2022\n",
      "object ; [ 1, 2, 3 ]\n"
     ]
    }
   ],
   "source": [
    "function logItType(output) {\n",
    "    console.log(typeof output, \";\", output);\n",
    "}\n",
    "console.log(\"Looking at dynamic nature of types in JavaScript\")\n",
    "logItType(\"Hi Class!\"); // String\n",
    "logItType(2022);    // Number\n",
    "logItType([1, 2, 3]); "
   ]
  },
  {
   "cell_type": "markdown",
   "metadata": {},
   "source": [
    "# Building a Person Function/Class object"
   ]
  },
  {
   "cell_type": "code",
   "execution_count": 8,
   "metadata": {},
   "outputs": [
    {
     "name": "stdout",
     "output_type": "stream",
     "text": [
      "object ; Person { name: 'Mr M', ghID: 'jm1021', classOf: 1977, role: '' }\n",
      "string ; {\"name\":\"Mr M\",\"ghID\":\"jm1021\",\"classOf\":1977,\"role\":\"\"}\n",
      "object ; Person { name: 'Mr M', ghID: 'jm1021', classOf: 1977, role: 'Teacher' }\n",
      "string ; {\"name\":\"Mr M\",\"ghID\":\"jm1021\",\"classOf\":1977,\"role\":\"Teacher\"}\n"
     ]
    }
   ],
   "source": [
    "// define a function to hold data for a Person\n",
    "function Person(name, ghID, classOf) {\n",
    "    this.name = name;\n",
    "    this.ghID = ghID;\n",
    "    this.classOf = classOf;\n",
    "    this.role = \"\";\n",
    "}\n",
    "\n",
    "// define a setter for role in Person data\n",
    "Person.prototype.setRole = function(role) {\n",
    "    this.role = role;\n",
    "}\n",
    "\n",
    "// define a JSON conversion \"method\" associated with Person\n",
    "Person.prototype.toJSON = function() {\n",
    "    const obj = {name: this.name, ghID: this.ghID, classOf: this.classOf, role: this.role};\n",
    "    const json = JSON.stringify(obj);  // json/string is useful when passing data on internet\n",
    "    return json;\n",
    "}\n",
    "\n",
    "// make a new Person and assign to variable teacher\n",
    "var teacher = new Person(\"Mr M\", \"jm1021\", 1977);  // object type is easy to work with in JavaScript\n",
    "logItType(teacher);  // before role\n",
    "logItType(teacher.toJSON());  // ok to do this even though role is not yet defined\n",
    "\n",
    "// output of Object and JSON/string associated with Teacher\n",
    "teacher.setRole(\"Teacher\");   // set the role\n",
    "logItType(teacher); \n",
    "logItType(teacher.toJSON());"
   ]
  },
  {
   "cell_type": "code",
   "execution_count": 9,
   "metadata": {},
   "outputs": [
    {
     "ename": "ReferenceError",
     "evalue": "Classroom is not defined",
     "output_type": "error",
     "traceback": [
      "evalmachine.<anonymous>:2",
      "Classroom.prototype._toHtml = function() {",
      "^",
      "",
      "ReferenceError: Classroom is not defined",
      "    at evalmachine.<anonymous>:2:1",
      "    at Script.runInThisContext (vm.js:96:20)",
      "    at Object.runInThisContext (vm.js:303:38)",
      "    at run ([eval]:1020:15)",
      "    at onRunRequest ([eval]:864:18)",
      "    at onMessage ([eval]:828:13)",
      "    at process.emit (events.js:182:13)",
      "    at emit (internal/child_process.js:812:12)",
      "    at process._tickCallback (internal/process/next_tick.js:63:19)"
     ]
    }
   ],
   "source": [
    "// define an HTML conversion \"method\" associated with Classroom\n",
    "Classroom.prototype._toHtml = function() {\n",
    "  // HTML Style is build using inline structure\n",
    "  var style = (\n",
    "    \"display:inline-block;\" +\n",
    "    \"border: 2px solid grey;\" +\n",
    "    \"box-shadow: 0.8em 0.4em 0.4em grey;\"\n",
    "  );\n",
    "\n",
    "  // HTML Body of Table is build as a series of concatenations (+=)\n",
    "  var body = \"\";\n",
    "  // Heading for Array Columns\n",
    "  body += \"<tr>\";\n",
    "  body += \"<th><mark>\" + \"Name\" + \"</mark></th>\";\n",
    "  body += \"<th><mark>\" + \"GitHub ID\" + \"</mark></th>\";\n",
    "  body += \"<th><mark>\" + \"Class Of\" + \"</mark></th>\";\n",
    "  body += \"<th><mark>\" + \"Role\" + \"</mark></th>\";\n",
    "  body += \"</tr>\";\n",
    "  // Data of Array, iterate through each row of compsci.classroom \n",
    "  for (var row in compsci.classroom) {\n",
    "    // tr for each row, a new line\n",
    "    body += \"<tr>\";\n",
    "    // td for each column of data\n",
    "    body += \"<td>\" + compsci.classroom[row].name + \"</td>\";\n",
    "    body += \"<td>\" + compsci.classroom[row].ghID + \"</td>\";\n",
    "    body += \"<td>\" + compsci.classroom[row].classOf + \"</td>\";\n",
    "    body += \"<td>\" + compsci.classroom[row].role + \"</td>\";\n",
    "    // tr to end line\n",
    "    body += \"<tr>\";\n",
    "  }\n",
    "\n",
    "   // Build and HTML fragment of div, table, table body\n",
    "  return (\n",
    "    \"<div style='\" + style + \"'>\" +\n",
    "      \"<table>\" +\n",
    "        body +\n",
    "      \"</table>\" +\n",
    "    \"</div>\"\n",
    "  );\n",
    "\n",
    "};\n",
    "\n",
    "// IJavaScript HTML processor receive parameter of defined HTML fragment\n",
    "$$.html(compsci._toHtml());"
   ]
  },
  {
   "cell_type": "code",
   "execution_count": 11,
   "metadata": {},
   "outputs": [
    {
     "ename": "SyntaxError",
     "evalue": "Unexpected end of input",
     "output_type": "error",
     "traceback": [
      "evalmachine.<anonymous>:19",
      "    resultContainer.appendChild(tr);",
      "                                   ^",
      "",
      "SyntaxError: Unexpected end of input",
      "    at new Script (vm.js:79:7)",
      "    at createScript (vm.js:251:10)",
      "    at Object.runInThisContext (vm.js:303:10)",
      "    at run ([eval]:1020:15)",
      "    at onRunRequest ([eval]:864:18)",
      "    at onMessage ([eval]:828:13)",
      "    at process.emit (events.js:182:13)",
      "    at emit (internal/child_process.js:812:12)",
      "    at process._tickCallback (internal/process/next_tick.js:63:19)"
     ]
    }
   ],
   "source": [
    "const resultContainer = document.getElementById(\"result\");\n",
    "\n",
    "for (const row of data) {\n",
    "    // tr for each row\n",
    "    const tr = document.createElement(\"tr\");\n",
    "    // td for each column\n",
    "    const joke = document.createElement(\"td\");\n",
    "    const haha = document.createElement(\"td\");\n",
    "    const boohoo = document.createElement(\"td\");\n",
    "    // data is specific to the API\n",
    "    joke.innerHTML = row.joke;\n",
    "    haha.innerHTML = row.haha; \n",
    "    boohoo.innerHTML = row.boohoo; \n",
    "    // this build td's into tr\n",
    "    tr.appendChild(joke);\n",
    "    tr.appendChild(haha);\n",
    "    tr.appendChild(boohoo);\n",
    "    // add HTML to container\n",
    "    resultContainer.appendChild(tr);"
   ]
  }
 ],
 "metadata": {
  "kernelspec": {
   "display_name": "JavaScript (Node.js)",
   "language": "javascript",
   "name": "javascript"
  },
  "language_info": {
   "file_extension": ".js",
   "mimetype": "application/javascript",
   "name": "javascript",
   "version": "10.13.0"
  },
  "orig_nbformat": 4,
  "vscode": {
   "interpreter": {
    "hash": "b0fa6594d8f4cbf19f97940f81e996739fb7646882a419484c72d19e05852a7e"
   }
  }
 },
 "nbformat": 4,
 "nbformat_minor": 2
}
