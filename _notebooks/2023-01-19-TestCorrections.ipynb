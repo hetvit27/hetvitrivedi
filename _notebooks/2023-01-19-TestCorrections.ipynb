{
 "cells": [
  {
   "attachments": {},
   "cell_type": "markdown",
   "metadata": {},
   "source": [
    "# \"66 Question Test Review\"\n",
    "> \"Collegeboard Practice Test Corrections\"\n",
    "\n",
    "- toc:true\n",
    "- branch: master\n",
    "- badges: true\n",
    "- comments: true\n",
    "- author: Hetvi Trivedi\n",
    "- categories: [collegeboard]"
   ]
  },
  {
   "attachments": {},
   "cell_type": "markdown",
   "metadata": {},
   "source": [
    "# Score: 48/66 or 73%\n"
   ]
  },
  {
   "attachments": {},
   "cell_type": "markdown",
   "metadata": {},
   "source": [
    "## Experience\n",
    "\n",
    "The test took me roughly over an hour to complete. I had to guess on some of the questions and reference google and different websites. I definitely am rusty on multiple choice after not practicing it for a long time. I feel like we spent a lot of time on FRQ review so far this trimester that I'll perform better on that section of the test. I feel as though I did better on the recursion problems though which was a concept I struggled with on the test we took at the end of Trimester 1."
   ]
  },
  {
   "attachments": {},
   "cell_type": "markdown",
   "metadata": {},
   "source": [
    "## Weak Areas \n",
    "- 2D Arrays\n",
    "- Traversing 2D Arrays\n",
    "- String Methods\n",
    "- Array Lists\n",
    "- Traversing Array Lists"
   ]
  },
  {
   "attachments": {},
   "cell_type": "markdown",
   "metadata": {},
   "source": [
    "### Question 9"
   ]
  },
  {
   "attachments": {},
   "cell_type": "markdown",
   "metadata": {},
   "source": [
    "![](../images/q1.png)"
   ]
  },
  {
   "attachments": {},
   "cell_type": "markdown",
   "metadata": {},
   "source": [
    "- Answer is choice > 10 because when choice is greater than 10, code segment A will print \"blue\" and the else statements are not executed. Code segment B will print \"blue\" but will then execute the next if statement and print \"yellow.\" So, different values will be produced."
   ]
  },
  {
   "attachments": {},
   "cell_type": "markdown",
   "metadata": {},
   "source": [
    "### Question 10"
   ]
  },
  {
   "attachments": {},
   "cell_type": "markdown",
   "metadata": {},
   "source": [
    "![](../images/q2.png)"
   ]
  },
  {
   "attachments": {},
   "cell_type": "markdown",
   "metadata": {},
   "source": [
    "- Answer: The two code segments print the same value only when grade is below 80. Code segment I uses else statements so points increase by a single digit. Code segment II does not use else statements and points can increase multiple times. 80 and above is when the segments print the same."
   ]
  },
  {
   "attachments": {},
   "cell_type": "markdown",
   "metadata": {},
   "source": [
    "### Question 16"
   ]
  },
  {
   "attachments": {},
   "cell_type": "markdown",
   "metadata": {},
   "source": [
    "![](../images/q3.png)"
   ]
  },
  {
   "attachments": {},
   "cell_type": "markdown",
   "metadata": {},
   "source": [
    "- Line 8 should be changed to for (int[] row: arr) because Line 8\n",
    "should assign a row a 1D array of numbers. The original code tries to assign a row of col, but col is not a two-dimensional array."
   ]
  },
  {
   "attachments": {},
   "cell_type": "markdown",
   "metadata": {},
   "source": [
    "### Question 19"
   ]
  },
  {
   "attachments": {},
   "cell_type": "markdown",
   "metadata": {},
   "source": [
    "![](../images/q4.png)"
   ]
  },
  {
   "attachments": {},
   "cell_type": "markdown",
   "metadata": {},
   "source": [
    "- (a < b) || (c < d) because using De Morgan's law, the given expression is the same as this one"
   ]
  }
 ],
 "metadata": {
  "kernelspec": {
   "display_name": "Java",
   "language": "java",
   "name": "java"
  },
  "language_info": {
   "name": "java",
   "version": "3.10.9 (main, Dec 15 2022, 10:44:50) [Clang 14.0.0 (clang-1400.0.29.202)]"
  },
  "orig_nbformat": 4,
  "vscode": {
   "interpreter": {
    "hash": "b0fa6594d8f4cbf19f97940f81e996739fb7646882a419484c72d19e05852a7e"
   }
  }
 },
 "nbformat": 4,
 "nbformat_minor": 2
}
