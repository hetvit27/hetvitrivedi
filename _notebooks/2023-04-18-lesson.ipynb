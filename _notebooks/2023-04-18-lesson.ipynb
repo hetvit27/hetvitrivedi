{
 "cells": [
  {
   "attachments": {},
   "cell_type": "markdown",
   "metadata": {},
   "source": [
    "# Arrays, 2D Arrays, and ArrayLists\n",
    "> CB Units 6, 7, 8\n",
    "\n",
    "- toc: true \n",
    "- badges: true\n",
    "- comments: true\n",
    "- categories: [jupyter]"
   ]
  },
  {
   "attachments": {},
   "cell_type": "markdown",
   "metadata": {},
   "source": [
    "# ArrayList Hacks"
   ]
  },
  {
   "attachments": {},
   "cell_type": "markdown",
   "metadata": {},
   "source": [
    "## Hack 1"
   ]
  },
  {
   "cell_type": "code",
   "execution_count": null,
   "metadata": {
    "vscode": {
     "languageId": "java"
    }
   },
   "outputs": [],
   "source": [
    "interface Turtle {\n",
    "}\n",
    "ArrayList<Boolean> booleans = new ArrayList<Boolean>();\n",
    "\n",
    "ArrayList<Turtle> turtles = new ArrayList<Turtle>();\n",
    "\n",
    "ArrayList<String> strings = new ArrayList<String>(10);"
   ]
  },
  {
   "attachments": {},
   "cell_type": "markdown",
   "metadata": {},
   "source": [
    "## Hack 2\n",
    "Choose 3 different methods from above to change around this sample ArrayList:"
   ]
  },
  {
   "cell_type": "code",
   "execution_count": 1,
   "metadata": {
    "vscode": {
     "languageId": "java"
    }
   },
   "outputs": [
    {
     "name": "stdout",
     "output_type": "stream",
     "text": [
      "ArrayList: [1, 4, 7, 12, 23]\n",
      "ArrayList: [2, 7, 12, 23, 2]\n"
     ]
    }
   ],
   "source": [
    "import java.util.ArrayList;\n",
    "\n",
    "public class Hack2 {\n",
    "    public static void main(Integer[] args) {\n",
    "        ArrayList<Integer> randomNumbers = new ArrayList<Integer>();\n",
    "        randomNumbers.add(1);\n",
    "        randomNumbers.add(4);\n",
    "        randomNumbers.add(7);\n",
    "        randomNumbers.add(12);\n",
    "        randomNumbers.add(23);\n",
    "        System.out.println(\"ArrayList: \" + randomNumbers);\n",
    "\n",
    "        randomNumbers.add(2);\n",
    "        randomNumbers.remove(1);\n",
    "        randomNumbers.set(0,2);\n",
    "        System.out.println(\"ArrayList: \" + randomNumbers);\n",
    "    }\n",
    "}\n",
    "Hack2.main(null);"
   ]
  },
  {
   "attachments": {},
   "cell_type": "markdown",
   "metadata": {},
   "source": [
    "## Hack 3\n",
    "Here is some sample code for the total sum of integers. Finish the loop!"
   ]
  },
  {
   "cell_type": "code",
   "execution_count": 4,
   "metadata": {
    "vscode": {
     "languageId": "java"
    }
   },
   "outputs": [
    {
     "name": "stdout",
     "output_type": "stream",
     "text": [
      "ArrayList: [1, 4, 7, 12, 23]\n",
      "47"
     ]
    }
   ],
   "source": [
    "public class Hack3 {\n",
    "    public static void main(String[] args) {\n",
    "        ArrayList<Integer> values = new ArrayList<Integer>();\n",
    "        values.add(1);\n",
    "        values.add(4);\n",
    "        values.add(7);\n",
    "        values.add(12);\n",
    "        values.add(23);\n",
    "        System.out.println(\"ArrayList: \" + values);\n",
    "        \n",
    "        int total = 0;\n",
    "\n",
    "            for (int i=0; i < values.size(); i++) {\n",
    "                total+=values.get(i);\n",
    "            }\n",
    "\n",
    "        System.out.print(total);\n",
    "    }\n",
    "}\n",
    "Hack3.main(null);"
   ]
  },
  {
   "attachments": {},
   "cell_type": "markdown",
   "metadata": {},
   "source": [
    "## Hack 4\n",
    "Complete the Selection sort sample code by writing code for a swap of elements."
   ]
  },
  {
   "cell_type": "code",
   "execution_count": 6,
   "metadata": {
    "vscode": {
     "languageId": "java"
    }
   },
   "outputs": [
    {
     "name": "stdout",
     "output_type": "stream",
     "text": [
      "3 5 6 8 9 19 24 44 "
     ]
    }
   ],
   "source": [
    "int [] arr = {5, 6, 24, 8, 9, 19, 44, 3};\n",
    "\n",
    "for (int i = 0; i < arr.length; i++) {\n",
    " \n",
    "    // nested loop 1 index ahead\n",
    "    for (int j = i + 1; j < arr.length; j++) {\n",
    "\n",
    "        // comparing elements\n",
    "        int temp = 0;\n",
    "        if (arr[j] < arr[i]) {\n",
    "\n",
    "            temp = arr[j];\n",
    "            arr[j]=arr[i];\n",
    "            arr[i]=temp;\n",
    "            \n",
    "        }\n",
    "    }\n",
    "\n",
    "    // Printing sorted array \n",
    "    System.out.print(arr[i] + \" \");\n",
    "}"
   ]
  },
  {
   "attachments": {},
   "cell_type": "markdown",
   "metadata": {},
   "source": [
    "# Array and 2D Array Hacks"
   ]
  },
  {
   "attachments": {},
   "cell_type": "markdown",
   "metadata": {},
   "source": [
    "## Hack 5\n",
    "Make an array and iterate through it to only print the elements with even indexes (this includes 0). Then iterate through it again to only print the odd indexes."
   ]
  },
  {
   "cell_type": "code",
   "execution_count": 7,
   "metadata": {
    "vscode": {
     "languageId": "java"
    }
   },
   "outputs": [
    {
     "name": "stdout",
     "output_type": "stream",
     "text": [
      "1 5 9 13 \n",
      "3 7 11 15 "
     ]
    }
   ],
   "source": [
    "int [] arr = {1, 3, 5, 7, 9, 11, 13, 15};\n",
    "\n",
    "for(int i = 0; i < arr.length; i+=2){\n",
    "    System.out.print(arr[i]+ \" \");\n",
    "}\n",
    "\n",
    "System.out.println();\n",
    "\n",
    "for(int i = 1; i < arr.length; i+=2){\n",
    "    System.out.print(arr[i]+ \" \");\n",
    "}"
   ]
  },
  {
   "attachments": {},
   "cell_type": "markdown",
   "metadata": {},
   "source": [
    "## Hack 6\n",
    "Create a 2D array and iterate through it to print all of its elements."
   ]
  },
  {
   "cell_type": "code",
   "execution_count": 8,
   "metadata": {
    "vscode": {
     "languageId": "java"
    }
   },
   "outputs": [
    {
     "name": "stdout",
     "output_type": "stream",
     "text": [
      "1 2 3 \n",
      "4 5 6 \n",
      "7 8 9 \n"
     ]
    }
   ],
   "source": [
    "int[][] arr = {{1, 2, 3}, {4, 5, 6}, {7, 8, 9}};\n",
    "\n",
    "for (int i = 0; i < arr.length; i++) {\n",
    "    for (int j = 0; j < arr[i].length; j++) {\n",
    "        System.out.print(arr[i][j] + \" \");\n",
    "    }\n",
    "    System.out.println();\n",
    "}"
   ]
  },
  {
   "attachments": {},
   "cell_type": "markdown",
   "metadata": {},
   "source": [
    "# Homework Part 1\n",
    "\n",
    "Write a seating chart program for your group. Meet the following requirements:\n",
    "- A 2D array, array, or ArrayList\n",
    "- A minimum of 3 methods to manipulate the seating chart (ex. alphabetize, shuffle seats, add/replace/delete people)\n",
    "- Print results"
   ]
  },
  {
   "cell_type": "code",
   "execution_count": 3,
   "metadata": {
    "vscode": {
     "languageId": "java"
    }
   },
   "outputs": [
    {
     "name": "stdout",
     "output_type": "stream",
     "text": [
      "Original seating chart:\n",
      "Iris Sahil Ellen \n",
      "Nathan Rohit Jun \n",
      "Alphabetized seating chart:\n",
      "Iris Sahil Ellen \n",
      "Nathan Rohit Jun \n",
      "Shuffled seating chart:\n",
      "Iris Rohit Ellen \n",
      "Nathan Sahil Jun \n",
      "Added person to row 0, col 2:\n",
      "Iris Rohit Grace \n",
      "Nathan Sahil Jun \n"
     ]
    }
   ],
   "source": [
    "import java.util.Arrays;\n",
    "import java.util.Random;\n",
    "\n",
    "public class SeatingChart {\n",
    "    private String[][] chart;\n",
    "\n",
    "    public SeatingChart(String[][] chart) {\n",
    "        this.chart = chart;\n",
    "    }\n",
    "\n",
    "    public void alphabetize() {\n",
    "        Arrays.sort(chart, (a, b) -> a[0].compareToIgnoreCase(b[0]));\n",
    "    }\n",
    "\n",
    "    public void shuffleSeats() {\n",
    "        Random rand = new Random();\n",
    "        for (int i = chart.length - 1; i > 0; i--) {\n",
    "            for (int j = chart[i].length - 1; j > 0; j--) {\n",
    "                int randomRow = rand.nextInt(i + 1);\n",
    "                int randomCol = rand.nextInt(j + 1);\n",
    "                String temp = chart[i][j];\n",
    "                chart[i][j] = chart[randomRow][randomCol];\n",
    "                chart[randomRow][randomCol] = temp;\n",
    "            }\n",
    "        }\n",
    "    }\n",
    "\n",
    "    public void addPerson(int row, int col, String name) {\n",
    "        chart[row][col] = name;\n",
    "    }\n",
    "\n",
    "    public void deletePerson(int row, int col) {\n",
    "        chart[row][col] = null;\n",
    "    }\n",
    "\n",
    "    public void printChart() {\n",
    "        for (int i = 0; i < chart.length; i++) {\n",
    "            for (int j = 0; j < chart[i].length; j++) {\n",
    "                System.out.print(chart[i][j] + \" \");\n",
    "            }\n",
    "            System.out.println();\n",
    "        }\n",
    "    }\n",
    "\n",
    "    public static void main(String[] args) {\n",
    "        String[][] chart = {{\"Iris\", \"Sahil\", \"Ellen\"}, {\"Nathan\", \"Rohit\", \"Jun\"}};\n",
    "        SeatingChart seatingChart = new SeatingChart(chart);\n",
    "        System.out.println(\"Original seating chart:\");\n",
    "        seatingChart.printChart();\n",
    "\n",
    "        System.out.println(\"Alphabetized seating chart:\");\n",
    "        seatingChart.alphabetize();\n",
    "        seatingChart.printChart();\n",
    "\n",
    "        System.out.println(\"Shuffled seating chart:\");\n",
    "        seatingChart.shuffleSeats();\n",
    "        seatingChart.printChart();\n",
    "\n",
    "        System.out.println(\"Added person to row 0, col 2:\");\n",
    "        seatingChart.addPerson(0, 2, \"Grace\");\n",
    "        seatingChart.printChart();\n",
    "    }\n",
    "}\n",
    "SeatingChart.main(null);"
   ]
  },
  {
   "attachments": {},
   "cell_type": "markdown",
   "metadata": {},
   "source": [
    "# Extra credit\n",
    "- Complete a College Board FRQ involving arrays/ArrayLists"
   ]
  },
  {
   "attachments": {},
   "cell_type": "markdown",
   "metadata": {},
   "source": [
    "## 2018 Question 2 ArrayList/Arrays"
   ]
  },
  {
   "cell_type": "code",
   "execution_count": null,
   "metadata": {
    "vscode": {
     "languageId": "java"
    }
   },
   "outputs": [],
   "source": [
    "// Part A\n",
    "public WordPairList(String [] words){\n",
    "    this.allPairs = new ArrayList<WordPair>();\n",
    "    for(int i = 0; i < words.length -1; i++) {\n",
    "        for(int j = i+1; j < words.length; j++) {\n",
    "            WordPair newPair = new WordPair(words[i], words[j]);\n",
    "            this.allPairs.add(newPair);\n",
    "        }\n",
    "    }\n",
    "}\n"
   ]
  },
  {
   "cell_type": "code",
   "execution_count": null,
   "metadata": {
    "vscode": {
     "languageId": "java"
    }
   },
   "outputs": [],
   "source": [
    "// Part B\n",
    "public int numMatches() {\n",
    "    int matches = 0;\n",
    "    for(int i = 0; i < this.allPairs.size(); i++) {\n",
    "        WordPair pair = this.allPairs.get(i);\n",
    "        if(pair.getFirst().equals(pair.getSecond())) {\n",
    "            matches ++;\n",
    "        }\n",
    "    }\n",
    "    return matches;\n",
    "}"
   ]
  }
 ],
 "metadata": {
  "kernelspec": {
   "display_name": "Java",
   "language": "java",
   "name": "java"
  },
  "language_info": {
   "codemirror_mode": "java",
   "file_extension": ".jshell",
   "mimetype": "text/x-java-source",
   "name": "Java",
   "pygments_lexer": "java",
   "version": "17.0.4.1+1"
  },
  "orig_nbformat": 4
 },
 "nbformat": 4,
 "nbformat_minor": 2
}
