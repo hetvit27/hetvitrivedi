{
 "cells": [
  {
   "cell_type": "markdown",
   "metadata": {},
   "source": [
    "## Lesson Purpose and Objectives \n",
    " \n",
    "- Learn about how to write simple recursive methods and determine the purpose or output of a recursive method by tracing\n",
    "- Determine the result of recursive method calls \n",
    "- Primarily on the multiple choice section; students asked to determine result or describe the behavior of a recursive method\n",
    "- 5 to 7.5% exam weighting \n"
   ]
  },
  {
   "cell_type": "markdown",
   "metadata": {},
   "source": [
    "## 10.1 Recursion\n",
    "\n",
    "- A recursive method is a method that calls itself\n",
    "- Contain at least one base case, which halts the recursion, and at least one recursive call\n",
    "- Each call has its own set of local variables\n",
    "- Parameter values capture the progress of\n",
    "a recursive process, much like loop control\n",
    "variable values capture the progress of a loop\n",
    "- Any recursive solution can be replicated\n",
    "through the use of an iterative approach\n",
    "- Writing code is not apart of the curriculum \n",
    "- Recursion can be used to traverse String, array, and ArrayList objects\n"
   ]
  },
  {
   "cell_type": "markdown",
   "metadata": {},
   "source": [
    "# 10.2 Recursive Searching and Sorting\n",
    "- Data must be in sorted order to use the binary\n",
    "search algorithm\n",
    "- The binary search algorithm starts at the\n",
    "middle of a sorted array or ArrayList and\n",
    "eliminates half of the array or ArrayList in\n",
    "each iteration until the desired value is found or\n",
    "all elements have been eliminated\n",
    "- Binary search can be more efficient than\n",
    "sequential/linear search\n",
    "- The binary search algorithm can be written\n",
    "either iteratively or recursively\n",
    "- Merge sort is a recursive sorting algorithm\n",
    "that can be used to sort elements in an array\n",
    "or ArrayList"
   ]
  }
 ],
 "metadata": {
  "kernelspec": {
   "display_name": "Java",
   "language": "java",
   "name": "java"
  },
  "language_info": {
   "name": "java"
  },
  "orig_nbformat": 4
 },
 "nbformat": 4,
 "nbformat_minor": 2
}
