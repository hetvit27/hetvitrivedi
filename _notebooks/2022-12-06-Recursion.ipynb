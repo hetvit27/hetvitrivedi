{
 "cells": [
  {
   "cell_type": "markdown",
   "metadata": {},
   "source": [
    "# \"Unit 10 Recursion Grading\"\n",
    "> \"Scores + MC Explained\"\n",
    "\n",
    "- toc:true\n",
    "- branch: master\n",
    "- badges: true\n",
    "- comments: true\n",
    "- author: Hetvi Trivedi\n",
    "- categories: [collegeboard]"
   ]
  },
  {
   "cell_type": "markdown",
   "metadata": {},
   "source": [
    "# Scores\n",
    "| Names | Score |\n",
    "| ----------- | ----------- |\n",
    "| Bailey Say, Andrew Meng, Aarav Arora, Nicholas Mounier, Rohan Juneja | 1/1       |\n",
    "| Kian Pasokhi | 1/1        |\n",
    "| Everitt, Samuel, Kinish, Ritvik | 1/1       |\n",
    "| Bria Gilliam, Shraddha Kadaba, Evan Sanchez, Calissa Tyrrell | 1/1       |\n",
    "| Iris      | 1/1       |\n",
    "| Evan Yang, Karthik V, Sanjay B, Pranav S, Jay M. | 0.95/1  because missed one MC question     |\n",
    "| Header      | Title       |\n",
    "| Header      | Title       |\n",
    "| Header      | Title       |"
   ]
  },
  {
   "cell_type": "markdown",
   "metadata": {},
   "source": [
    "# MC Explanations\n",
    "\n",
    "1. In the first function call, 2 + dosomething(2,2). In the second call, 2+2+ dosomething (2,1). Then, base condition is met: 2+2+2 = 6\n",
    "\n",
    "2. \n",
    "\n",
    "3. Recursion uses more memory than iteration because in recursion, each function call is stored in a call stack.\n",
    "\n",
    "4. Recursion can be written as loops - therefore, most similar to loops. See presentation.\n",
    "\n",
    "5. Base case is when the recursive method is stopped and a value is returned. \n",
    "\n",
    "6. The answer is 24. The recursive method will terminate when either b <= 1 or b <= a.  In these two cases, it will return 1. \n",
    "Do traces of the calls:\n",
    "\n",
    "    foo(5,9) = (9-5) * foo(5,8) = 4 * foo(5,8)\n",
    "\n",
    "    foo(5,8) = (8-5) * foo(5,7) = 3 * foo(5,7)\n",
    "\n",
    "    foo(5,7) = (7-5) * foo(5,6) = 2 * foo(5,6)\n",
    "\n",
    "    foo(5,6) = (6-5) * foo(5,5) = 1 * foo(5,5)\n",
    "\n",
    "    foo(5,5) = 1\n",
    "\n",
    "    Therefore, carefully tracing back up, we get:\n",
    "    foo(5,9) = 4 * 3 * 2 * 1 * 1 = 24\n",
    "\n",
    "7. The number 10 is inputed into recurs and prints count, subtracts two from count, then reentered into recurs. First iteration gives 10. The second iteration gives as, 10, 8. It places 8 after the value from the first iteration. Repeating this, we get 10 8 6 4 2. When count reaches 0, nothing is printed. \n",
    "\n",
    "8. Fibonacci is an example of iteration. Think back to Trimester 1. \n",
    "\n",
    "9. A recursive method calls itself within the method.\n"
   ]
  }
 ],
 "metadata": {
  "kernelspec": {
   "display_name": "Java",
   "language": "java",
   "name": "java"
  },
  "language_info": {
   "name": "java"
  },
  "orig_nbformat": 4
 },
 "nbformat": 4,
 "nbformat_minor": 2
}
