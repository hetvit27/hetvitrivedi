{
 "cells": [
  {
   "attachments": {},
   "cell_type": "markdown",
   "metadata": {},
   "source": [
    "### class Book (Part 1)  Close Book\n",
    "1. Define 1 argument constructor for title, \n",
    "2. Define toString method for id and title.\n",
    "3. Generate unique id for each object\n",
    "4. Create a public getter that has Book Count\n",
    "5. Define tester method that initializes at least 2 books, outputs id and title, and provides a count of books in library.\n"
   ]
  },
  {
   "cell_type": "code",
   "execution_count": null,
   "metadata": {},
   "outputs": [],
   "source": [
    "public class Book {\n",
    "    String title;\n",
    "    public Book (String title){\n",
    "    }\n",
    "    public \n",
    "}"
   ]
  }
 ],
 "metadata": {
  "kernelspec": {
   "display_name": "Java",
   "language": "java",
   "name": "java"
  },
  "language_info": {
   "codemirror_mode": "java",
   "file_extension": ".jshell",
   "mimetype": "text/x-java-source",
   "name": "java",
   "pygments_lexer": "java",
   "version": "17.0.4.1+1"
  },
  "orig_nbformat": 4
 },
 "nbformat": 4,
 "nbformat_minor": 2
}
