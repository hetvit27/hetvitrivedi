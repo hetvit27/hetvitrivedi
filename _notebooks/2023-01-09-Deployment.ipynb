{
 "cells": [
  {
   "attachments": {},
   "cell_type": "markdown",
   "metadata": {},
   "source": [
    "# \"Deployment Blog\"\n",
    "> \"My journey, issues, and resolutions for Deployment \"\n",
    "\n",
    "- toc:true\n",
    "- branch: master\n",
    "- badges: true\n",
    "- comments: true\n",
    "- author: Hetvi Trivedi\n",
    "- categories: [jupyter]"
   ]
  },
  {
   "attachments": {},
   "cell_type": "markdown",
   "metadata": {},
   "source": [
    "# Weekend of January 6\n",
    "\n",
    " My team began working on our reunion project using the Leuck template. We had to deploy our backend on hetvitrivedi.tk but I faced many problems.\n",
    "\n",
    " 1. Needed to change Java version in pom.xml file because it needs to be synched with computer properties and what Java version is running. Also remove line 101 in pom.xml file <version> 3.30.01 </version>\n",
    "\n",
    "\n",
    " 2. Needed to add port: 8085 in application.properties because it must match deployment. In the Dockerfile and docker-compose-yml, the port is 8085 and it impacts how it loads the application on localhost. \n",
    " \n",
    "    SEE IMAGE 2\n",
    " - Need to clarify ports and keep them consistent\n",
    " - In application.properties file need to have \"server.port: 8085\" based on what you are exposing\n",
    "\n",
    " 3. Faced curl problem that output the Connection reset by peer \n",
    " \n",
    "    SEE IMAGE 3\n",
    " - This problem had to do with two things: my initial 8199 port was already being used by another group; the ports weren't in sync. 8129 was running for local host but 8085 needed to be exposed (see number 2)\n",
    "\n",
    " 4. Created faulty nighthawk file that caused nginx to fail\n",
    "\n",
    "    SEE IMAGE 1\n",
    " - Need to cd /etc/nginx/sites-enabled\n",
    " - Sudo rm the faulty file\n",
    "\n"
   ]
  },
  {
   "attachments": {},
   "cell_type": "markdown",
   "metadata": {},
   "source": [
    "![](../images/nginxfail.png)"
   ]
  },
  {
   "attachments": {},
   "cell_type": "markdown",
   "metadata": {},
   "source": [
    "![](../images/)"
   ]
  },
  {
   "attachments": {},
   "cell_type": "markdown",
   "metadata": {},
   "source": [
    "![](../images/pathimportance.png)"
   ]
  },
  {
   "attachments": {},
   "cell_type": "markdown",
   "metadata": {},
   "source": [
    "![](../images/curlproblem.png)"
   ]
  }
 ],
 "metadata": {
  "kernelspec": {
   "display_name": "Java",
   "language": "java",
   "name": "java"
  },
  "language_info": {
   "name": "java",
   "version": "3.10.9 (main, Dec 15 2022, 10:44:50) [Clang 14.0.0 (clang-1400.0.29.202)]"
  },
  "orig_nbformat": 4,
  "vscode": {
   "interpreter": {
    "hash": "b0fa6594d8f4cbf19f97940f81e996739fb7646882a419484c72d19e05852a7e"
   }
  }
 },
 "nbformat": 4,
 "nbformat_minor": 2
}
