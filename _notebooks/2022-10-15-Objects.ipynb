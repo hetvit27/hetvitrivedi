{
 "cells": [
  {
   "cell_type": "markdown",
   "metadata": {},
   "source": [
    "# Unit 2 Objects\n",
    "> \"Learnings and application to FRQ\"\n",
    "\n",
    "- toc:true\n",
    "- branch: master\n",
    "- badges: true\n",
    "- comments: true\n",
    "- author: Hetvi Trivedi\n",
    "- categories: [jupyter]"
   ]
  },
  {
   "cell_type": "markdown",
   "metadata": {},
   "source": [
    "# Learning Objectives\n",
    "- Object oriented programming\n",
    "- Objects, classes, and methods\n",
    "- Creating classes and methods\n",
    "- Declaring methods\n",
    "- Calling methods"
   ]
  },
  {
   "cell_type": "markdown",
   "metadata": {},
   "source": [
    "# Object Oriented Programming\n",
    "- Organizes software design around objects\n",
    "- Compartmentalizes data and functions in such a way that data and the functions that operate on data are bound together\n"
   ]
  },
  {
   "cell_type": "markdown",
   "metadata": {},
   "source": [
    "# Objects, Classes, and Methods\n",
    "- Classes are a template or a blueprint from which objects are created. \n",
    "- Objects created under the same class will share common methods and attributes.\n",
    "- Objects are instances of a class.\n",
    "- Methods, otherwise known as functions, are a set of code that perform a specific task.\n",
    "- Example: class fruit contains an object like an apple\n",
    "- Class attributes are things that the objects inherit\n",
    "- Example: calorie count or quantity\n",
    "- Methods of a class could be stored or consumed\n"
   ]
  },
  {
   "cell_type": "markdown",
   "metadata": {},
   "source": [
    "# Creating Classes and Objects\n",
    "- An object is initialized by calling a class constructor"
   ]
  },
  {
   "cell_type": "code",
   "execution_count": null,
   "metadata": {},
   "outputs": [],
   "source": [
    "Painter myPainter = new Painter ();"
   ]
  },
  {
   "cell_type": "markdown",
   "metadata": {},
   "source": [
    "# Declaring Methods\n",
    "- Access modifier: public, protected, private, or default\n",
    "- Return type: No return value would mean void\n",
    "- Method name: name of method\n",
    "- Parameter list: the list of variables the method will operate on based on what's in the parentheses\n",
    "- Exception list: exceptions during runtime\n",
    "- Method body: Internal code the method will execute"
   ]
  },
  {
   "cell_type": "code",
   "execution_count": null,
   "metadata": {},
   "outputs": [],
   "source": [
    "public int max (int x, int y) // modifier, return type, method name, parameter list\n",
    "{\n",
    "    if (x>y) // body of the method\n",
    "        return x;\n",
    "    else\n",
    "        return y;\n",
    "}"
   ]
  },
  {
   "cell_type": "markdown",
   "metadata": {},
   "source": [
    "# Calling Methods\n",
    "- Advantageous because it allows for code reuse and optimization\n",
    "- Calling a method looks like this: methodName (parameter1, parameter2);\n",
    "- Calling an object's method: objectReference.methodName(parameter 1, parameter 2);"
   ]
  },
  {
   "cell_type": "markdown",
   "metadata": {},
   "source": [
    "# Practice with 2021 FRQ 1"
   ]
  },
  {
   "cell_type": "markdown",
   "metadata": {},
   "source": [
    "# Part A"
   ]
  },
  {
   "cell_type": "code",
   "execution_count": null,
   "metadata": {},
   "outputs": [],
   "source": [
    "public int scoreGuess (String guess)\n",
    "{\n",
    "    int count = 0;\n",
    "    for (int i = 0; i <= secret.length() - guess.length(); i++)\n",
    "    {\n",
    "        if (secret.substring (i, i + guess.length()).equals(guess))\n",
    "        {\n",
    "            count++;\n",
    "        }\n",
    "    }\n",
    "    return count * guess.length() * guess.length();\n",
    "}"
   ]
  },
  {
   "cell_type": "markdown",
   "metadata": {},
   "source": [
    "# Part B"
   ]
  },
  {
   "cell_type": "code",
   "execution_count": null,
   "metadata": {},
   "outputs": [],
   "source": [
    "public String findBetterGuess( String guess1, String guess2) // defines a method\n",
    "{\n",
    "    if (scoreGuess(guess1) > scoreGuess(guess2))\n",
    "    {\n",
    "        return guess1;\n",
    "    }\n",
    "    if (scoreGuess(guess2) > scoreGuess(guess1))\n",
    "    {\n",
    "        return guess2;\n",
    "    }\n",
    "    if (guess1.compareTo(guess2) > 0)\n",
    "    {\n",
    "        return guess1;\n",
    "    }\n",
    "    return guess2;\n",
    "}"
   ]
  },
  {
   "cell_type": "markdown",
   "metadata": {},
   "source": [
    "# Resources\n",
    "\n",
    "https://www.youtube.com/watch?v=7Nx4I1EK-_Q&ab_channel=TokyoEdtech\n",
    "\n",
    "https://www.youtube.com/watch?v=8YloGeUnkxY&ab_channel=AjayGandecha"
   ]
  }
 ],
 "metadata": {
  "kernelspec": {
   "display_name": "Java",
   "language": "java",
   "name": "java"
  },
  "language_info": {
   "name": "java",
   "version": "3.10.6"
  },
  "orig_nbformat": 4,
  "vscode": {
   "interpreter": {
    "hash": "b0fa6594d8f4cbf19f97940f81e996739fb7646882a419484c72d19e05852a7e"
   }
  }
 },
 "nbformat": 4,
 "nbformat_minor": 2
}
