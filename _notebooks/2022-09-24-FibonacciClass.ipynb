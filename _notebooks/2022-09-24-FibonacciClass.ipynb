{
 "cells": [
  {
   "cell_type": "markdown",
   "metadata": {},
   "source": [
    "# \"Fibonacci Classes\"\n",
    "> \"Collegeboard learnings\"\n",
    "\n",
    "- toc:true\n",
    "- branch: master\n",
    "- badges: true\n",
    "- comments: true\n",
    "- author: Hetvi Trivedi\n",
    "- categories: [jupyter]"
   ]
  },
  {
   "cell_type": "markdown",
   "metadata": {},
   "source": [
    "# For Loop"
   ]
  },
  {
   "cell_type": "code",
   "execution_count": 6,
   "metadata": {
    "vscode": {
     "languageId": "java"
    }
   },
   "outputs": [
    {
     "name": "stdout",
     "output_type": "stream",
     "text": [
      "Amount of terms?\n",
      "Here is the Fibonacci Sequence for 4 terms:\n",
      "0\n",
      "1\n",
      "1\n",
      "2"
     ]
    }
   ],
   "source": [
    "import java.util.Scanner; //library to take user input\n",
    "public class ForLoopFibo {\n",
    "    public static void main(String[] args) {\n",
    "        int amountentered, termone = 0, termtwo = 1; //defines variables being used\n",
    "        System.out.println(\"Amount of terms?\");\n",
    "        Scanner scanner = new Scanner(System.in); // takes in user input for amount of terms\n",
    "        amountentered = scanner.nextInt();\n",
    "        System.out.print(\"Here is the Fibonacci Sequence for \" + amountentered + \" terms:\");\n",
    "\n",
    "        for (int i = 1; i <= amountentered; ++i) // for each term if the term is less than or equal to the amount entered\n",
    "        {\n",
    "            System.out.print(\"\\n\" + termone); // print out the previous term or initial term\n",
    "            int sumOfPrevTwo = termone + termtwo; // adds up the two terms\n",
    "            termone = termtwo;  // returns the two terms back to the for loop to repeat again\n",
    "            termtwo = sumOfPrevTwo;\n",
    "        }\n",
    "    }\n",
    "}\n",
    "\n",
    "ForLoopFibo.main(null);"
   ]
  },
  {
   "cell_type": "markdown",
   "metadata": {},
   "source": [
    "# While Loop"
   ]
  },
  {
   "cell_type": "code",
   "execution_count": 5,
   "metadata": {
    "vscode": {
     "languageId": "java"
    }
   },
   "outputs": [
    {
     "name": "stdout",
     "output_type": "stream",
     "text": [
      "Amount of terms?\n",
      "Here is the Fibonacci Sequence for 4 terms:\n",
      "0\n",
      "1\n",
      "1\n",
      "2"
     ]
    }
   ],
   "source": [
    "import java.util.Scanner; //library to take user input\n",
    "public class WhileLoopFibo {\n",
    "    public static void main(String[] args) {\n",
    "      int amountentered, termone = 0, termtwo = 1; //defines variables being used\n",
    "        System.out.println(\"Amount of terms?\");\n",
    "        Scanner scanner = new Scanner(System.in); // takes in user input for amount of terms\n",
    "        amountentered = scanner.nextInt();\n",
    "        System.out.print(\"Here is the Fibonacci Sequence for \" + amountentered + \" terms:\");\n",
    "\n",
    "        int i=1;\n",
    "        while(i <= amountentered)\n",
    "        {\n",
    "            System.out.print(\"\\n\" + termone); // fibonnaci program w/ while loop\n",
    "            int sumOfPrevTwo = termone + termtwo;\n",
    "            termone = termtwo;\n",
    "            termtwo = sumOfPrevTwo;\n",
    "            i++;\n",
    "        }\n",
    "    }\n",
    "}\n",
    "\n",
    "WhileLoopFibo.main(null);"
   ]
  },
  {
   "cell_type": "markdown",
   "metadata": {},
   "source": [
    "# Recursion"
   ]
  },
  {
   "cell_type": "code",
   "execution_count": 4,
   "metadata": {
    "vscode": {
     "languageId": "java"
    }
   },
   "outputs": [
    {
     "name": "stdout",
     "output_type": "stream",
     "text": [
      "Amount of terms?\n",
      "Here is the Fibonacci Sequence for 4 terms:\n",
      "0\n",
      "1\n",
      "1\n",
      "2"
     ]
    }
   ],
   "source": [
    "import java.util.Scanner; //library to take user input\n",
    "\n",
    "int amt; //defines variables being used\n",
    "System.out.println(\"Amount of terms?\");\n",
    "Scanner scanner = new Scanner(System.in); // takes in user input for amount of terms\n",
    "amt = scanner.nextInt();\n",
    "\n",
    "class RecursionLoop {     // recursively puts the term number back into the program and adds the term 2 less than the current to the term 1 less than the current\n",
    "    static int fib(int fibamt) {\n",
    "        if (fibamt <= 1) {\n",
    "            return fibamt;\n",
    "        }\n",
    "        else {\n",
    "            return fib(fibamt - 1) + fib(fibamt - 2);\n",
    "        }\n",
    "    }\n",
    "  \n",
    "    public static void main(String args[])\n",
    "    {\n",
    "        System.out.print(\"Here is the Fibonacci Sequence for \" + amt + \" terms:\");\n",
    "        for (int term = 0; term < amt; term++) {   // prints out the terms using for loop for each term calculated in the recursionloop\n",
    "            System.out.print(\"\\n\" + fib(term));\n",
    "        }\n",
    "    }\n",
    "}\n",
    "\n",
    "\n",
    "RecursionLoop.main(null);"
   ]
  },
  {
   "cell_type": "markdown",
   "metadata": {},
   "source": [
    "# Hacks\n",
    "\n",
    "- Skill 1.B: Used different types of loops or methods of program for each situation\n",
    "\n",
    "We used different loops: for loop and while loop. Also used a recursion method.\n",
    "\n",
    "- Skill 4.C: Code segments produce same results because the output is printed in the same format, the only thing changing is the type of loop. Key Finding: Different Loops can produce same output as long as the loops have the same purpose- in this case with for and while loops\n",
    "\n",
    "All the methods produce the same output.\n",
    "\n",
    "Skill 5.A: Recursion runs the fastest since it's not a loop, but all methods work equally well. It's important to know how to recreate a program in different ways.\n",
    "\n",
    "We recreated the fibonacci program in different ways that all work successfully"
   ]
  }
 ],
 "metadata": {
  "kernelspec": {
   "display_name": "Java",
   "language": "java",
   "name": "java"
  },
  "language_info": {
   "codemirror_mode": "java",
   "file_extension": ".jshell",
   "mimetype": "text/x-java-source",
   "name": "Java",
   "pygments_lexer": "java",
   "version": "17.0.4.1+1"
  },
  "orig_nbformat": 4
 },
 "nbformat": 4,
 "nbformat_minor": 2
}
