{
 "cells": [
  {
   "attachments": {},
   "cell_type": "markdown",
   "metadata": {
    "vscode": {
     "languageId": "java"
    }
   },
   "source": [
    "# \"JavaPrimitives\"\n",
    "> \"My basics Primitives and Potential energy calculator showcases the basics of what we learned\"\n",
    "- toc:true\n",
    "- branch: master\n",
    "- badges: true\n",
    "- comments: true\n",
    "- author: Hetvi Trivedi\n",
    "- categories: [java]"
   ]
  },
  {
   "cell_type": "markdown",
   "metadata": {},
   "source": [
    "# Integer Usage"
   ]
  },
  {
   "cell_type": "code",
   "execution_count": 1,
   "metadata": {},
   "outputs": [
    {
     "name": "stdout",
     "output_type": "stream",
     "text": [
      "0.0\n"
     ]
    }
   ],
   "source": [
    "int a = 4;\n",
    "float b = 4;\n",
    "float sub= (a - b);\n",
    "System.out.println(sub);\n"
   ]
  },
  {
   "cell_type": "markdown",
   "metadata": {},
   "source": [
    "# String Usage"
   ]
  },
  {
   "cell_type": "code",
   "execution_count": 2,
   "metadata": {},
   "outputs": [
    {
     "name": "stdout",
     "output_type": "stream",
     "text": [
      "hetvi is in CSA period 2\n"
     ]
    }
   ],
   "source": [
    "String x = \"hetvi\";\n",
    "String y = \"is\";\n",
    "String z = \"in CSA period 2\";\n",
    "String name = x + \" \" + y + \" \" + z;\n",
    "System.out.println(name);"
   ]
  },
  {
   "cell_type": "markdown",
   "metadata": {},
   "source": [
    "# Boolean Usage"
   ]
  },
  {
   "cell_type": "code",
   "execution_count": 3,
   "metadata": {},
   "outputs": [
    {
     "name": "stdout",
     "output_type": "stream",
     "text": [
      "you are taking CSA!\n"
     ]
    }
   ],
   "source": [
    "boolean is_so_amazing = true;\n",
    "boolean is_not_amazing = false;\n",
    "\n",
    "if (is_so_amazing){\n",
    "\n",
    "    System.out.println(\"you are taking CSA!\");\n",
    "}\n",
    "\n",
    "else if (is_not_amazing){\n",
    "\n",
    "    System.out.println(\"you are taking another class\");\n",
    "\n",
    "}"
   ]
  },
  {
   "cell_type": "markdown",
   "metadata": {},
   "source": [
    "# Solving for Potential Energy on Earth "
   ]
  },
  {
   "cell_type": "code",
   "execution_count": 4,
   "metadata": {},
   "outputs": [
    {
     "name": "stdout",
     "output_type": "stream",
     "text": [
      "Enter mass of object in grams: 3.0\n",
      "Enter height at which object is placed in meters: 4.0\n",
      "Your potential energy in Joules is 117.60\n"
     ]
    }
   ],
   "source": [
    "public class PotentialEnergyCalculator {\n",
    "\n",
    "    public PotentialEnergyCalculator() {\n",
    "        this.enterVals();\n",
    "    }\n",
    "\n",
    "    private double PE; // initialize PE double. Stores the final output value.\n",
    "    private double mass; // initialize mass double. Stores it from the user input.\n",
    "    private double height; // initialize height double. Stores it from the user input.\n",
    "    private static double g = 9.80; // initialize static double. Stores the constant value.\n",
    "\n",
    "    private void enterVals() {\n",
    "\n",
    "        while (true) {\n",
    "            Scanner dd = new Scanner(System.in);\n",
    "            System.out.print(\"Enter mass of object in grams: \");\n",
    "            try {\n",
    "                mass = dd.nextDouble();\n",
    "                System.out.println(mass); // sets variable to True meaning if the double is entered correctly\n",
    "                break;\n",
    "            } catch (Exception e) {\n",
    "                System.out.println(\"Not an double (form like 9.99), \" + e); // if it's not a number, it will close.\n",
    "            }\n",
    "            dd.close();\n",
    "        }\n",
    "\n",
    "        while (true) {\n",
    "            Scanner dd = new Scanner(System.in);\n",
    "            System.out.print(\"Enter height at which object is placed in meters: \");\n",
    "            try {\n",
    "                height = dd.nextDouble();\n",
    "                System.out.println(height);\n",
    "                break;\n",
    "            } catch (Exception e) {\n",
    "                System.out.println(\"Not an double (form like 9.99), \" + e);\n",
    "            }\n",
    "            dd.close();\n",
    "        }\n",
    "    }\n",
    "\n",
    "    public double calculate() {\n",
    "        double g = 9.80;\n",
    "        PE = (mass*height*g); // equation for calculating potential energy\n",
    "        return PE; // outputs calculated value.\n",
    "    }\n",
    "\n",
    "    public static void main(String[] args) {\n",
    "        PotentialEnergyCalculator PE = new PotentialEnergyCalculator();\n",
    "        System.out.println(\"Your potential energy in Joules is \" + String.format(\"%.2f\", PE.calculate())); // script for what the output will look like using string\n",
    "    }\n",
    "    \n",
    "}\n",
    "PotentialEnergyCalculator.main(null);\n"
   ]
  }
 ],
 "metadata": {
  "kernelspec": {
   "display_name": "Java",
   "language": "java",
   "name": "java"
  },
  "language_info": {
   "codemirror_mode": "java",
   "file_extension": ".jshell",
   "mimetype": "text/x-java-source",
   "name": "java",
   "pygments_lexer": "java",
   "version": "17.0.4.1+1"
  },
  "orig_nbformat": 4,
  "vscode": {
   "interpreter": {
    "hash": "b0fa6594d8f4cbf19f97940f81e996739fb7646882a419484c72d19e05852a7e"
   }
  }
 },
 "nbformat": 4,
 "nbformat_minor": 2
}
