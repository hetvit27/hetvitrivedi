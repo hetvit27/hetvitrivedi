{
 "cells": [
  {
   "cell_type": "markdown",
   "metadata": {
    "vscode": {
     "languageId": "java"
    }
   },
   "source": [
    "# \"JavaPrimitives\"\n",
    "> \"My Fahrenheit to Celsius calculator here showcases the basics of Primitives\"\n",
    "\n",
    "- toc:true\n",
    "- branch: master\n",
    "- badges: true\n",
    "- comments: true\n",
    "- author: Hetvi Trivedi\n",
    "- categories: [fastpages, jupyter]"
   ]
  },
  {
   "cell_type": "code",
   "execution_count": 1,
   "metadata": {
    "vscode": {
     "languageId": "java"
    }
   },
   "outputs": [
    {
     "name": "stdout",
     "output_type": "stream",
     "text": [
      "0.0\n"
     ]
    }
   ],
   "source": [
    "int a = 4;\n",
    "float b = 4;\n",
    "float sub= (a - b);\n",
    "System.out.println(sub);\n"
   ]
  },
  {
   "cell_type": "code",
   "execution_count": 2,
   "metadata": {
    "vscode": {
     "languageId": "java"
    }
   },
   "outputs": [
    {
     "name": "stdout",
     "output_type": "stream",
     "text": [
      "hetvi is here\n"
     ]
    }
   ],
   "source": [
    "String x = \"hetvi\";\n",
    "String y = \"is\";\n",
    "String z = \"here\";\n",
    "String name = x + \" \" + y + \" \" + z;\n",
    "System.out.println(name);"
   ]
  },
  {
   "cell_type": "code",
   "execution_count": 5,
   "metadata": {
    "vscode": {
     "languageId": "java"
    }
   },
   "outputs": [],
   "source": [
    "boolean is_awesome = true;\n",
    "boolean is_awesome = false;\n",
    "\n",
    "if (is_awesome){\n",
    "\n",
    "    System.out.println(\"you are taking CSA!\");\n",
    "}\n",
    "\n",
    "else if (is_awesome){\n",
    "\n",
    "    System.out.println(\"you are taking another class\");\n",
    "\n",
    "}"
   ]
  },
  {
   "cell_type": "code",
   "execution_count": 3,
   "metadata": {
    "vscode": {
     "languageId": "java"
    }
   },
   "outputs": [
    {
     "name": "stdout",
     "output_type": "stream",
     "text": [
      "What is your Fahrenheit degrees? 30.0\n",
      "Celsius conversion: -1.1111111111111112"
     ]
    }
   ],
   "source": [
    "import java.util.Scanner; //allows for user input\n",
    "\n",
    "public class FahrenheitCelsius {\n",
    "    public static void main(String[] args) {\n",
    "        String userInputStr;\n",
    "        double fahrenheitdouble, celsiusdouble;\n",
    "        Scanner inputStream = new Scanner(System.in); //creates area for input\n",
    "\n",
    "        System.out.print(\"What is your Fahrenheit degrees? \");\n",
    "        userInputStr = inputStream.nextLine(); //assigns userinputstr as input\n",
    "        fahrenheitdouble = Double.parseDouble(userInputStr); //changes to stored variable fahrenheitdouble\n",
    "\n",
    "        System.out.print(fahrenheitdouble);\n",
    "\n",
    "        celsiusdouble = (fahrenheitdouble-32)/1.8; //set celsius variable to conversion\n",
    "\n",
    "        System.out.print(\"\\nCelsius conversion: \" ); //enter line and print celsius\n",
    "        System.out.print(celsiusdouble);\n",
    "    }   \n",
    "}\n",
    "\n",
    "FahrenheitCelsius.main(null);"
   ]
  }
 ],
 "metadata": {
  "kernelspec": {
   "display_name": "Java",
   "language": "java",
   "name": "java"
  },
  "language_info": {
   "codemirror_mode": "java",
   "file_extension": ".jshell",
   "mimetype": "text/x-java-source",
   "name": "Java",
   "pygments_lexer": "java",
   "version": "17.0.4+8"
  },
  "orig_nbformat": 4,
  "vscode": {
   "interpreter": {
    "hash": "b0fa6594d8f4cbf19f97940f81e996739fb7646882a419484c72d19e05852a7e"
   }
  }
 },
 "nbformat": 4,
 "nbformat_minor": 2
}
