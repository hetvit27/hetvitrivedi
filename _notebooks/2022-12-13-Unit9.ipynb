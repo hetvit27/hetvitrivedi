{
 "cells": [
  {
   "attachments": {},
   "cell_type": "markdown",
   "metadata": {},
   "source": [
    "# \"Unit 9 Inheritance\"\n",
    "> \"Student Lesson\"\n",
    "\n",
    "- toc:true\n",
    "- branch: master\n",
    "- badges: true\n",
    "- comments: true\n",
    "- author: Hetvi Trivedi\n",
    "- categories: [collegeboard]"
   ]
  },
  {
   "attachments": {},
   "cell_type": "markdown",
   "metadata": {},
   "source": [
    "## Lecture Notes\n",
    "- Base car class is the superclass: generic methods and attributes - brand, range, max speed, door number\n",
    "- Constructor is what initializes the values of the attributes of a class when a new object of the class is created\n",
    "- super key word\n"
   ]
  },
  {
   "attachments": {},
   "cell_type": "markdown",
   "metadata": {},
   "source": [
    "## Hack 1"
   ]
  },
  {
   "cell_type": "code",
   "execution_count": 27,
   "metadata": {
    "vscode": {
     "languageId": "java"
    }
   },
   "outputs": [
    {
     "name": "stdout",
     "output_type": "stream",
     "text": [
      "On!\n",
      "The screen is now dark!\n",
      "Yes!\n",
      "Iphone is on...\n",
      "photo... taken\n",
      "photo... saved\n"
     ]
    }
   ],
   "source": [
    "public class Phone {\n",
    "    protected String brandName;\n",
    "    protected double version;\n",
    "    protected double cameraNumber;\n",
    "    protected double maxVolume;\n",
    "    \n",
    "    // Constructor for the attributes present in the superclass\n",
    "    public Phone(String brandName, double version, double cameraNumber, double maxVolume) {\n",
    "        this.brandName = brandName;\n",
    "        this.version = version;\n",
    "        this.cameraNumber = cameraNumber;\n",
    "        this.maxVolume = maxVolume;\n",
    "    }\n",
    "    \n",
    "    public void flash () {\n",
    "        System.out.println(\"On!\");\n",
    "    }\n",
    "    \n",
    "    public void homebutton () {\n",
    "        System.out.println(\"Yes!\");\n",
    "    }\n",
    "    \n",
    "    public void darkmode () {\n",
    "        System.out.println(\"on!\");\n",
    "    }\n",
    "    \n",
    "    public void powerbutton () {\n",
    "        System.out.println(\"turning on...\");\n",
    "    }\n",
    "    \n",
    "    public void camera () {\n",
    "        System.out.print(\"photo... \");\n",
    "    }\n",
    "}\n",
    "public class IphoneX extends Phone {\n",
    "    // Additional attribute not present in the superclass\n",
    "    protected String cameratype; \n",
    "    \n",
    "    // Constructor for Subclass\n",
    "    public IphoneX(String brandName, double version, double cameraNumber, double maxVolume, String cameratype) {\n",
    "        // We use the Superclass constructor for the shared attributes through the keyword \"super\"\n",
    "        super(brandName, version, cameraNumber, maxVolume);\n",
    "        // hornSound is not in the Superclass, so we add it separately in the constructor\n",
    "        this.cameratype = cameratype;\n",
    "    }\n",
    "    \n",
    "    // We use override to change the functionality in the subclass of an existing method in the superclass\n",
    "    @Override\n",
    "    public void darkmode () {\n",
    "        System.out.println(\"The screen is now dark!\");\n",
    "    }\n",
    "    public void powerbutton () {\n",
    "        System.out.println(\"Iphone is on...\");\n",
    "    }\n",
    "    \n",
    "    // Here, we don't fully change the functionality of the existing horn method in the superclass\n",
    "    // Instead, we take all of the functionality of the superclass method, and then add on to it\n",
    "    public void camera () {\n",
    "        super.camera();\n",
    "        System.out.println(cameratype);\n",
    "    }\n",
    "    \n",
    "    public static void main(String[] args) {\n",
    "        // 5 argument constructor\n",
    "        IphoneX modelS = new IphoneX(\"Tesla\", 396, 4, 200, \"taken\");\n",
    "        // Example of late binding\n",
    "        Phone phone = new IphoneX(\"Tesla\", 396, 4, 200, \"saved\");\n",
    "        // We can still use the methods from the child class, even though we didn't mention them in the subclass!\n",
    "        modelS.flash();\n",
    "        // Using the overridden method\n",
    "        modelS.darkmode();\n",
    "        modelS.homebutton();\n",
    "        modelS.powerbutton();\n",
    "        // Using the method we added on to\n",
    "        modelS.camera();\n",
    "        phone.camera();\n",
    "    }\n",
    "    \n",
    "    \n",
    "}\n",
    "IphoneX.main(null);"
   ]
  }
 ],
 "metadata": {
  "kernelspec": {
   "display_name": "Java",
   "language": "java",
   "name": "java"
  },
  "language_info": {
   "codemirror_mode": "java",
   "file_extension": ".jshell",
   "mimetype": "text/x-java-source",
   "name": "Java",
   "pygments_lexer": "java",
   "version": "17.0.4.1+1"
  },
  "orig_nbformat": 4,
  "vscode": {
   "interpreter": {
    "hash": "b0fa6594d8f4cbf19f97940f81e996739fb7646882a419484c72d19e05852a7e"
   }
  }
 },
 "nbformat": 4,
 "nbformat_minor": 2
}
