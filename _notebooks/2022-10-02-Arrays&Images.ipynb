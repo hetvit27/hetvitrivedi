{
 "cells": [
  {
   "cell_type": "markdown",
   "metadata": {},
   "source": [
    "# Arrays and Images\n",
    "> \"Learning on how to adjust scaling and color of images\"\n",
    "\n",
    "- toc:true\n",
    "- branch: master\n",
    "- badges: true\n",
    "- comments: true\n",
    "- author: Hetvi Trivedi\n",
    "- categories: [jupyter]\n"
   ]
  },
  {
   "cell_type": "markdown",
   "metadata": {},
   "source": [
    "# Saving PNG to GIF\n",
    "Image IO read and Image IO write are focus of this code. A key portion of working with Images, or any file, is to know location of the input and output directories."
   ]
  },
  {
   "cell_type": "code",
   "execution_count": 1,
   "metadata": {
    "vscode": {
     "languageId": "java"
    }
   },
   "outputs": [
    {
     "name": "stderr",
     "output_type": "stream",
     "text": [
      "javax.imageio.IIOException: Can't read input file!\n",
      "\tat java.desktop/javax.imageio.ImageIO.read(ImageIO.java:1310)\n",
      "\tat REPL.$JShell$16$ImageIOTest.main($JShell$16.java:32)\n",
      "\tat REPL.$JShell$17.do_it$($JShell$17.java:19)\n",
      "\tat java.base/jdk.internal.reflect.NativeMethodAccessorImpl.invoke0(Native Method)\n",
      "\tat java.base/jdk.internal.reflect.NativeMethodAccessorImpl.invoke(NativeMethodAccessorImpl.java:77)\n",
      "\tat java.base/jdk.internal.reflect.DelegatingMethodAccessorImpl.invoke(DelegatingMethodAccessorImpl.java:43)\n",
      "\tat java.base/java.lang.reflect.Method.invoke(Method.java:568)\n",
      "\tat io.github.spencerpark.ijava.execution.IJavaExecutionControl.lambda$execute$1(IJavaExecutionControl.java:95)\n",
      "\tat java.base/java.util.concurrent.FutureTask.run(FutureTask.java:264)\n",
      "\tat java.base/java.util.concurrent.ThreadPoolExecutor.runWorker(ThreadPoolExecutor.java:1136)\n",
      "\tat java.base/java.util.concurrent.ThreadPoolExecutor$Worker.run(ThreadPoolExecutor.java:635)\n",
      "\tat java.base/java.lang.Thread.run(Thread.java:833)\n"
     ]
    },
    {
     "name": "stdout",
     "output_type": "stream",
     "text": [
      "Success\n"
     ]
    }
   ],
   "source": [
    "import javax.imageio.ImageIO;\n",
    "import java.io.File;\n",
    "import java.io.IOException;\n",
    "import java.awt.image.BufferedImage;\n",
    "\n",
    "public class ImageIOTest {    \n",
    "\n",
    "    public static void main( String[] args ){\n",
    "       BufferedImage img = null;  // buffer type \n",
    "        try {\n",
    "            // Name of file and directories\n",
    "            String name = \"MonaLisa\";\n",
    "            String in = \"images/\";\n",
    "            String out = \"images/tmp/\";\n",
    "\n",
    "            // Either use URL or File for reading image using ImageIO\n",
    "            File imageFile = new File(in + name + \".png\");\n",
    "            img = ImageIO.read(imageFile);  // set buffer of image data\n",
    "\n",
    "            // ImageIO Image write to gif in Java\n",
    "            // Documentation https://docs.oracle.com/javase/tutorial/2d/images/index.html\n",
    "            ImageIO.write(img, \"gif\", new File(out + name + \".gif\") );  // write buffer to gif\n",
    "\n",
    "        } catch (IOException e) {\n",
    "              e.printStackTrace();\n",
    "        }\n",
    "        System.out.println(\"Success\");\n",
    "    }\n",
    "}\n",
    "ImageIOTest.main(null);"
   ]
  },
  {
   "cell_type": "markdown",
   "metadata": {},
   "source": [
    "# Image Scaling and ASCII Conversion\n",
    "\n",
    "In this example we print out a row of text for each row in the image. However, it seems as if the image is too tall. To address this problem, try to output a single character per block of pixels. In particular, average the greyscale values in a rectangular block that’s twice as tall as it is wide, and print out a single character for this block."
   ]
  },
  {
   "cell_type": "markdown",
   "metadata": {},
   "source": [
    "# Hacks\n",
    "\n",
    "1. Look at comments above and see if there is better conversions for ASCII to reduce elongation and distortion.\n",
    "2. Try to convert images into Grey Scale, Red Scale, Blue Scale, and Green Scale."
   ]
  }
 ],
 "metadata": {
  "kernelspec": {
   "display_name": "Java",
   "language": "java",
   "name": "java"
  },
  "language_info": {
   "codemirror_mode": "java",
   "file_extension": ".jshell",
   "mimetype": "text/x-java-source",
   "name": "Java",
   "pygments_lexer": "java",
   "version": "17.0.4.1+1"
  },
  "orig_nbformat": 4
 },
 "nbformat": 4,
 "nbformat_minor": 2
}
