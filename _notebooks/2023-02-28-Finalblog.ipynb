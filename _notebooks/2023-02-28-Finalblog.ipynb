{
 "cells": [
  {
   "attachments": {},
   "cell_type": "markdown",
   "metadata": {},
   "source": [
    "# \"Tutors and Schedule Database Work\"\n",
    "> \"Documenting individual work on Trimester 2 Project\"\n",
    "\n",
    "- toc:true\n",
    "- branch: master\n",
    "- badges: true\n",
    "- comments: true\n",
    "- author: Hetvi Trivedi\n",
    "- categories: [collegeboard]"
   ]
  },
  {
   "attachments": {},
   "cell_type": "markdown",
   "metadata": {},
   "source": [
    "# Tutors Database\n",
    "Purpose: To create a page where tutors can input their information and students can find a tutor for help in either AP Physics Mechanics or Electricity and Magnetism.\n",
    "\n",
    "### Week 1\n",
    "- Ideation through HTML \n",
    "- Used wireframes\n",
    "- [Click here for Presentation](https://hetvit27.github.io/team9trimester2/ideation) \n",
    "\n",
    "\n",
    "### Week 2\n",
    "\n",
    "- Setting up files: java, api controller, jpa repository, and init file\n",
    "- Setting up deployment\n",
    "- Confirming the use of the right port\n",
    "\n",
    "### Week 3\n",
    "- Defining proper variables in .java file\n",
    "- Creating simple API Controller\n",
    "\n",
    "### Week 4\n",
    "- Define add, delete, update function\n",
    "- Dealt with some issues due to sqlite.db but realized that all variables needed a value. You can't add a variable if there's past data without it\n",
    "\n",
    "### Week 5\n",
    "- Link to frontend\n",
    "- Fetch with json --> put out error if it doesn't work\n",
    "- Fixed CORS error and configuration in NGINX file\n",
    "- Data started populating\n",
    "- Tested with Postman!\n",
    "\n"
   ]
  },
  {
   "attachments": {},
   "cell_type": "markdown",
   "metadata": {},
   "source": [
    "![Tutor java](../images/tutjava.png)"
   ]
  },
  {
   "attachments": {},
   "cell_type": "markdown",
   "metadata": {},
   "source": [
    "![Tut API Controller](../images/tutapi.png)\n",
    "![Tut API Controller](../images/tutjparepo.png)\n",
    "![Tut API Controller](../images/tutinit.png)"
   ]
  },
  {
   "attachments": {},
   "cell_type": "markdown",
   "metadata": {},
   "source": [
    "# Schedule Database\n",
    "Purpose: To create a page where students can post their schedule with the class period they have mechanics. They can update it based on trimester. Did this by ID because I didn't do that in the Tutor Database. \n",
    "\n",
    "### Week 1\n",
    "- Ideation through HTML \n",
    "- Used wireframes\n",
    "- [Click here for Presentation](https://hetvit27.github.io/team9trimester2/ideation) \n",
    "\n",
    "\n",
    "### Week 2\n",
    "\n",
    "- Setting up files: java, api controller, jpa repository, and init file\n",
    "- Setting up deployment\n",
    "- Confirming the use of the right port\n",
    "\n",
    "### Week 3\n",
    "- Defining proper variables in .java file\n",
    "- Creating simple API Controller\n",
    "\n",
    "### Week 4\n",
    "- Define add, delete, update function\n",
    "- Dealt with some issues due to sqlite.db but realized that all variables needed a value. You can't add a variable if there's past data without it\n",
    "\n",
    "### Week 5\n",
    "- Link to frontend\n",
    "- Fetch with json --> put out error if it doesn't work\n",
    "- Fixed CORS error and configuration in NGINX file\n",
    "- Data started populating\n",
    "- Tested with Postman!"
   ]
  },
  {
   "attachments": {},
   "cell_type": "markdown",
   "metadata": {},
   "source": [
    "![Schedulejava](../images/schedulejava.png)\n",
    "![Schedule Api](../images/scheduleapi.png)"
   ]
  }
 ],
 "metadata": {
  "kernelspec": {
   "display_name": "Python 3",
   "language": "python",
   "name": "python3"
  },
  "language_info": {
   "name": "python",
   "version": "3.10.9"
  },
  "orig_nbformat": 4,
  "vscode": {
   "interpreter": {
    "hash": "b0fa6594d8f4cbf19f97940f81e996739fb7646882a419484c72d19e05852a7e"
   }
  }
 },
 "nbformat": 4,
 "nbformat_minor": 2
}
