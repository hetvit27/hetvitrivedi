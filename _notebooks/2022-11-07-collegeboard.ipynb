{
 "cells": [
  {
   "cell_type": "markdown",
   "metadata": {},
   "source": [
    "# \"Unit 4 MCQ\"\n",
    "> \"Score + Test Corrections\"\n",
    "\n",
    "- toc:true\n",
    "- branch: master\n",
    "- badges: true\n",
    "- comments: true\n",
    "- author: Hetvi Trivedi\n",
    "- categories:[collegeboard]"
   ]
  },
  {
   "cell_type": "markdown",
   "metadata": {},
   "source": [
    "# Final Score\n",
    "\n",
    "- My score was 38/40 but I guessed on about 5 of them so my score should be 33/40 some of them that I was unsure about."
   ]
  },
  {
   "cell_type": "markdown",
   "metadata": {},
   "source": [
    "![](../images/test.png)"
   ]
  },
  {
   "cell_type": "markdown",
   "metadata": {},
   "source": [
    "# Corrections\n"
   ]
  },
  {
   "cell_type": "markdown",
   "metadata": {},
   "source": [
    "### Question 4\n",
    "\n",
    "Consider the following code segment."
   ]
  },
  {
   "cell_type": "code",
   "execution_count": null,
   "metadata": {},
   "outputs": [],
   "source": [
    "int x = 7;\n",
    "int y = 3;\n",
    "\n",
    "if ((x < 10) && (y < 0))\n",
    "    System.out.println(\"Value is: \" + x * y);\n",
    "else\n",
    "    System.out.println(\"Value is: \" + x/y);"
   ]
  },
  {
   "cell_type": "markdown",
   "metadata": {},
   "source": [
    "What is printed as a result of executing the code segment?\n",
    "\n",
    "When evaluating x < 10 && y < 0 for x having the value 7 and y have a value of 3, x < 10 is true since 7 is less than 10 and y is less than 0 makes it false since 3 is not less than 0. The operator && evaluates to true when both conditions are true and evaluates to false otherwise. As a result, compiler will skip first output and execute the else statement for integer division for 7 / 3, which is 2."
   ]
  },
  {
   "cell_type": "markdown",
   "metadata": {},
   "source": [
    "### Question 6\n",
    "\n",
    "Consider the following method that is intended to determine if the double values d1 and d2 are close enough to be considered equal. For example, given a tolerance of 0.001, the values 54.32271 and 54.32294 would be considered equal.\n"
   ]
  },
  {
   "cell_type": "code",
   "execution_count": null,
   "metadata": {},
   "outputs": [],
   "source": [
    "/** @return true if d1 and d2 are within the specified tolerance,\n",
    " * false otherwise\n",
    " */\n",
    "public boolean almostEqual (double d1, double d2, double tolerance)\n",
    "{\n",
    "    /* missing code */\n",
    "}"
   ]
  },
  {
   "cell_type": "markdown",
   "metadata": {},
   "source": [
    "\n",
    "Which of the following should replace / * missing code * / so that almostEqual will work as intended?"
   ]
  },
  {
   "cell_type": "markdown",
   "metadata": {},
   "source": [
    "The answer that I put was D: return ((d1+d2)/2) >= tolerance. This is incorrect because this would calculate whether the average of d1 and d2 is greater than equal to the tolerance instead of figuring out how close they are. The correct answer was E: returnMath.abs(d1-d2) <= tolerance because this would return the absolute value of the difference between d1 and d2 and determine if it's less than the tolerance number, figuring out whether to return true or false."
   ]
  },
  {
   "cell_type": "markdown",
   "metadata": {},
   "source": [
    "### Question 9\n",
    "\n",
    "Consider the following method that is intended to return the sum of the elements in the array key."
   ]
  },
  {
   "cell_type": "code",
   "execution_count": null,
   "metadata": {},
   "outputs": [],
   "source": [
    "public static int sumArray(int[] key)\n",
    "{\n",
    "    int sum = 0;\n",
    "    for (int i=1; i <= key.length; i++)\n",
    "    {\n",
    "        /* missing code */\n",
    "    }\n",
    "    return sum;\n",
    "}"
   ]
  },
  {
   "cell_type": "markdown",
   "metadata": {},
   "source": [
    "Which of the following statements should be used to replace / * missing code * / so that sumArray\n",
    "will work as intended?"
   ]
  },
  {
   "cell_type": "markdown",
   "metadata": {},
   "source": [
    "The answer was B because the array key has an index of 0 for key.length-1. The for loop control variable i is initialized to 1 and will increase by 1 until it is equal to key.length. The access to key should be 1 because otherwise 0 won't be in the sum and when i is the key.length an error will be thrown. "
   ]
  },
  {
   "cell_type": "markdown",
   "metadata": {},
   "source": [
    "### Question 26\n",
    "\n",
    "Assume that the array arr has been defined and initialized as follows.\n",
    "\n",
    "int [] arr = /* initial values for the array */ ;\n",
    "\n",
    "Which of the following will correctly print all of the odd integers contained in arr but none of the even integers contained in arr ?"
   ]
  },
  {
   "cell_type": "markdown",
   "metadata": {},
   "source": [
    "The correct answer was A."
   ]
  },
  {
   "cell_type": "code",
   "execution_count": null,
   "metadata": {},
   "outputs": [],
   "source": [
    "for (int x : arr)\n",
    "    if (x % 2 != 0)\n",
    "        System.out.println(x);"
   ]
  },
  {
   "cell_type": "markdown",
   "metadata": {},
   "source": [
    "This uses an enhanced loop to assign the elements to x. Using the % allows the code to check what the remainder is when dividing by 2 and figuring out if the element is even. If x is even, then the remainder will be zero. If x i odd, then the code will output 1. "
   ]
  },
  {
   "cell_type": "markdown",
   "metadata": {},
   "source": [
    "### Question 30\n",
    "\n",
    "Consider the follow method"
   ]
  },
  {
   "cell_type": "code",
   "execution_count": null,
   "metadata": {},
   "outputs": [],
   "source": [
    "public static String scramble (String word, int howFar)\n",
    "{\n",
    "    return word.substring(howFar + 1, word.length()) +\n",
    "            word.substring(0, howFar);\n",
    "}"
   ]
  },
  {
   "cell_type": "markdown",
   "metadata": {},
   "source": [
    "What value is returned as a result of the call scramble(\"compiler\", 3)?\n",
    "\n",
    "The answer was C. The two parameter substring method returns the substring beginning at the first parameter and ending at the second parameter -1. When word is assigned \"compiler\" and howFar is assigned 3, the value of word.substring(howFar + 1, wordlength()) is \"iler\" since 4 letters are subtracted from the beginning of compiler. It ends at 8-1 = 7. The method returns \"ilercom.\""
   ]
  },
  {
   "cell_type": "markdown",
   "metadata": {},
   "source": [
    "### Question 37\n",
    "\n",
    "Consider the following code segment"
   ]
  },
  {
   "cell_type": "code",
   "execution_count": null,
   "metadata": {},
   "outputs": [],
   "source": [
    "int x = 1;\n",
    "while ( /* missing */ )\n",
    "{\n",
    "    System.out.print(x+\"\");\n",
    "    x = x + 2;\n",
    "}"
   ]
  },
  {
   "cell_type": "markdown",
   "metadata": {},
   "source": [
    "Consider the following possible replacements for /* missing code */.\n",
    "\n",
    "I. x < 6\n",
    "\n",
    "II. x != 6\n",
    "\n",
    "III. x < 7\n",
    "\n",
    "Which of the proposed replacements for /* missing code */ will cause the code segment to print only the values 1 3 5?\n"
   ]
  },
  {
   "cell_type": "markdown",
   "metadata": {},
   "source": [
    "I put A as the answer but Choice III also works because it will cause the while loop to iterate when x is less than 7. X is assigned to 1 and then will increase by 2. When x reaches 7, the output will be 1,3,5. I know that Choice I works because the variable x is assigned to 1 and then will increase by 2 each time. When x has the output of 7, the loop will terminate."
   ]
  },
  {
   "cell_type": "markdown",
   "metadata": {},
   "source": [
    "### Question 38 \n",
    "\n",
    "Assume that x and y have been declared and initialized with int values. Consider the following Java expression.\n",
    "\n",
    "(y > 10000) ll (x > 1000 && x < 1500)\n",
    "\n",
    "Which of the following is equivalent to the expression given above?\n",
    "\n",
    "The correct answer is A because it represents both the possibilities of y > 1000 or x > 1000 && x < 1500 "
   ]
  },
  {
   "cell_type": "markdown",
   "metadata": {},
   "source": [
    "# Questions I had to research concepts for"
   ]
  },
  {
   "cell_type": "markdown",
   "metadata": {},
   "source": [
    "### Question 11\n",
    "- I needed to figure out what a recursive method was because the seqSearchRec depends on the outputs of the smaller instances\n",
    "- Last must be greater than 0 for seqSearchRecHelper\n"
   ]
  },
  {
   "cell_type": "markdown",
   "metadata": {},
   "source": [
    "### Question 21\n",
    "\n",
    "- The code was using a nested loop to iterate over mat so the if statement needs to be defined for this"
   ]
  },
  {
   "cell_type": "markdown",
   "metadata": {},
   "source": [
    "# Concepts to Review\n",
    "\n",
    "- 2D Arrays\n",
    "- Recursive methods\n",
    "- Boolean expressions\n",
    "- De Morgan's Law\n",
    "- Array methods\n",
    "- Problems with mystery methods"
   ]
  }
 ],
 "metadata": {
  "kernelspec": {
   "display_name": "Java",
   "language": "java",
   "name": "java"
  },
  "language_info": {
   "codemirror_mode": "java",
   "file_extension": ".jshell",
   "mimetype": "text/x-java-source",
   "name": "java",
   "pygments_lexer": "java",
   "version": "17.0.4.1+1"
  },
  "orig_nbformat": 4
 },
 "nbformat": 4,
 "nbformat_minor": 2
}
