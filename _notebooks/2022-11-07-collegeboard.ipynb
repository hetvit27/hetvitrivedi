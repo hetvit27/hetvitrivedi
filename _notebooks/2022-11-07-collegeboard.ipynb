{
 "cells": [
  {
   "cell_type": "markdown",
   "metadata": {},
   "source": [
    "# \"Unit 4 MCQ\"\n",
    "> \"Score + Test Corrections\"\n",
    "\n",
    "- toc:true\n",
    "- branch: master\n",
    "- badges: true\n",
    "- comments: true\n",
    "- author: Hetvi Trivedi\n",
    "- categories: [jupyter]"
   ]
  },
  {
   "cell_type": "markdown",
   "metadata": {},
   "source": [
    "# Final Score\n",
    "\n",
    "- My score was 38/40 but I guessed on about 5 of them so my score should be 33/40 some of them that I was unsure about."
   ]
  },
  {
   "cell_type": "markdown",
   "metadata": {},
   "source": [
    "# Corrections\n"
   ]
  },
  {
   "cell_type": "markdown",
   "metadata": {},
   "source": [
    "1. Question 6\n",
    "\n",
    "Consider the following method that is intended to determine if the double values d1 and d2 are close enough to be considered equal. For example, given a tolerance of 0.001, the values 54.32271 and 54.32294 would be considered equal.\n"
   ]
  },
  {
   "cell_type": "code",
   "execution_count": null,
   "metadata": {
    "vscode": {
     "languageId": "java"
    }
   },
   "outputs": [],
   "source": [
    "/** @return true if d1 and d2 are within the specified tolerance,\n",
    " * false otherwise\n",
    " */\n",
    "public boolean almostEqual (double d1, double d2, double tolerance)\n",
    "{\n",
    "    /* missing code */\n",
    "}"
   ]
  },
  {
   "cell_type": "markdown",
   "metadata": {},
   "source": [
    "\n",
    "Which of the following should replace / * missing code * / so that almostEqual will work as intended?"
   ]
  },
  {
   "cell_type": "markdown",
   "metadata": {},
   "source": [
    "The answer that I put was D: return ((d1+d2)/2) >= tolerance. This is incorrect because this would calculate whether the average of d1 and d2 is greater than equal to the tolerance instead of figuring out how close they are. The correct answer was E: returnMath.abs(d1-d2) <= tolerance because this would return the absolute value of the difference between d1 and d2 and determine if it's less than the tolerance number, figuring out whether to return true or false."
   ]
  },
  {
   "cell_type": "markdown",
   "metadata": {},
   "source": [
    "2. Question 9\n",
    "\n",
    "Consider the following method that is intended to return the sum of the elements in the array key."
   ]
  },
  {
   "cell_type": "code",
   "execution_count": null,
   "metadata": {
    "vscode": {
     "languageId": "java"
    }
   },
   "outputs": [],
   "source": [
    "public static int sumArray(int[] key)\n",
    "{\n",
    "    int sum = 0;\n",
    "    for (int i=1; i <= key.length; i++)\n",
    "    {\n",
    "        /* missing code */\n",
    "    }\n",
    "    return sum;\n",
    "}"
   ]
  },
  {
   "cell_type": "markdown",
   "metadata": {},
   "source": [
    "Which of the following statements should be used to replace / * missing code * / so that sumArray\n",
    "will work as intended?"
   ]
  },
  {
   "cell_type": "markdown",
   "metadata": {},
   "source": [
    "The answer was B because the array key has an index of 0 for key.length-1. The for loop control variable i is initialized to 1 and will increase by 1 until it is equal to key.length. The access to key should be 1 because otherwise 0 won't be in the sum and when i is the key.length an error will be thrown. "
   ]
  },
  {
   "cell_type": "markdown",
   "metadata": {},
   "source": [
    "3. Question 26\n",
    "\n",
    "Assume that the array arr has been defined and initialized as follows.\n",
    "\n",
    "int [] arr = /* initial values for the array */ ;\n",
    "\n",
    "Which of the following will correctly print all of the odd integers contained in arr but none of the even integers contained in arr ?"
   ]
  },
  {
   "cell_type": "markdown",
   "metadata": {},
   "source": [
    "The correct answer was A."
   ]
  },
  {
   "cell_type": "code",
   "execution_count": null,
   "metadata": {
    "vscode": {
     "languageId": "java"
    }
   },
   "outputs": [],
   "source": [
    "for (int x : arr)\n",
    "    if (x % 2 != 0)\n",
    "        System.out.println(x);"
   ]
  },
  {
   "cell_type": "markdown",
   "metadata": {},
   "source": [
    "This uses an enhanced loop to assign the elements to x. Using the % allows the code to check what the remainder is when dividing by 2 and figuring out if the element is even. If x is even, then the remainder will be zero. If x i odd, then the code will output 1. "
   ]
  },
  {
   "cell_type": "markdown",
   "metadata": {},
   "source": [
    "4. Question 30\n",
    "\n",
    "Consider the follow method"
   ]
  },
  {
   "cell_type": "code",
   "execution_count": null,
   "metadata": {
    "vscode": {
     "languageId": "java"
    }
   },
   "outputs": [],
   "source": [
    "public static String scramble (String word, int howFar)\n",
    "{\n",
    "    return word.substring(howFar + 1, word.length()) +\n",
    "            word.substring(0, howFar);\n",
    "}"
   ]
  }
 ],
 "metadata": {
  "kernelspec": {
   "display_name": "Java",
   "language": "java",
   "name": "java"
  },
  "language_info": {
   "codemirror_mode": "java",
   "file_extension": ".jshell",
   "mimetype": "text/x-java-source",
   "name": "Java",
   "pygments_lexer": "java",
   "version": "17.0.4.1+1"
  },
  "orig_nbformat": 4
 },
 "nbformat": 4,
 "nbformat_minor": 2
}
