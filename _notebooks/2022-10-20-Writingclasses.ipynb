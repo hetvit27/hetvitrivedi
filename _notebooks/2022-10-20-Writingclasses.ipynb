{
 "cells": [
  {
   "cell_type": "markdown",
   "metadata": {},
   "source": [
    "# Writing Classes Lessons\n",
    "> \"Learnings and application to FRQ\"\n",
    "\n",
    "- toc:true\n",
    "- branch: master\n",
    "- badges: true\n",
    "- comments: true\n",
    "- author: Hetvi Trivedi\n",
    "- categories:[collegeboard]"
   ]
  },
  {
   "cell_type": "markdown",
   "metadata": {},
   "source": [
    "# 5.1 Anatomy of a Class\n",
    "- Class: blueprint used to create objects\n",
    "- Instances, attributes, constructors, methods\n",
    "- Objects: instances of a class\n",
    "- public: no restricted access -- classes and constructors\n",
    "- private: restrict access -- instance variables\n",
    "\n",
    "# 5.2 Constructors\n",
    "- initializes instance variables when an object is created\n",
    "- Each object has attributes which are the instance of a class\n",
    "- Constructors set the initial state of an object by assigning initial values to instance variables\n",
    "\n",
    "# 5.3 Comments\n",
    "- ignored by compiler \n",
    "- make code more readable\n",
    "- not required for the AP exam\n",
    "\n",
    "# 5.4 Accessor Method\n",
    "- Allows objects outside of the class to obtain values\n",
    "- non void returns a single value \n",
    "- toString() Method\n",
    "\n",
    "# 5.5 Mutator Method\n",
    "- Don't return values\n",
    "- Must be used when different classes need to modify instance variables\n"
   ]
  },
  {
   "cell_type": "code",
   "execution_count": null,
   "metadata": {},
   "outputs": [],
   "source": [
    "public class cow {\n",
    "}\n",
    "Cow myCow = new Cow();"
   ]
  },
  {
   "cell_type": "code",
   "execution_count": null,
   "metadata": {},
   "outputs": [],
   "source": [
    "public class Snack{\n",
    "    private String name; // instance variable 1\n",
    "    private int calories; // instance variable 2\n",
    "\n",
    "    public Snack(){ // constructor with no argument\n",
    "        name = null; \n",
    "        calories = 0; \n",
    "    }\n",
    "    public Snack (String n, int c){\n",
    "        name = n;\n",
    "        calories = x;\n",
    "    }\n",
    "    public String getName(){ // calling a method and accessor\n",
    "        return name;\n",
    "    }\n",
    "    public int getCalories(){\n",
    "        return calories;\n",
    "    }\n",
    "    public void setName(String n){\n",
    "        name = n;\n",
    "    }\n",
    "    public static void main(String[] args){\n",
    "        Snack one = new Snack(\"Chips\", 100);\n",
    "        System.out.println(one.getName());\n",
    "    }\n",
    "}\n",
    "Snack.main(null);"
   ]
  },
  {
   "cell_type": "markdown",
   "metadata": {},
   "source": [
    "# 2019 FRQ Question 2\n",
    "\n"
   ]
  },
  {
   "cell_type": "code",
   "execution_count": null,
   "metadata": {},
   "outputs": [],
   "source": [
    "public class StepTracker\n",
    "{\n",
    "    private int minSteps;\n",
    "    private int totalSteps;\n",
    "    private int numDays;\n",
    "    private int numActiveDays;\n",
    "    public StepTracker(int threshold)\n",
    "    {\n",
    "        minSteps = threshold;\n",
    "        totalSteps = 0;\n",
    "        numDays = 0;\n",
    "        numActiveDays = 0;\n",
    "    }\n",
    "    public void addDailySteps(int steps)\n",
    "    {\n",
    "        totalSteps += steps;\n",
    "        numDays++;\n",
    "        if (steps >= minSteps)\n",
    "        {\n",
    "            numActiveDays++;\n",
    "        }\n",
    "    }\n",
    "    public int activeDays()\n",
    "    {\n",
    "        return numActiveDays;\n",
    "    }\n",
    "    public double averageSteps()\n",
    "    {\n",
    "        if (numDays == 0)\n",
    "        {\n",
    "            return 0.0;\n",
    "        }\n",
    "        else\n",
    "        {\n",
    "            return (double) totalSteps / numDays;\n",
    "        }\n",
    "    }\n",
    "}"
   ]
  }
 ],
 "metadata": {
  "kernelspec": {
   "display_name": "Java",
   "language": "java",
   "name": "java"
  },
  "language_info": {
   "codemirror_mode": "java",
   "file_extension": ".jshell",
   "mimetype": "text/x-java-source",
   "name": "java",
   "pygments_lexer": "java",
   "version": "17.0.4.1+1"
  },
  "orig_nbformat": 4,
  "vscode": {
   "interpreter": {
    "hash": "b0fa6594d8f4cbf19f97940f81e996739fb7646882a419484c72d19e05852a7e"
   }
  }
 },
 "nbformat": 4,
 "nbformat_minor": 2
}
