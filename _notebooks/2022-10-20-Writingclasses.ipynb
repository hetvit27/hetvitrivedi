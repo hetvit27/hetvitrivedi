{
 "cells": [
  {
   "cell_type": "markdown",
   "metadata": {},
   "source": [
    "# Writing Classes Lessons\n",
    "> \"Learnings and application to FRQ\"\n",
    "\n",
    "- toc:true\n",
    "- branch: master\n",
    "- badges: true\n",
    "- comments: true\n",
    "- author: Hetvi Trivedi\n",
    "- categories: [jupyter]"
   ]
  },
  {
   "cell_type": "markdown",
   "metadata": {},
   "source": [
    "# 5.1 Anatomy of a Class\n",
    "- Class: blueprint used to create objects\n",
    "- Instances, attributes, constructors, methods\n",
    "- Objects: instances of a class\n",
    "- public: no restricted access -- classes and constructors\n",
    "- private: restrict access -- instance variables\n",
    "\n",
    "# 5.2 Constructors\n",
    "- initializes instance variables when an object is created\n",
    "- Each object has attributes which are the instance of a class\n",
    "- Constructors set the initial state of an object by assigning initial values to instance variables\n",
    "\n",
    "# 5.3 Comments\n",
    "- ignored by compiler \n",
    "- make code more readable\n",
    "- not required for the AP exam\n",
    "\n",
    "# 5.4 Accessor Method\n",
    "- Allows objects outside of the class to obtain values\n",
    "- non void returns a single value \n",
    "- toString() Method\n",
    "\n",
    "# 5.5 Mutator Method\n",
    "- Don't return values\n",
    "- Must be used when different classes need to modify instance variables\n"
   ]
  }
 ],
 "metadata": {
  "kernelspec": {
   "display_name": "Java",
   "language": "java",
   "name": "java"
  },
  "language_info": {
   "name": "java",
   "version": "3.10.6"
  },
  "orig_nbformat": 4,
  "vscode": {
   "interpreter": {
    "hash": "b0fa6594d8f4cbf19f97940f81e996739fb7646882a419484c72d19e05852a7e"
   }
  }
 },
 "nbformat": 4,
 "nbformat_minor": 2
}
