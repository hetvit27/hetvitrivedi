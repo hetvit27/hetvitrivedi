{
 "cells": [
  {
   "attachments": {},
   "cell_type": "markdown",
   "metadata": {},
   "source": [
    "# Selection Sort Sample Code\n",
    "> \"Learning the different types of data\"\n",
    "\n",
    "- toc:true\n",
    "- branch: master\n",
    "- badges: true\n",
    "- comments: true\n",
    "- author: Hetvi Trivedi\n",
    "- categories: [collegeboard]"
   ]
  },
  {
   "cell_type": "code",
   "execution_count": 3,
   "metadata": {},
   "outputs": [
    {
     "name": "stdout",
     "output_type": "stream",
     "text": [
      "Turtle 1 height: 3\n",
      "Turtle 2 height: 5\n",
      "Turtle 3 height: 8\n",
      "Turtle 4 height: 10\n",
      "Turtle 5 height: 12\n",
      "Turtle 6 height: 15\n",
      "Turtle 7 height: 20\n"
     ]
    }
   ],
   "source": [
    "public class Turtle {\n",
    "    private int height;\n",
    "    \n",
    "    public Turtle(int height) {\n",
    "        this.height = height;\n",
    "    }\n",
    "    \n",
    "    public int getHeight() {\n",
    "        return height;\n",
    "    }\n",
    "}\n",
    "\n",
    "public class SelectionSortTurtles {\n",
    "    public static void main(String[] args) {\n",
    "        Turtle[] turtles = new Turtle[7];\n",
    "        turtles[0] = new Turtle(10);\n",
    "        turtles[1] = new Turtle(5);\n",
    "        turtles[2] = new Turtle(15);\n",
    "        turtles[3] = new Turtle(8);\n",
    "        turtles[4] = new Turtle(20);\n",
    "        turtles[5] = new Turtle(12);\n",
    "        turtles[6] = new Turtle(3);\n",
    "        \n",
    "        // perform selection sort by height\n",
    "        for (int i = 0; i < turtles.length - 1; i++) {\n",
    "            int minIndex = i;\n",
    "            for (int j = i + 1; j < turtles.length; j++) {\n",
    "                if (turtles[j].getHeight() < turtles[minIndex].getHeight()) {\n",
    "                    minIndex = j;\n",
    "                }\n",
    "            }\n",
    "            // swap the turtles at i and minIndex\n",
    "            Turtle temp = turtles[i];\n",
    "            turtles[i] = turtles[minIndex];\n",
    "            turtles[minIndex] = temp;\n",
    "        }\n",
    "        \n",
    "        // print the sorted turtles\n",
    "        for (int i = 0; i < turtles.length; i++) {\n",
    "            System.out.println(\"Turtle \" + (i+1) + \" height: \" + turtles[i].getHeight());\n",
    "        }\n",
    "    }\n",
    "}\n",
    "\n",
    "SelectionSortTurtles.main(null);"
   ]
  }
 ],
 "metadata": {
  "kernelspec": {
   "display_name": "Java",
   "language": "java",
   "name": "java"
  },
  "language_info": {
   "name": "java"
  },
  "orig_nbformat": 4
 },
 "nbformat": 4,
 "nbformat_minor": 2
}
