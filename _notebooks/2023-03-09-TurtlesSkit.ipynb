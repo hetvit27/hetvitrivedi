{
 "cells": [
  {
   "attachments": {},
   "cell_type": "markdown",
   "metadata": {},
   "source": [
    "# Selection Sort Skit\n",
    "> \"Learning the different types of data\"\n",
    "\n",
    "- toc:true\n",
    "- branch: master\n",
    "- badges: true\n",
    "- comments: true\n",
    "- author: Hetvi Trivedi\n",
    "- categories: [collegeboard]"
   ]
  },
  {
   "attachments": {},
   "cell_type": "markdown",
   "metadata": {},
   "source": [
    "### Skit music: Turtles by Twice\n",
    "\n",
    "***6 turtles come in swimming***\n",
    "\n",
    "Turtles: Nathan, Sahil, Bailey, Samuel, Everitt, and Jun\n",
    "\n",
    "- 6 turtles come in swimming and organize in random order\n",
    "- Rohit: OMG! My pet turtles are here. But I have a problem! I need to sort them by height because Petco needs to have a record\n",
    "- Iris: Hmmm! I have an idea…Why don’t we use selection sort?\n",
    "- Rohit: That’s a great idea Iris!\n",
    "\n",
    "**Don and Hetvi enter**\n",
    " \n",
    "- Don: Guys! We are here to help. Sometimes selection sorting can be hard but we need to explain to you guys what it is first.\n",
    "- Hetvi: Selection sort is really simple. It basically works by continuously selecting the smallest (or largest) turtle from this unsorted column of turtles and moving it to the sorted area. This will happen by selecting the smallest or largest element and swapping it with the first element of the unsorted portion. \n",
    "- Don: This repeats until all the turtles are sorted by height. It’s important to know that there is a subarray which is already sorted and the remaining subarray that is unsorted.\n",
    "\n",
    "**Don and Hetvi help Iris and Rohit sort the turtles**\n",
    "\n",
    "- Rohit: omg all my turtle besties are sorted\n",
    "**rohit pats them on head**\n",
    "- Iris: let's take a bereal and #selectionsortftw"
   ]
  }
 ],
 "metadata": {
  "kernelspec": {
   "display_name": "Java",
   "language": "java",
   "name": "java"
  },
  "language_info": {
   "name": "java"
  },
  "orig_nbformat": 4
 },
 "nbformat": 4,
 "nbformat_minor": 2
}
