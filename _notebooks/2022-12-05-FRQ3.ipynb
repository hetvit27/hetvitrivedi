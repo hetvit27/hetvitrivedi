{
 "cells": [
  {
   "cell_type": "markdown",
   "metadata": {},
   "source": [
    "# \"2019 FRQ 3 PBL\"\n",
    "> \"Code + Extra\"\n",
    "\n",
    "- toc:true\n",
    "- branch: master\n",
    "- badges: true\n",
    "- comments: true\n",
    "- author: Hetvi Trivedi\n",
    "- categories: [FRQ]"
   ]
  },
  {
   "cell_type": "markdown",
   "metadata": {},
   "source": [
    "# Calculator.java\n",
    "- Converts the string expression to arraylist of tokens\n",
    "- Determines if the character is an operator or a separator\n",
    "- If no, appends character\n",
    "- If yes and length is greater than 0, adds the token \n",
    "- Reverse Polish notation in which operators follow the numbers\n",
    "- rpnToResult: if character is operator, number is added to stack and if it's not, two numbers are removed and result is calculated with operand. Result is then added to stack"
   ]
  },
  {
   "cell_type": "markdown",
   "metadata": {},
   "source": [
    "[Calculator.java](https://github.com/hetvit27/springportfoliot2/blob/master/src/main/java/com/nighthawk/spring_portfolio/mvc/calculator/Calculator.java)\n",
    "\n",
    "[CalculatorApiController.java](https://github.com/hetvit27/springportfoliot2/blob/master/src/main/java/com/nighthawk/spring_portfolio/mvc/calculator/CalculatorApiController.java)"
   ]
  },
  {
   "cell_type": "markdown",
   "metadata": {},
   "source": [
    "# What I added\n",
    "### Each operator and what it returns\n"
   ]
  },
  {
   "cell_type": "markdown",
   "metadata": {},
   "source": [
    "![](../images/finishrpn.png)"
   ]
  },
  {
   "cell_type": "markdown",
   "metadata": {},
   "source": [
    "### Tester Method\n",
    "![](../images/tester.png)"
   ]
  },
  {
   "cell_type": "markdown",
   "metadata": {},
   "source": [
    "### Result\n",
    "![](../images/result.png)"
   ]
  },
  {
   "cell_type": "markdown",
   "metadata": {},
   "source": [
    "### Unbalanced Paranthesis check \n",
    "![](../images/unbalancedcheck.png)"
   ]
  },
  {
   "cell_type": "markdown",
   "metadata": {},
   "source": [
    "### Power operator\n",
    "![](../images/addpower.png)"
   ]
  },
  {
   "cell_type": "markdown",
   "metadata": {},
   "source": [
    "### Test on Postman \n",
    "![](../images/postman1.png)\n",
    "![](../images/postman2.png)"
   ]
  },
  {
   "cell_type": "markdown",
   "metadata": {},
   "source": [
    "# 2019 FRQ Collegeboard\n",
    "## Part A\n",
    "- creates arraylist\n",
    "- access elements in array tokens\n",
    "- compares strings in tokens with instances of the variable\n",
    "- adds delimeters (beginning or end of string) into ArrayList in original order"
   ]
  },
  {
   "cell_type": "code",
   "execution_count": null,
   "metadata": {},
   "outputs": [],
   "source": [
    "public ArrayList<String> getDelimitersList(String[] tokens){\n",
    "    ArrayList<String> delims = new ArrayList<String>(); // store delimiters in tokens\n",
    "    for(String token: tokens){\n",
    "        if(token.equals(this.openDel) || token.equals(this.closeDel)){ // check if delimeter\n",
    "            delims.add(token);\n",
    "        }\n",
    "    }\n",
    "    return delims;\n",
    "}"
   ]
  },
  {
   "cell_type": "markdown",
   "metadata": {},
   "source": [
    "## Part B\n",
    "- initializes accumulators\n",
    "- access elements in arraylist\n",
    "- compares strings in delimiters with instances of variables\n",
    "- identifies and returns boolean value to implement one rule\n",
    "- identifies and return boolean value for all cases"
   ]
  },
  {
   "cell_type": "code",
   "execution_count": null,
   "metadata": {},
   "outputs": [],
   "source": [
    "public boolean isBalanced(ArrayList<String> delimiters){\n",
    "    int openCount = 0;\n",
    "    int closeCount = 0;\n",
    "    for(String delim: delimiters){\n",
    "        if(delim.equals(this.openDel)){\n",
    "            openCount++;\n",
    "        }\n",
    "        else{\n",
    "            closeCount++;\n",
    "            if(openCount >= closeCount){\n",
    "                continue;\n",
    "            }\n",
    "            else{\n",
    "                return false;\n",
    "            }\n",
    "        }\n",
    "    }\n",
    "    if(openCount == closeCount){\n",
    "        return true;\n",
    "    }\n",
    "    return false;\n",
    "}"
   ]
  }
 ],
 "metadata": {
  "kernelspec": {
   "display_name": "Java",
   "language": "java",
   "name": "java"
  },
  "language_info": {
   "name": "java"
  },
  "orig_nbformat": 4
 },
 "nbformat": 4,
 "nbformat_minor": 2
}
