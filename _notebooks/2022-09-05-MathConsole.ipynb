{
 "cells": [
  {
   "cell_type": "markdown",
   "metadata": {},
   "source": [
    "# \"Objects Usage\"\n",
    "> \"Learn how Class and Object are related. Here are multiple ways you can show the relationship.\"\n",
    "\n",
    "- toc:true\n",
    "- branch: master\n",
    "- badges: true\n",
    "- comments: true\n",
    "- author: Hetvi Trivedi\n",
    "- categories: [jupyter]"
   ]
  },
  {
   "cell_type": "markdown",
   "metadata": {},
   "source": [
    "# Console Based Menu\n",
    "\n",
    "Objects Used:\n",
    "- Used scanner class to get user input and make objects\n",
    "- Used system class to print out static methods- \n",
    "- Used the java Math Class to calculate for GCM and LCM\n",
    "\n",
    "PBL Takeaways:\n",
    "- By using the Menu () code, the user is able to select which option they want to start. This connects to Frontend because the code allows the program to be more user friendly. \n",
    "-The user is entering what they want the code to process which is different than GUI console which allows the user to select and view different options"
   ]
  },
  {
   "cell_type": "code",
   "execution_count": 2,
   "metadata": {},
   "outputs": [
    {
     "name": "stdout",
     "output_type": "stream",
     "text": [
      "-------------------------\n",
      "\n",
      "Choose from these choices\n",
      "-------------------------\n",
      "\n",
      "1 - Say Hello\n",
      "2 - Output colors\n",
      "3 - Loading in color\n",
      "4 - Greatest Common Factor\n",
      "5 - Least Common Multiple\n",
      "0 - Quit\n",
      "-------------------------\n",
      "\n",
      "1: Hello, World!\u001b[0m\n",
      "2: \u001b[0mDefault\u001b[31mRed\u001b[32mGreen\u001b[33mYellow\u001b[34mBlue\u001b[35mPurple\u001b[36mCyan\u001b[37mWhite\u001b[0m\n",
      "3: Loading...\u001b[33m#\u001b[33m#\u001b[0m#\u001b[0m#\u001b[33m#\u001b[37m#\u001b[35m#\u001b[34m#\u001b[0m#\u001b[0m#\u001b[32m#\u001b[33m#\u001b[35m#\u001b[37m#\u001b[36m#\u001b[0m#\u001b[0m#\u001b[35m#\u001b[0m#\u001b[37m#\u001b[0m\n",
      "4: Enter a number: \n",
      "Enter another number: \n",
      "The greatest common factor of 8 and 12 is 4\n",
      "\u001b[0m\n",
      "5: Enter a number: \n",
      "Enter another number: \n",
      "The least common multiple of 2 and 4 is 4\n",
      "\u001b[0m\n",
      "0: Goodbye, World!\u001b[0m\n"
     ]
    }
   ],
   "source": [
    "import java.util.Scanner; //library for user input\n",
    "import java.lang.Math; //library for random numbers\n",
    "\n",
    "\n",
    "public class Menu {\n",
    "    // Instance Variables\n",
    "    public final String DEFAULT = \"\\u001B[0m\";  // Default Terminal Color\n",
    "    public final String[][] COLORS = { // 2D Array of ANSI Terminal Colors\n",
    "        {\"Default\",DEFAULT},\n",
    "        {\"Red\", \"\\u001B[31m\"}, \n",
    "        {\"Green\", \"\\u001B[32m\"}, \n",
    "        {\"Yellow\", \"\\u001B[33m\"}, \n",
    "        {\"Blue\", \"\\u001B[34m\"}, \n",
    "        {\"Purple\", \"\\u001B[35m\"}, \n",
    "        {\"Cyan\", \"\\u001B[36m\"}, \n",
    "        {\"White\", \"\\u001B[37m\"}, \n",
    "    };\n",
    "    // 2D column location for data\n",
    "    public final int NAME = 0;\n",
    "    public final int ANSI = 1;  // ANSI is the \"standard\" for terminal codes\n",
    "\n",
    "    // Constructor on this Object takes control of menu events and actions\n",
    "    public Menu() {\n",
    "        Scanner sc = new Scanner(System.in);  // using Java Scanner Object\n",
    "        \n",
    "        this.print();  // print Menu\n",
    "        boolean quit = false;\n",
    "        while (!quit) {\n",
    "            try {  // scan for Input\n",
    "                int choice = sc.nextInt();  // using method from Java Scanner Object\n",
    "                System.out.print(\"\" + choice + \": \");\n",
    "                quit = this.action(choice);  // take action\n",
    "            } catch (Exception e) {\n",
    "                sc.nextLine(); // error: clear buffer\n",
    "                System.out.println(e + \": Not a number, try again.\");\n",
    "            }\n",
    "        }\n",
    "        sc.close();\n",
    "    }\n",
    "\n",
    "    // Print the menu options to Terminal\n",
    "    private void print() {\n",
    "        //System.out.println commands below is used to present a Menu to the user. \n",
    "        System.out.println(\"-------------------------\\n\");\n",
    "        System.out.println(\"Choose from these choices\");\n",
    "        System.out.println(\"-------------------------\\n\");\n",
    "        System.out.println(\"1 - Say Hello\");\n",
    "        System.out.println(\"2 - Output colors\");\n",
    "        System.out.println(\"3 - Loading in color\");\n",
    "        System.out.println(\"4 - Greatest Common Factor\");\n",
    "        System.out.println(\"5 - Least Common Multiple\");\n",
    "        System.out.println(\"0 - Quit\");\n",
    "        System.out.println(\"-------------------------\\n\");\n",
    "    }\n",
    "\n",
    "    // Private method to perform action and return true if action is to quit/exit\n",
    "    private boolean action(int selection) {\n",
    "        boolean quit = false;\n",
    "\n",
    "        switch (selection) {  // Switch or Switch/Case is Control Flow statement and is used to evaluate the user selection\n",
    "            case 0:  \n",
    "                System.out.print(\"Goodbye, World!\");\n",
    "                quit = true;\n",
    "                break;\n",
    "            case 1:\n",
    "                System.out.print(\"Hello, World!\");\n",
    "                break;\n",
    "            case 2:\n",
    "                for(int i = 0; i < COLORS.length; i++)  // loop through COLORS array\n",
    "                    System.out.print(COLORS[i][ANSI] + COLORS[i][NAME]);\n",
    "                break;\n",
    "            case 3:\n",
    "                System.out.print(\"Loading...\");\n",
    "                for (int i = 0; i < 20; i++) {  // fixed length loading bar\n",
    "                    int random = (int) (Math.random() * COLORS.length);  // random logic\n",
    "                    try {\n",
    "                        Thread.sleep(100);  // delay for loading\n",
    "                    } catch (Exception e) {\n",
    "                        System.out.println(e);\n",
    "                    }\n",
    "                    System.out.print(COLORS[random][ANSI] + \"#\");\n",
    "                }\n",
    "                break;\n",
    "\n",
    "            case 4:\n",
    "                // two numbers from user input\n",
    "                Scanner input = new Scanner(System.in);\n",
    "                System.out.println(\"Enter a number: \");\n",
    "                int a = input.nextInt();\n",
    "                System.out.println(\"Enter another number: \");\n",
    "                Scanner input2 = new Scanner(System.in);\n",
    "                int b = input2.nextInt();\n",
    "        \n",
    "                int c = Math.min(a, b);\n",
    "                input.close();\n",
    "                input2.close();\n",
    "                int gcd = 1;\n",
    "                for(int i = c; i > 0; i--){ // descending\n",
    "                    if(a % i == 0 && b % i == 0){\n",
    "                        gcd = i;\n",
    "                        break; // exit loop if it is a factor\n",
    "                    }\n",
    "                }\n",
    "                System.out.println(\"The greatest common factor of \" + a + \" and \" + b + \" is \" + gcd);\n",
    "                break; \n",
    "                \n",
    "            case 5:\n",
    "                Scanner num1 = new Scanner(System.in);\n",
    "                System.out.println(\"Enter a number: \");\n",
    "                int x = num1.nextInt();\n",
    "                Scanner num2 = new Scanner(System.in);\n",
    "                System.out.println(\"Enter another number: \");\n",
    "                int y = num2.nextInt();\n",
    "        \n",
    "                num1.close();\n",
    "                num2.close();\n",
    "        \n",
    "                int m = Math.max(x, y); // least common multiple must be at least as large as the larger of the two numbers\n",
    "        \n",
    "                while (true) { // repeat until break\n",
    "                    if(m % x == 0 && m % y == 0){\n",
    "                        System.out.println(\"The least common multiple of \" + x + \" and \" + y + \" is \" + m);\n",
    "                        break;\n",
    "                    }\n",
    "                    m += 1;\n",
    "                }\n",
    "                break;   \n",
    "                   \n",
    "            default:\n",
    "                //Prints error message from console\n",
    "                System.out.print(\"Unexpected choice, try again.\");\n",
    "        }\n",
    "        System.out.println(DEFAULT);  // make sure to reset color and provide new line\n",
    "        return quit;\n",
    "    }\n",
    "\n",
    "    // Static driver/tester method\n",
    "    static public void main(String[] args)  {  \n",
    "        new Menu(); // starting Menu object\n",
    "    }\n",
    "\n",
    "}\n",
    "Menu.main(null);"
   ]
  },
  {
   "cell_type": "markdown",
   "metadata": {},
   "source": [
    "# Desktop GUI Menu \n",
    "\n",
    "See Brian and I's GUI Console that we put together: https://bgt072105.github.io/CSA-tri1-teamrepo/2022/09/05/GUImenu.html\n",
    "\n",
    "Objects Used:\n",
    "- Used the if else, if else structure that allows text to show up based on what the user selects\n",
    "- Scanner class\n",
    "- Static variable since GUI doesn't allow inputs\n",
    "\n",
    "PBL Learnings:\n",
    "- Graphical User Interface allows for the user to click and navigate through the console based on what they want to see\n",
    "- More faster and easier to understand\n",
    "- More visual for the user compared to Console"
   ]
  },
  {
   "cell_type": "markdown",
   "metadata": {},
   "source": [
    "# Hacks \n"
   ]
  },
  {
   "cell_type": "markdown",
   "metadata": {},
   "source": [
    "Explain where a Class is defined\n",
    "- You define a class whenever you need to add variables, objects or methods to your code"
   ]
  },
  {
   "cell_type": "code",
   "execution_count": null,
   "metadata": {},
   "outputs": [],
   "source": [
    "// class definition\n",
    "public class classname"
   ]
  },
  {
   "cell_type": "markdown",
   "metadata": {},
   "source": [
    "Explain where an instances of a Class is defined: A class is defined when you have an object. Here, I created a new menu for the user to select different options to input values for.\n"
   ]
  },
  {
   "cell_type": "code",
   "execution_count": null,
   "metadata": {},
   "outputs": [],
   "source": [
    "// new instance of class (object)\n",
    "new Menu();\n"
   ]
  },
  {
   "cell_type": "markdown",
   "metadata": {},
   "source": [
    "Explain where an object is Calling a Method: An object is calling a method when an action needs to be performed for the code to run. Here, I created an object where I can input an integer\n"
   ]
  },
  {
   "cell_type": "code",
   "execution_count": null,
   "metadata": {},
   "outputs": [],
   "source": [
    "// object calling method\n",
    "\n",
    "int choice = sc.nextInt();  // sc object calls nextInt() method"
   ]
  },
  {
   "cell_type": "markdown",
   "metadata": {},
   "source": [
    "Explain where an object is Mutating data\n"
   ]
  },
  {
   "cell_type": "code",
   "execution_count": null,
   "metadata": {},
   "outputs": [],
   "source": [
    "// mutating data refers to a change in the original data. Here, the primitive data type is number that is being mutated to create a least common multiple\n",
    "int x = num1.nextInt();\n",
    "Scanner num2 = new Scanner(System.in);\n",
    "System.out.println(\"Enter another number: \");\n",
    "int y = num2.nextInt();\n",
    "\n",
    "num1.close();\n",
    "num2.close();\n",
    "\n",
    "int m = Math.max(x, y);"
   ]
  },
  {
   "cell_type": "markdown",
   "metadata": {},
   "source": [
    "Describe Console, GUI differences, or Code.org differences.\n",
    "- Console: \n",
    "    - User enters inputs and get respective outputs\n",
    "    - Not as visual\n",
    "    - Requires very good understanding of script and syntax\n",
    "    - Example: Bash shell --> inputs by user, outputs through the code \n",
    "    \n",
    "- GUI: \n",
    "    - More clickable platform \n",
    "    - Comfortable to use because it's user-friendly\n",
    "    - Visual feedback and display\n",
    "    - Can't really perform multiple tasks at once\n",
    "    - You can access another computer/platform remotely\n",
    "    - example: Apple's Macintosh operating system\n",
    "\n",
    "- Code.org: \n",
    "    - Uses the painter as a visual object to help the user understand the code's implementations\n",
    "    - File and public class \" name \" should be same\n",
    "    - Public class was My Neighborhood same as what the file was named\n",
    "    - Calling a method is done through \"variableName.methodName();\n",
    "    - More basic platform\n"
   ]
  },
  {
   "cell_type": "markdown",
   "metadata": {},
   "source": [
    "# Extra Observations\n",
    " \n",
    "- Need to be very careful with syntax and brackets otherwise it throws off your whole code\n",
    "- For GUI Console, inputs would've been useful\n",
    "- A problem we faced was that the regular list console wasn't working on Brian's computer so we used a GUI instead\n",
    "- We could try having a more visually appealing GUI for our user\n",
    "- Need to be careful when naming doubles and integers being attentive to their definitions\n",
    "- Not as interesting that the GUI can't take a user input in case we want to make a calculator or something like that\n"
   ]
  }
 ],
 "metadata": {
  "kernelspec": {
   "display_name": "Java",
   "language": "java",
   "name": "java"
  },
  "language_info": {
   "codemirror_mode": "java",
   "file_extension": ".jshell",
   "mimetype": "text/x-java-source",
   "name": "java",
   "pygments_lexer": "java",
   "version": "17.0.4.1+1"
  },
  "orig_nbformat": 4
 },
 "nbformat": 4,
 "nbformat_minor": 2
}
