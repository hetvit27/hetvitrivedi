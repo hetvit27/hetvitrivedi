{
 "cells": [
  {
   "attachments": {},
   "cell_type": "markdown",
   "metadata": {},
   "source": [
    "# Challenge 2\n",
    "> \"Generics Types Checkpoint 2 Hacks 2\"\n",
    "- toc:true\n",
    "- branch: master\n",
    "- badges: true\n",
    "- comments: true\n",
    "- author: Hetvi Trivedi\n",
    "- categories: [collegeboard]"
   ]
  },
  {
   "attachments": {},
   "cell_type": "markdown",
   "metadata": {},
   "source": [
    "# Hack 2\n",
    "perform a merge or combination of 2 Queue's that are ordered. This is a foundation step for the algorithm used in Merge sorting. IMO, this algorithm is easier if you \"peek\" at data at the head of the queue, prior to performing dequeue action."
   ]
  },
  {
   "cell_type": "code",
   "execution_count": 4,
   "metadata": {},
   "outputs": [
    {
     "name": "stdout",
     "output_type": "stream",
     "text": [
      "1 2 3 4 5 6 "
     ]
    }
   ],
   "source": [
    "import java.util.LinkedList;\n",
    "import java.util.Queue;\n",
    "\n",
    "public class MergeQueues {\n",
    "    public static void main(String[] args) {\n",
    "        Queue<Integer> q1 = new LinkedList<>();\n",
    "        q1.add(1);\n",
    "        q1.add(3);\n",
    "        q1.add(5);\n",
    "\n",
    "        Queue<Integer> q2 = new LinkedList<>();\n",
    "        q2.add(2);\n",
    "        q2.add(4);\n",
    "        q2.add(6);\n",
    "\n",
    "        Queue<Integer> mergedQueue = merge(q1, q2);\n",
    "\n",
    "        // Print the merged queue\n",
    "        while (!mergedQueue.isEmpty()) {\n",
    "            System.out.print(mergedQueue.poll() + \" \");\n",
    "        }\n",
    "    }\n",
    "\n",
    "    public static Queue<Integer> merge(Queue<Integer> q1, Queue<Integer> q2) {\n",
    "        Queue<Integer> mergedQueue = new LinkedList<>();\n",
    "\n",
    "        while (!q1.isEmpty() && !q2.isEmpty()) {\n",
    "            if (q1.peek() < q2.peek()) {\n",
    "                mergedQueue.add(q1.poll());\n",
    "            } else {\n",
    "                mergedQueue.add(q2.poll());\n",
    "            }\n",
    "        }\n",
    "\n",
    "        // Add remaining elements of q1, if any\n",
    "        while (!q1.isEmpty()) {\n",
    "            mergedQueue.add(q1.poll());\n",
    "        }\n",
    "\n",
    "        // Add remaining elements of q2, if any\n",
    "        while (!q2.isEmpty()) {\n",
    "            mergedQueue.add(q2.poll());\n",
    "        }\n",
    "\n",
    "        return mergedQueue;\n",
    "    }\n",
    "}\n",
    "MergeQueues.main(null)"
   ]
  },
  {
   "attachments": {},
   "cell_type": "markdown",
   "metadata": {},
   "source": [
    "## Description of the code \n",
    "- Java class called \"MergeQueues\" that merges the two sets of integers from least to greatest\n",
    "\n",
    "- two queues, \"q1\" and \"q2,\" are created with integer values, and the \"merge\" method is called with \"q1\" and \"q2\" as arguments, and the returned merged queue is stored in \"mergedQueue.\"\n",
    "- The merged queue is then printed out using a while loop that removes and prints the first element in the merged queue until the queue is empty.\n",
    "- The \"merge\" method creates a new empty queue called \"mergedQueue\" \n",
    "- It then compares the first elements of \"q1\" and \"q2,\" removes the smaller element, and adds it to \"mergedQueue\"\n",
    "- This process continues until one of the input queues becomes empty\n",
    "- Then, the remaining elements of the non-empty queue are added to \"mergedQueue\" in their existing order. Finally, the mergedQueue is returned.\n",
    "- When the code is executed, it calls the \"main\" method, which in turn calls the \"merge\" method to merge \"q1\" and \"q2\" and print out the merged queue"
   ]
  }
 ],
 "metadata": {
  "kernelspec": {
   "display_name": "Java",
   "language": "java",
   "name": "java"
  },
  "language_info": {
   "codemirror_mode": "java",
   "file_extension": ".jshell",
   "mimetype": "text/x-java-source",
   "name": "java",
   "pygments_lexer": "java",
   "version": "17.0.4.1+1"
  },
  "orig_nbformat": 4
 },
 "nbformat": 4,
 "nbformat_minor": 2
}
