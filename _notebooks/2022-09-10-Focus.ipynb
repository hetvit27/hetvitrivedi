{
 "cells": [
  {
   "cell_type": "markdown",
   "metadata": {},
   "source": [
    "# \"Focus and Skills\"\n",
    "> \"Notes from Psychology and Good Life + Extra Activities\"\n",
    "\n",
    "- toc:true\n",
    "- branch: master\n",
    "- badges: true\n",
    "- comments: true\n",
    "- author: Hetvi Trivedi\n",
    "- categories: [extra]"
   ]
  },
  {
   "cell_type": "markdown",
   "metadata": {},
   "source": [
    "# Notes from the Video \n",
    "- Students in college start sacrificing their mental health for their grades and to just get to classes\n",
    "- It's important to build habits for yourself; do the things that you love\n",
    "- Brainstorm: podcasting, reading, running, drinking coffee, going to the beach\n",
    "- Be grateful for the opportunities and resources you have, but don't burn yourself out"
   ]
  },
  {
   "cell_type": "markdown",
   "metadata": {},
   "source": [
    "# Thank you note \n",
    "\n",
    "Dear Ms. Hinds,\n",
    "        Thank you for always being there for me whenever I need a break. You always encourage me to be my best self and to stand up to life's challenges. I'm grateful for all the lessons you've taught me from standing up for myself to leaving people with bad energy behind. I look forward to seeing you every week to laugh at jokes together and just talk about life. You are not only a teacher to me but also a second mom and a best friend. \n",
    "\n"
   ]
  },
  {
   "cell_type": "markdown",
   "metadata": {},
   "source": [
    "# Gratitude List\n",
    "- My health: being able to learn and walk\n",
    "- My family who always supports me in my goals\n",
    "- A bunch of learning resources and opportunities\n",
    "- Beautiful weather in SD\n",
    "- My friends"
   ]
  },
  {
   "cell_type": "markdown",
   "metadata": {},
   "source": [
    "# Personal and Academic goals\n",
    "- To always be kind to others\n",
    "- To surround myself with uplifting people \n",
    "- To make a change on DNHS's campus\n",
    "- To get into a college that I truly believe I belong in\n",
    "- To always put my 100% effort into what I pursue\n",
    "- To use my energy and resources to make a positive impact in the campuses and communities I'm apart of"
   ]
  }
 ],
 "metadata": {
  "language_info": {
   "name": "python"
  },
  "orig_nbformat": 4
 },
 "nbformat": 4,
 "nbformat_minor": 2
}
