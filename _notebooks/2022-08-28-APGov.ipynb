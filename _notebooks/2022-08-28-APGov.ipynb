{
 "cells": [
  {
   "cell_type": "markdown",
   "metadata": {},
   "source": [
    "# \"AP Government Notes\"\n",
    "> \"Other than CSA, my fastpages can be useful for other classes\"\n",
    "\n",
    "- toc:true\n",
    "- branch: master\n",
    "- badges: true\n",
    "- comments: true\n",
    "- author: Hetvi Trivedi\n",
    "- categories: [ap gov]"
   ]
  },
  {
   "cell_type": "markdown",
   "metadata": {},
   "source": [
    "# Forms of Government we have discussesd\n",
    "-Autocracy: One person has all power; monarchy or dictatorship\n",
    "\n",
    "-Democracy: citizens have power; representative or direct\n",
    "\n",
    "-Oligarchy: few people control the county; military dictatorship\n",
    "\n",
    "-Religious Rule: theocracy; god is the ultimate authority here"
   ]
  },
  {
   "cell_type": "markdown",
   "metadata": {},
   "source": [
    "# Liberals and Conservatives\n",
    "-Liberals: want the government to intervene more to help uplift social and economic welfare when needed\n",
    "\n",
    "-Conservatives: want individual rights to be emphasized; follow laissez-faire policy"
   ]
  },
  {
   "cell_type": "markdown",
   "metadata": {},
   "source": [
    "# Types of Media\n",
    "\n",
    "-Print: newspapers, magazines, and journals\n",
    "-Broadcast media: news from TV or radio\n",
    "-Talk Radio: Interviews with commentary --- mostly always bias\n",
    "-Internet: mix of traditional and blog sites\n",
    "\n"
   ]
  },
  {
   "cell_type": "markdown",
   "metadata": {},
   "source": [
    "# Types of Sources\n",
    "-On the record: everything the sources says can be used in article\n",
    "\n",
    "-On background: reporter may quote the source and give a hint as to where they work\n",
    "\n",
    "-Off the record: source's information can't be used at all so the reporter has to do more searching\n",
    "\n",
    "-Deep background: can't quote or identify the source; example: Watergate Scandal"
   ]
  }
 ],
 "metadata": {
  "kernelspec": {
   "display_name": "Python 3.10.6 64-bit",
   "language": "python",
   "name": "python3"
  },
  "language_info": {
   "name": "python",
   "version": "3.10.6"
  },
  "orig_nbformat": 4,
  "vscode": {
   "interpreter": {
    "hash": "b0fa6594d8f4cbf19f97940f81e996739fb7646882a419484c72d19e05852a7e"
   }
  }
 },
 "nbformat": 4,
 "nbformat_minor": 2
}
