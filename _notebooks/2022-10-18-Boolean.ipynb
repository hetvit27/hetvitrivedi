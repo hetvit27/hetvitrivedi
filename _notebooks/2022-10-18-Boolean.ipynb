{
 "cells": [
  {
   "cell_type": "markdown",
   "metadata": {},
   "source": [
    "# \"Unit 3 Booleans\"\n",
    "> \"Notes and Homework\"\n",
    "\n",
    "- toc:true\n",
    "- branch: master\n",
    "- badges: true\n",
    "- comments: true\n",
    "- author: Hetvi Trivedi\n",
    "- categories:[collegeboard]"
   ]
  },
  {
   "cell_type": "markdown",
   "metadata": {},
   "source": [
    "# 3.1 Boolean Expressions\n",
    "- Represent logical and tell whether something is true or false\n",
    "- =, !, <, >, >= are different operators\n",
    "\n",
    "# 3.2 If Statements and Control Flow\n",
    "- Perform computation depending on whether a Boolean conditions is true or false\n",
    "- If Statements: If the statement is true, it will return true; otherwise false\n",
    "\n",
    "# 3.3 If-Else Statements\n",
    "- Run a block of code if there is more than one alternative \n",
    "\n",
    "# 3.4 Else-If Statements\n",
    "- More conditions\n",
    "- If the first condition is proven false, the other conditions will be evaluated\n",
    "\n",
    "# 3.5 Compound Boolean Statements\n",
    "- Nested if statements: if-statements within if-statement -- allows more flexibility to run the code; if outer if-statement is false, internal if-statement won't be evaluated \n",
    "- Logical operators: && (and) ll(or) and !(not)\n",
    "- Short circulated evaluation: the result of a compound Boolean expression can be determined just by looking at a few expressions\n",
    "\n",
    "# 3.6 Compound Boolean Expressions\n",
    "- De Morgan's laws: simplifies Boolean expressions\n",
    "- !(a&7B) = (!a ll !b)\n",
    "- !(a ll b) = (!a && !b)\n",
    "\n",
    "# 3.7 Comparing Objects\n",
    "- Use '==' to see if two objects are referring to aliases for the same object\n",
    "- Use '.equals()' to see if the attributes of two objects are the same\n",
    "- Ex: vehicle car = new Vehicle(\"blue,\" 4); vehicle car2 = new Vehicle (\"blue,\" 4) --> Vehicle blue car = car \n",
    "- Both the vehicles have the same attributes\n"
   ]
  },
  {
   "cell_type": "code",
   "execution_count": 2,
   "metadata": {},
   "outputs": [],
   "source": [
    "boolean cloudy = true;\n",
    "boolean rainy = false;\n",
    "\n",
    "if (!cloudy && !rainy) {\n",
    "    System.out.println(\"Don't forget to bring a hat!\");\n",
    "}\n"
   ]
  },
  {
   "cell_type": "markdown",
   "metadata": {},
   "source": [
    "# 2019 FRQ 1 Part A\n"
   ]
  },
  {
   "cell_type": "code",
   "execution_count": null,
   "metadata": {},
   "outputs": [],
   "source": [
    "public static int numberOfLeapYears(int year1, int year2)\n",
    "{\n",
    "    int count = 0;\n",
    "    for (int y = year1; y <= year2; y++) {\n",
    "    if (isLeapYear(y))\n",
    "    {\n",
    "    count++; }\n",
    "    }\n",
    "    return count;\n",
    "}"
   ]
  },
  {
   "cell_type": "markdown",
   "metadata": {},
   "source": [
    "# 2019 Part B "
   ]
  },
  {
   "cell_type": "code",
   "execution_count": null,
   "metadata": {},
   "outputs": [],
   "source": [
    "public static int dayOfWeek(int month, int day, int year)\n",
    "{\n",
    " int startDay = firstDayOfYear(year);\n",
    " int nthDay = dayOfYear(month, day, year);\n",
    " int returnDay = (startDay + nthDay - 1) % 7;\n",
    " return returnDay;\n",
    "}"
   ]
  },
  {
   "cell_type": "markdown",
   "metadata": {},
   "source": [
    "# Quizziz"
   ]
  },
  {
   "cell_type": "markdown",
   "metadata": {},
   "source": [
    "![](../images/quiz.png)"
   ]
  },
  {
   "cell_type": "markdown",
   "metadata": {},
   "source": [
    "# Even Numbered Conditional Exercises"
   ]
  },
  {
   "cell_type": "markdown",
   "metadata": {},
   "source": []
  },
  {
   "cell_type": "markdown",
   "metadata": {},
   "source": [
    "### Problem 2"
   ]
  },
  {
   "cell_type": "code",
   "execution_count": 10,
   "metadata": {},
   "outputs": [
    {
     "name": "stdout",
     "output_type": "stream",
     "text": [
      "Input a: Input b: Input c: The roots are -0.20871215252208009 and -4.7912878474779195\n"
     ]
    }
   ],
   "source": [
    "import java.util.Scanner;\n",
    "public class Problem2 {\n",
    "  public static void main(String[] Strings) {\n",
    "        Scanner input = new Scanner(System.in);\n",
    "            System.out.print(\"What is the coefficient A?: \");\n",
    "            double a = input.nextDouble();\n",
    "            \n",
    "            System.out.print(\"What is the coefficient B?: \");\n",
    "            double b = input.nextDouble();\n",
    "            \n",
    "            System.out.print(\"What is the coefficient C?: \");\n",
    "            double c = input.nextDouble();\n",
    "\n",
    "            double result = b * b - 4.0 * a * c;\n",
    "\n",
    "            if (result > 0.0) {\n",
    "                double r1 = (-b + (b * b - 4 * a * c)/(2*a));\n",
    "                double r2 = (-b - (b * b - 4 * a * c)/(2*a));\n",
    "                System.out.println(\"The roots are \" + r1 + \" and \" + r2);\n",
    "            } else if (result == 0.0) {\n",
    "                double r1 = -b / (2.0 * a);\n",
    "                System.out.println(\"The root is \" + r1);\n",
    "            } else {\n",
    "                System.out.println(\"The equation has no real roots.\");\n",
    "            }\n",
    "\n",
    "    }\n",
    "}\n",
    "Exercise2.main(null);"
   ]
  },
  {
   "cell_type": "markdown",
   "metadata": {},
   "source": [
    "## Problem 4"
   ]
  },
  {
   "cell_type": "code",
   "execution_count": 9,
   "metadata": {},
   "outputs": [
    {
     "name": "stdout",
     "output_type": "stream",
     "text": [
      "number: 25.0\n",
      "positive\n"
     ]
    }
   ],
   "source": [
    "public class Problem4 {\n",
    "\n",
    "    public static void main(String[] args) {\n",
    "        Scanner input = new Scanner(System.in);\n",
    "\n",
    "        System.out.print(\"number: \");\n",
    "        double number = input.nextDouble();\n",
    "        System.out.println(number);\n",
    "\n",
    "        if (number > 0) {\n",
    "            System.out.println(\"positive\");\n",
    "        } else if (number == 0) {\n",
    "            System.out.println(\"zero\");\n",
    "        } else {\n",
    "            System.out.println(\"neg\");\n",
    "        }\n",
    "\n",
    "        if (number < 1) {\n",
    "            System.out.println(\"neg\");\n",
    "        } else if (number > 1000000) {\n",
    "            System.out.println(\"too big \");\n",
    "        }\n",
    "\n",
    "    }\n",
    "}\n",
    "\n",
    "Problem4.main(null);"
   ]
  },
  {
   "cell_type": "markdown",
   "metadata": {},
   "source": [
    "### Problem 6"
   ]
  },
  {
   "cell_type": "code",
   "execution_count": 11,
   "metadata": {},
   "outputs": [
    {
     "name": "stdout",
     "output_type": "stream",
     "text": [
      "Input number: Input another number: They are different\n"
     ]
    }
   ],
   "source": [
    "import java.util.Scanner;\n",
    "public class Problem6 {\n",
    "\n",
    "    \n",
    "  public static void main(String[] args)\n",
    "    {\n",
    "        Scanner in = new Scanner(System.in);\n",
    "\n",
    "        System.out.print(\"Input number: \");\n",
    "        double x = in.nextDouble();\n",
    "        System.out.print(\"Input another number: \");\n",
    "        double y = in.nextDouble();\n",
    "\n",
    "        x = Math.round(x * 1000);\n",
    "        x = x / 1000;\n",
    "\n",
    "        y = Math.round(y * 1000);\n",
    "        y = y / 1000;\n",
    "\n",
    "        if (x == y)\n",
    "        {\n",
    "            System.out.println(\"They are the same up to three decimal places\");\n",
    "        }\n",
    "        else\n",
    "        {\n",
    "            System.out.println(\"They are different\");\n",
    "        }\n",
    "    }\n",
    "}\n",
    "Problem6.main(null);"
   ]
  },
  {
   "cell_type": "markdown",
   "metadata": {},
   "source": [
    "### Problem 8  \n",
    "\n",
    "Wasn't sure how to do this one. Had to look at solutions"
   ]
  },
  {
   "cell_type": "code",
   "execution_count": 12,
   "metadata": {},
   "outputs": [
    {
     "name": "stdout",
     "output_type": "stream",
     "text": [
      "Input an alphabet: Input letter is Consonant\n"
     ]
    }
   ],
   "source": [
    "import java.util.Scanner;\n",
    "public class Exercise8 {\n",
    "\n",
    "    \n",
    "  public static void main(String[] args)\n",
    "    {\n",
    "        Scanner in = new Scanner(System.in);\n",
    "\n",
    "        System.out.print(\"Input an alphabet: \");\n",
    "        String input = in.next().toLowerCase();\n",
    "\n",
    "        boolean uppercase = input.charAt(0) >= 65 && input.charAt(0) <= 90;\n",
    "        boolean lowercase = input.charAt(0) >= 97 && input.charAt(0) <= 122;\n",
    "        boolean vowels = input.equals(\"a\") || input.equals(\"e\") || input.equals(\"i\")\n",
    "                || input.equals(\"o\") || input.equals(\"u\");\n",
    "\n",
    "        if (input.length() > 1)\n",
    "        {\n",
    "            System.out.println(\"Error. Not a single character.\");\n",
    "        }\n",
    "        else if (!(uppercase || lowercase))\n",
    "        {\n",
    "            System.out.println(\"Error. Not a letter. Enter uppercase or lowercase letter.\");\n",
    "        }\n",
    "        else if (vowels)\n",
    "        {\n",
    "            System.out.println(\"Input letter is Vowel\");\n",
    "        }\n",
    "        else\n",
    "        {\n",
    "            System.out.println(\"Input letter is Consonant\");\n",
    "        }\n",
    "    }\n",
    "}\n",
    "Exercise8.main(null);"
   ]
  },
  {
   "cell_type": "markdown",
   "metadata": {},
   "source": [
    "### Problem 10"
   ]
  },
  {
   "cell_type": "code",
   "execution_count": 16,
   "metadata": {},
   "outputs": [
    {
     "name": "stdout",
     "output_type": "stream",
     "text": [
      "The First 10 Natural Numbers are\n",
      "1\n",
      "2\n",
      "3\n",
      "4\n",
      "5\n",
      "6\n",
      "7\n",
      "8\n",
      "9\n",
      "10\n"
     ]
    }
   ],
   "source": [
    "public class Problem10 {\n",
    "\n",
    "\tpublic static void main(String[] args) {\n",
    "\t\t\n",
    "\t\tSystem.out.println(\"The First 10 Natural Numbers are\");\n",
    "\t\tfor(int i = 1; i <= 10; i++) \n",
    "\t\t{\n",
    "\t\t\tSystem.out.println(i);\n",
    "\t\t}\n",
    "\t}\n",
    "}\n",
    "Problem10.main(null);"
   ]
  },
  {
   "cell_type": "markdown",
   "metadata": {},
   "source": [
    "### Problem 12\n"
   ]
  },
  {
   "cell_type": "code",
   "execution_count": 18,
   "metadata": {},
   "outputs": [
    {
     "name": "stdout",
     "output_type": "stream",
     "text": [
      "Input the 5 numbers: \n",
      "The sum of the given number is 15\n",
      "The average of the given number is 3\n"
     ]
    }
   ],
   "source": [
    "import  java.util.Scanner;\n",
    "public class Problem12 {\n",
    "    public static void main(String[] args){\n",
    "        Scanner input = new Scanner(System.in);\n",
    "        int sum = 0;\n",
    "        int avg = 0;\n",
    "        System.out.println(\"Input the 5 numbers: \");\n",
    "        for(int i=1; i<=5; i++){\n",
    "            int num = input.nextInt();\n",
    "            sum +=  num;\n",
    "        }\n",
    "        System.out.println(\"The sum of the given number is \" + sum);\n",
    "        avg = sum/5;\n",
    "        System.out.println(\"The average of the given number is \" + avg);\n",
    "\n",
    "    }\n",
    "}\n",
    "Problem12.main(null);"
   ]
  },
  {
   "cell_type": "markdown",
   "metadata": {},
   "source": [
    "### Problem 14"
   ]
  },
  {
   "cell_type": "code",
   "execution_count": 20,
   "metadata": {},
   "outputs": [
    {
     "name": "stdout",
     "output_type": "stream",
     "text": [
      "5 * 1 = 5 \n",
      "5 * 2 = 10 \n",
      "5 * 3 = 15 \n",
      "5 * 4 = 20 \n",
      "5 * 5 = 25 \n",
      "5 * 6 = 30 \n",
      "5 * 7 = 35 \n",
      "5 * 8 = 40 \n",
      "5 * 9 = 45 \n",
      "5 * 10 = 50 \n"
     ]
    }
   ],
   "source": [
    "public class Problem14 {\n",
    "\n",
    "    public static void main(String[] args) {\n",
    "\n",
    "        int num = 5;\n",
    "        for(int i = 1; i <= 10; ++i)\n",
    "        {\n",
    "            System.out.printf(\"%d * %d = %d \\n\", num, i, num * i);\n",
    "        }\n",
    "    }\n",
    "}\n",
    "Problem14.main(null);"
   ]
  },
  {
   "cell_type": "markdown",
   "metadata": {},
   "source": [
    "### Problem 16"
   ]
  },
  {
   "cell_type": "code",
   "execution_count": 21,
   "metadata": {},
   "outputs": [
    {
     "name": "stdout",
     "output_type": "stream",
     "text": [
      "rows: 4\n",
      "1\n",
      "12\n",
      "123\n",
      "1234\n"
     ]
    }
   ],
   "source": [
    "public class Problem16 {\n",
    "\n",
    "    public static void main(String[] args) {\n",
    "        \n",
    "        System.out.print(\"rows: \");\n",
    "        Scanner input = new Scanner(System.in);\n",
    "        int num = input.nextInt();\n",
    "        System.out.println(num);\n",
    "\n",
    "        for (int i = 1; i <= num; i++) {\n",
    "            for (int j = 1; j <= i; j++) {\n",
    "                System.out.print(j);\n",
    "            }\n",
    "            System.out.println();\n",
    "        }\n",
    "    }\n",
    "}\n",
    "\n",
    "Problem16.main(null);"
   ]
  },
  {
   "cell_type": "markdown",
   "metadata": {},
   "source": [
    "### Problem 18\n",
    "I didn't know how to do this one so I looked at solutions"
   ]
  },
  {
   "cell_type": "code",
   "execution_count": 22,
   "metadata": {},
   "outputs": [
    {
     "name": "stdout",
     "output_type": "stream",
     "text": [
      "Input number of rows : 1\n",
      "23\n",
      "456\n",
      "78910\n"
     ]
    }
   ],
   "source": [
    "import java.util.Scanner;\n",
    "public class Exercise18 {\n",
    "\n",
    "  public static void main(String[] args)\n",
    "\n",
    "{\n",
    "   \t\tint i,j,n,k=1;\n",
    "\n",
    "   \t\tSystem.out.print(\"Input number of rows : \");\n",
    "\n",
    "   \t\tScanner in = new Scanner(System.in);\n",
    "\t\t    n = in.nextInt();\n",
    "\n",
    "   \t\tfor(i=1;i<=n;i++)\n",
    "   \t\t{\n",
    "\t\tfor(j=1;j<=i;j++)\n",
    "\t   \tSystem.out.print(k++);\n",
    "\t   \tSystem.out.println(\"\");\n",
    "\t   \t}  \t\t\n",
    "\t}\n",
    "\t}\n",
    "Exercise18.main(null);"
   ]
  },
  {
   "cell_type": "markdown",
   "metadata": {},
   "source": [
    "### Problem 20\n",
    "Didn't know how to do this one either"
   ]
  },
  {
   "cell_type": "code",
   "execution_count": 23,
   "metadata": {},
   "outputs": [
    {
     "name": "stdout",
     "output_type": "stream",
     "text": [
      "Input number of rows : 1 \n",
      "2 3 \n",
      "4 5 6 \n"
     ]
    }
   ],
   "source": [
    "import java.util.Scanner;\n",
    "public class Main {\n",
    "public static void main(String[] args)\n",
    " {\n",
    "   int numberOfRows;\n",
    "   System.out.print(\"Input number of rows : \");\n",
    "   Scanner in = new Scanner(System.in);\n",
    "\t\t    numberOfRows = in.nextInt();\n",
    "   int number = 1;\n",
    "   for (int row = 1; row <= numberOfRows; row++)\n",
    "    {\n",
    "   for (int column = 1; column <= row; column++)\n",
    "     {\n",
    "       System.out.print(number + \" \");\n",
    "       number++;\n",
    "     }\n",
    "     System.out.println();\n",
    "    }\n",
    "  }\n",
    "}\n",
    "Main.main(null);"
   ]
  }
 ],
 "metadata": {
  "kernelspec": {
   "display_name": "Java",
   "language": "java",
   "name": "java"
  },
  "language_info": {
   "codemirror_mode": "java",
   "file_extension": ".jshell",
   "mimetype": "text/x-java-source",
   "name": "java",
   "pygments_lexer": "java",
   "version": "17.0.4.1+1"
  },
  "orig_nbformat": 4
 },
 "nbformat": 4,
 "nbformat_minor": 2
}
