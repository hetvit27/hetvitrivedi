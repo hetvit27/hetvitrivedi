{
 "cells": [
  {
   "cell_type": "markdown",
   "metadata": {},
   "source": [
    "# \"Unit 3 Booleans\"\n",
    "> \"Notes and Homework\"\n",
    "\n",
    "- toc:true\n",
    "- branch: master\n",
    "- badges: true\n",
    "- comments: true\n",
    "- author: Hetvi Trivedi\n",
    "- categories:[collegeboard]"
   ]
  },
  {
   "cell_type": "markdown",
   "metadata": {},
   "source": [
    "# 3.1 Boolean Expressions\n",
    "- Represent logical and tell whether something is true or false\n",
    "- =, !, <, >, >= are different operators\n",
    "\n",
    "# 3.2 If Statements and Control Flow\n",
    "- Perform computation depending on whether a Boolean conditions is true or false\n",
    "- If Statements: If the statement is true, it will return true; otherwise false\n",
    "\n",
    "# 3.3 If-Else Statements\n",
    "- Run a block of code if there is more than one alternative \n",
    "\n",
    "# 3.4 Else-If Statements\n",
    "- More conditions\n",
    "- If the first condition is proven false, the other conditions will be evaluated\n",
    "\n",
    "# 3.5 Compound Boolean Statements\n",
    "- Nested if statements: if-statements within if-statement -- allows more flexibility to run the code; if outer if-statement is false, internal if-statement won't be evaluated \n",
    "- Logical operators: && (and) ll(or) and !(not)\n",
    "- Short circulated evaluation: the result of a compound Boolean expression can be determined just by looking at a few expressions\n",
    "\n",
    "# 3.6 Compound Boolean Expressions\n",
    "- De Morgan's laws: simplifies Boolean expressions\n",
    "- !(a&7B) = (!a ll !b)\n",
    "- !(a ll b) = (!a && !b)\n",
    "\n",
    "# 3.7 Comparing Objects\n",
    "- Use '==' to see if two objects are referring to aliases for the same object\n",
    "- Use '.equals()' to see if the attributes of two objects are the same\n",
    "- Ex: vehicle car = new Vehicle(\"blue,\" 4); vehicle car2 = new Vehicle (\"blue,\" 4) --> Vehicle blue car = car \n",
    "- Both the vehicles have the same attributes\n"
   ]
  },
  {
   "cell_type": "code",
   "execution_count": 2,
   "metadata": {},
   "outputs": [],
   "source": [
    "boolean cloudy = true;\n",
    "boolean rainy = false;\n",
    "\n",
    "if (!cloudy && !rainy) {\n",
    "    System.out.println(\"Don't forget to bring a hat!\");\n",
    "}\n"
   ]
  },
  {
   "cell_type": "markdown",
   "metadata": {},
   "source": [
    "# 2019 FRQ 1 Part A\n"
   ]
  },
  {
   "cell_type": "code",
   "execution_count": null,
   "metadata": {},
   "outputs": [],
   "source": [
    "public static int numberOfLeapYears(int year1, int year2)\n",
    "{\n",
    "    int count = 0;\n",
    "    for (int y = year1; y <= year2; y++) {\n",
    "    if (isLeapYear(y))\n",
    "    {\n",
    "    count++; }\n",
    "    }\n",
    "    return count;\n",
    "}"
   ]
  },
  {
   "cell_type": "markdown",
   "metadata": {},
   "source": [
    "# 2019 Part B "
   ]
  },
  {
   "cell_type": "code",
   "execution_count": null,
   "metadata": {},
   "outputs": [],
   "source": [
    "public static int dayOfWeek(int month, int day, int year)\n",
    "{\n",
    " int startDay = firstDayOfYear(year);\n",
    " int nthDay = dayOfYear(month, day, year);\n",
    " int returnDay = (startDay + nthDay - 1) % 7;\n",
    " return returnDay;\n",
    "}"
   ]
  }
 ],
 "metadata": {
  "kernelspec": {
   "display_name": "Java",
   "language": "java",
   "name": "java"
  },
  "language_info": {
   "codemirror_mode": "java",
   "file_extension": ".jshell",
   "mimetype": "text/x-java-source",
   "name": "java",
   "pygments_lexer": "java",
   "version": "17.0.4.1+1"
  },
  "orig_nbformat": 4
 },
 "nbformat": 4,
 "nbformat_minor": 2
}
