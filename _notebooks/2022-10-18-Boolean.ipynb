{
 "cells": [
  {
   "cell_type": "markdown",
   "metadata": {},
   "source": [
    "# \"Unit 3 Booleans\"\n",
    "> \"Notes and Homework\"\n",
    "\n",
    "- toc:true\n",
    "- branch: master\n",
    "- badges: true\n",
    "- comments: true\n",
    "- author: Hetvi Trivedi\n",
    "- categories:[collegeboard]"
   ]
  },
  {
   "cell_type": "markdown",
   "metadata": {},
   "source": [
    "# 3.1 Boolean Expressions\n",
    "- Represent logical and tell whether something is true or false\n",
    "- =, !, <, >, >= are different operators\n",
    "\n",
    "# 3.2 If Statements and Control Flow\n",
    "- Perform computation depending on whether a Boolean conditions is true or false\n",
    "- If Statements: If the statement is true, it will return true; otherwise false\n",
    "\n",
    "# 3.3 If-Else Statements\n",
    "- Run a block of code if there is more than one alternative \n",
    "\n",
    "# 3.4 Else-If Statements\n",
    "- More conditions\n",
    "- If the first condition is proven false, the other conditions will be evaluated\n",
    "\n",
    "# 3.5 Compound Boolean Statements\n",
    "- Nested if statements: if-statements within if-statement -- allows more flexibility to run the code; if outer if-statement is false, internal if-statement won't be evaluated \n",
    "- Logical operators: && (and) ll(or) and !(not)\n",
    "- Short circulated evaluation: the result of a compound Boolean expression can be determined just by looking at a few expressions\n",
    "\n",
    "# 3.6 Compound Boolean Expressions\n",
    "- De Morgan's laws: simplifies Boolean expressions\n",
    "- !(a&7B) = (!a ll !b)\n",
    "- !(a ll b) = (!a && !b)\n",
    "\n",
    "# 3.7 Comparing Objects\n",
    "- Use '==' to see if two objects are referring to aliases for the same object\n",
    "- Use '.equals()' to see if the attributes of two objects are the same\n",
    "- Ex: vehicle car = new Vehicle(\"blue,\" 4); vehicle car2 = new Vehicle (\"blue,\" 4) --> Vehicle blue car = car \n",
    "- Both the vehicles have the same attributes\n"
   ]
  },
  {
   "cell_type": "code",
   "execution_count": 2,
   "metadata": {
    "vscode": {
     "languageId": "java"
    }
   },
   "outputs": [],
   "source": [
    "boolean cloudy = true;\n",
    "boolean rainy = false;\n",
    "\n",
    "if (!cloudy && !rainy) {\n",
    "    System.out.println(\"Don't forget to bring a hat!\");\n",
    "}\n"
   ]
  },
  {
   "cell_type": "markdown",
   "metadata": {},
   "source": [
    "# 2019 FRQ 1 Part A\n"
   ]
  },
  {
   "cell_type": "code",
   "execution_count": null,
   "metadata": {
    "vscode": {
     "languageId": "java"
    }
   },
   "outputs": [],
   "source": [
    "public static int numberOfLeapYears(int year1, int year2)\n",
    "{\n",
    "    int count = 0;\n",
    "    for (int y = year1; y <= year2; y++) {\n",
    "    if (isLeapYear(y))\n",
    "    {\n",
    "    count++; }\n",
    "    }\n",
    "    return count;\n",
    "}"
   ]
  },
  {
   "cell_type": "markdown",
   "metadata": {},
   "source": [
    "# 2019 Part B "
   ]
  },
  {
   "cell_type": "code",
   "execution_count": null,
   "metadata": {
    "vscode": {
     "languageId": "java"
    }
   },
   "outputs": [],
   "source": [
    "public static int dayOfWeek(int month, int day, int year)\n",
    "{\n",
    " int startDay = firstDayOfYear(year);\n",
    " int nthDay = dayOfYear(month, day, year);\n",
    " int returnDay = (startDay + nthDay - 1) % 7;\n",
    " return returnDay;\n",
    "}"
   ]
  },
  {
   "cell_type": "markdown",
   "metadata": {},
   "source": [
    "# Quizziz"
   ]
  },
  {
   "cell_type": "markdown",
   "metadata": {},
   "source": [
    "![](../images/quiz.png)"
   ]
  },
  {
   "cell_type": "markdown",
   "metadata": {},
   "source": [
    "# Even Numbered Conditional Exercises"
   ]
  },
  {
   "cell_type": "markdown",
   "metadata": {},
   "source": []
  },
  {
   "cell_type": "markdown",
   "metadata": {},
   "source": [
    "### Problem 2"
   ]
  },
  {
   "cell_type": "code",
   "execution_count": 10,
   "metadata": {
    "vscode": {
     "languageId": "java"
    }
   },
   "outputs": [
    {
     "name": "stdout",
     "output_type": "stream",
     "text": [
      "Input a: Input b: Input c: The roots are -0.20871215252208009 and -4.7912878474779195\n"
     ]
    }
   ],
   "source": [
    "import java.util.Scanner;\n",
    "public class Problem2 {\n",
    "  public static void main(String[] Strings) {\n",
    "        Scanner input = new Scanner(System.in);\n",
    "            System.out.print(\"What is the coefficient A?: \");\n",
    "            double a = input.nextDouble();\n",
    "            \n",
    "            System.out.print(\"What is the coefficient B?: \");\n",
    "            double b = input.nextDouble();\n",
    "            \n",
    "            System.out.print(\"What is the coefficient C?: \");\n",
    "            double c = input.nextDouble();\n",
    "\n",
    "            double result = b * b - 4.0 * a * c;\n",
    "\n",
    "            if (result > 0.0) {\n",
    "                double r1 = (-b + (b * b - 4 * a * c)/(2*a));\n",
    "                double r2 = (-b - (b * b - 4 * a * c)/(2*a));\n",
    "                System.out.println(\"The roots are \" + r1 + \" and \" + r2);\n",
    "            } else if (result == 0.0) {\n",
    "                double r1 = -b / (2.0 * a);\n",
    "                System.out.println(\"The root is \" + r1);\n",
    "            } else {\n",
    "                System.out.println(\"The equation has no real roots.\");\n",
    "            }\n",
    "\n",
    "    }\n",
    "}\n",
    "Exercise2.main(null);"
   ]
  },
  {
   "cell_type": "markdown",
   "metadata": {},
   "source": [
    "## Problem 4"
   ]
  },
  {
   "cell_type": "code",
   "execution_count": 9,
   "metadata": {
    "vscode": {
     "languageId": "java"
    }
   },
   "outputs": [
    {
     "name": "stdout",
     "output_type": "stream",
     "text": [
      "number: 25.0\n",
      "positive\n"
     ]
    }
   ],
   "source": [
    "public class Problem4 {\n",
    "\n",
    "    public static void main(String[] args) {\n",
    "        Scanner input = new Scanner(System.in);\n",
    "\n",
    "        System.out.print(\"number: \");\n",
    "        double number = input.nextDouble();\n",
    "        System.out.println(number);\n",
    "\n",
    "        if (number > 0) {\n",
    "            System.out.println(\"positive\");\n",
    "        } else if (number == 0) {\n",
    "            System.out.println(\"zero\");\n",
    "        } else {\n",
    "            System.out.println(\"neg\");\n",
    "        }\n",
    "\n",
    "        if (number < 1) {\n",
    "            System.out.println(\"neg\");\n",
    "        } else if (number > 1000000) {\n",
    "            System.out.println(\"too big \");\n",
    "        }\n",
    "\n",
    "    }\n",
    "}\n",
    "\n",
    "Problem4.main(null);"
   ]
  },
  {
   "cell_type": "markdown",
   "metadata": {},
   "source": [
    "### Problem 6"
   ]
  },
  {
   "cell_type": "code",
   "execution_count": 11,
   "metadata": {
    "vscode": {
     "languageId": "java"
    }
   },
   "outputs": [
    {
     "name": "stdout",
     "output_type": "stream",
     "text": [
      "Input number: Input another number: They are different\n"
     ]
    }
   ],
   "source": [
    "import java.util.Scanner;\n",
    "public class Problem6 {\n",
    "\n",
    "    \n",
    "  public static void main(String[] args)\n",
    "    {\n",
    "        Scanner in = new Scanner(System.in);\n",
    "\n",
    "        System.out.print(\"Input number: \");\n",
    "        double x = in.nextDouble();\n",
    "        System.out.print(\"Input another number: \");\n",
    "        double y = in.nextDouble();\n",
    "\n",
    "        x = Math.round(x * 1000);\n",
    "        x = x / 1000;\n",
    "\n",
    "        y = Math.round(y * 1000);\n",
    "        y = y / 1000;\n",
    "\n",
    "        if (x == y)\n",
    "        {\n",
    "            System.out.println(\"They are the same up to three decimal places\");\n",
    "        }\n",
    "        else\n",
    "        {\n",
    "            System.out.println(\"They are different\");\n",
    "        }\n",
    "    }\n",
    "}\n",
    "Problem6.main(null);"
   ]
  },
  {
   "cell_type": "markdown",
   "metadata": {},
   "source": [
    "### Problem 8  \n",
    "\n",
    "Wasn't sure how to do this one. Had to look at solutions"
   ]
  }
 ],
 "metadata": {
  "kernelspec": {
   "display_name": "Java",
   "language": "java",
   "name": "java"
  },
  "language_info": {
   "codemirror_mode": "java",
   "file_extension": ".jshell",
   "mimetype": "text/x-java-source",
   "name": "Java",
   "pygments_lexer": "java",
   "version": "17.0.4.1+1"
  },
  "orig_nbformat": 4
 },
 "nbformat": 4,
 "nbformat_minor": 2
}
