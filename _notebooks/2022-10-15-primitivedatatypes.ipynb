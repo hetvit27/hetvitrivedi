{
 "cells": [
  {
   "cell_type": "markdown",
   "metadata": {},
   "source": [
    "# Unit 1: Primitive Data Types\n",
    "> \"Detailed learnings and application\"\n",
    "\n",
    "- toc:true\n",
    "- branch: master\n",
    "- badges: true\n",
    "- comments: true\n",
    "- author: Hetvi Trivedi\n",
    "- categories: [jupyter]"
   ]
  },
  {
   "cell_type": "markdown",
   "metadata": {},
   "source": [
    "# Learning Objectives\n",
    "System class methods print output to the console.\n",
    "- String literals\n",
    "- Primitive Data Types\n",
    "- Declaring variables to different data types\n",
    "- Use of arithmetic expressions in a program\n",
    "- Data stored in variables\n",
    "- Assignment Statements"
   ]
  },
  {
   "cell_type": "markdown",
   "metadata": {},
   "source": [
    "# String Literals"
   ]
  },
  {
   "cell_type": "markdown",
   "metadata": {},
   "source": [
    "1. Declare a class: public class \"name\"\n",
    "2. Define where the class begins and ends through curly brackets\n",
    "3. Inside the curly brackets (class) you must have methods - at least one\n",
    "4. Main methods: public static void main(String[] args) \n",
    "5. Another curly bracket to define where the method begins and ends -- indented this time\n",
    "6. System.out.println (\"\"); -- lets us output text to our console, must end with a semicolon"
   ]
  },
  {
   "cell_type": "code",
   "execution_count": 19,
   "metadata": {
    "vscode": {
     "languageId": "java"
    }
   },
   "outputs": [
    {
     "name": "stdout",
     "output_type": "stream",
     "text": [
      "Hello World!\n"
     ]
    }
   ],
   "source": [
    "public class MyFirstProgram {\n",
    "    \n",
    "    public static void main(String[] args) \n",
    "    {\n",
    "        System.out.println(\"Hello World!\");\n",
    "    }\n",
    "}\n",
    "\n",
    "MyFirstProgram.main(null)"
   ]
  },
  {
   "cell_type": "markdown",
   "metadata": {},
   "source": [
    "# Declaring and Initializing Variables\n",
    "\n",
    "1. Variables defined within a method are local variables\n",
    "2. \"Int\" can hold any whole number\n",
    "3. You need an initial value in order to change it or increment it\n",
    "4. No quotation mark around variable because this will output the value stored by variable"
   ]
  },
  {
   "cell_type": "code",
   "execution_count": 20,
   "metadata": {
    "vscode": {
     "languageId": "java"
    }
   },
   "outputs": [
    {
     "name": "stdout",
     "output_type": "stream",
     "text": [
      "10\n"
     ]
    }
   ],
   "source": [
    "public class UsingAVariable{\n",
    "    public static void main(String[] args)\n",
    "    {\n",
    "        int x;\n",
    "        x = 10;\n",
    "        x = 5;\n",
    "        x = x + 1;\n",
    "        int myFinalScore = 10;\n",
    "\n",
    "        System.out.println(myFinalScore);\n",
    "    }\n",
    "}\n",
    "UsingAVariable.main(null)"
   ]
  },
  {
   "cell_type": "markdown",
   "metadata": {},
   "source": [
    "# 8 Primitve Data Types\n",
    "- Byte: minimum value of -128 and maximum value of 127 (inclusive). It is useful for saving memory in large arrays\n",
    "- Short: Minimum value of -32,768 and maximum value of 32,767. Same purpose as Byte\n",
    "- Int: Any integer or whole number\n",
    "- Long: Greater range than int\n",
    "- Float: floating point numbers that tend to have decimals\n",
    "- Double: not good for precise data\n",
    "- Boolean: logic that evaluates whether a condition is true or false\n",
    "- Char "
   ]
  },
  {
   "cell_type": "code",
   "execution_count": 23,
   "metadata": {
    "vscode": {
     "languageId": "java"
    }
   },
   "outputs": [
    {
     "name": "stdout",
     "output_type": "stream",
     "text": [
      "3\n",
      "false\n"
     ]
    }
   ],
   "source": [
    "public class PrimitiveDataTypes\n",
    "{\n",
    "    public static void main(String[] args)\n",
    "    {\n",
    "        int a = 3;\n",
    "        double b = 3.0;\n",
    "        b = 3; // only works for double\n",
    "        a = (int) 3.999; // casting cuts off everything after the decimal\n",
    "        System.out.println(a);\n",
    "\n",
    "        boolean c = true;\n",
    "        c = false;\n",
    "        System.out.println(c);\n",
    "    }\n",
    "}\n",
    "PrimitiveDataTypes.main(null)"
   ]
  },
  {
   "cell_type": "markdown",
   "metadata": {},
   "source": [
    "# Arithmetic Operations"
   ]
  },
  {
   "cell_type": "code",
   "execution_count": 33,
   "metadata": {
    "vscode": {
     "languageId": "java"
    }
   },
   "outputs": [
    {
     "name": "stdout",
     "output_type": "stream",
     "text": [
      "6\n",
      "0\n",
      "9\n",
      "1\n",
      "1\n"
     ]
    }
   ],
   "source": [
    "public class Operators \n",
    "{\n",
    "    public static void main(String[] args)\n",
    "    {\n",
    "        int x;\n",
    "        x = 3;\n",
    "\n",
    "        System.out.println(3+3); \n",
    "        System.out.println(3-3);\n",
    "        System.out.println(3*3);\n",
    "        System.out.println(3/3);\n",
    "        \n",
    "        x = 3*3;\n",
    "        x = 3 * x;\n",
    "\n",
    "        System.out.println(4 % 3);\n",
    "\n",
    "    }\n",
    "}\n",
    "Operators.main(null)"
   ]
  },
  {
   "cell_type": "markdown",
   "metadata": {},
   "source": [
    "# Practice 2013 FRQ 1"
   ]
  },
  {
   "cell_type": "markdown",
   "metadata": {},
   "source": [
    "# Part A"
   ]
  },
  {
   "cell_type": "code",
   "execution_count": null,
   "metadata": {
    "vscode": {
     "languageId": "java"
    }
   },
   "outputs": [],
   "source": [
    "public DownloadInfo getDownloadInfo(String title) { // define the class\n",
    "    for (DownloadInfo info : downloadList){\n",
    "    if (info.getTitle().equals(title)){\n",
    "     return info;\n",
    "     }\n",
    "    }\n",
    "    return null; // method inside the class\n",
    "    } "
   ]
  },
  {
   "cell_type": "markdown",
   "metadata": {},
   "source": [
    "# Part B"
   ]
  },
  {
   "cell_type": "code",
   "execution_count": null,
   "metadata": {
    "vscode": {
     "languageId": "java"
    }
   },
   "outputs": [],
   "source": [
    "public void updateDownloads(List<String> titles) {\n",
    "    for (String title : titles) {\n",
    "    DownloadInfo foundInfo = getDownloadInfo(title); // calls method\n",
    "    if (foundInfo == null){\n",
    "    downloadList.add(new DownloadInfo(title)); // makes new object\n",
    "    }\n",
    "    else {\n",
    "    foundInfo.incrementTimesDownloaded();\n",
    "    }\n",
    "    }\n",
    "   }"
   ]
  },
  {
   "cell_type": "markdown",
   "metadata": {},
   "source": [
    "# Resources Used\n",
    "\n",
    "https://www.youtube.com/watch?v=BjRvQbWsTfM&ab_channel=BillBarnum\n",
    "\n",
    "https://uploads-ssl.webflow.com/605fe570e5454a357d1e1811/60a17976f1de864fab86c46a_AP-CS-A-Study-Guide-Unit-1.pdf"
   ]
  }
 ],
 "metadata": {
  "kernelspec": {
   "display_name": "Java",
   "language": "java",
   "name": "java"
  },
  "language_info": {
   "codemirror_mode": "java",
   "file_extension": ".jshell",
   "mimetype": "text/x-java-source",
   "name": "Java",
   "pygments_lexer": "java",
   "version": "17.0.4.1+1"
  },
  "orig_nbformat": 4
 },
 "nbformat": 4,
 "nbformat_minor": 2
}
