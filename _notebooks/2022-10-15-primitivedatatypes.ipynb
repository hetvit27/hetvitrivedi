{
 "cells": [
  {
   "cell_type": "markdown",
   "metadata": {},
   "source": [
    "# Unit 1 Primitives\n",
    "> \"Learnings and application to FRQ\"\n",
    "\n",
    "- toc:true\n",
    "- branch: master\n",
    "- badges: true\n",
    "- comments: true\n",
    "- author: Hetvi Trivedi\n",
    "- categories:[collegeboard]\n"
   ]
  },
  {
   "cell_type": "markdown",
   "metadata": {},
   "source": [
    "# Learning Objectives\n",
    "System class methods print output to the console.\n",
    "- String literals\n",
    "- Primitive Data Types\n",
    "- Declaring variables to different data types\n",
    "- Use of arithmetic expressions in a program\n",
    "- Data stored in variables\n",
    "- Assignment Statements"
   ]
  },
  {
   "cell_type": "markdown",
   "metadata": {},
   "source": [
    "# String Literals"
   ]
  },
  {
   "cell_type": "markdown",
   "metadata": {},
   "source": [
    "1. Declare a class: public class \"name\"\n",
    "2. Define where the class begins and ends through curly brackets\n",
    "3. Inside the curly brackets (class) you must have methods - at least one\n",
    "4. Main methods: public static void main(String[] args) \n",
    "5. Another curly bracket to define where the method begins and ends -- indented this time\n",
    "6. System.out.println (\"\"); -- lets us output text to our console, must end with a semicolon"
   ]
  },
  {
   "cell_type": "code",
   "execution_count": 19,
   "metadata": {},
   "outputs": [
    {
     "name": "stdout",
     "output_type": "stream",
     "text": [
      "Hello World!\n"
     ]
    }
   ],
   "source": [
    "public class MyFirstProgram {\n",
    "    \n",
    "    public static void main(String[] args) \n",
    "    {\n",
    "        System.out.println(\"Hello World!\");\n",
    "    }\n",
    "}\n",
    "\n",
    "MyFirstProgram.main(null)"
   ]
  },
  {
   "cell_type": "markdown",
   "metadata": {},
   "source": [
    "# Declaring and Initializing Variables\n",
    "\n",
    "1. Variables defined within a method are local variables\n",
    "2. \"Int\" can hold any whole number\n",
    "3. You need an initial value in order to change it or increment it\n",
    "4. No quotation mark around variable because this will output the value stored by variable"
   ]
  },
  {
   "cell_type": "code",
   "execution_count": 20,
   "metadata": {},
   "outputs": [
    {
     "name": "stdout",
     "output_type": "stream",
     "text": [
      "10\n"
     ]
    }
   ],
   "source": [
    "public class UsingAVariable{\n",
    "    public static void main(String[] args)\n",
    "    {\n",
    "        int x;\n",
    "        x = 10;\n",
    "        x = 5;\n",
    "        x = x + 1;\n",
    "        int myFinalScore = 10;\n",
    "\n",
    "        System.out.println(myFinalScore);\n",
    "    }\n",
    "}\n",
    "UsingAVariable.main(null)"
   ]
  },
  {
   "cell_type": "markdown",
   "metadata": {},
   "source": [
    "# 8 Primitve Data Types\n",
    "- Byte: minimum value of -128 and maximum value of 127 (inclusive). It is useful for saving memory in large arrays\n",
    "- Short: Minimum value of -32,768 and maximum value of 32,767. Same purpose as Byte\n",
    "- Int: Any integer or whole number\n",
    "- Long: Greater range than int\n",
    "- Float: floating point numbers that tend to have decimals\n",
    "- Double: not good for precise data\n",
    "- Boolean: logic that evaluates whether a condition is true or false\n",
    "- Char "
   ]
  },
  {
   "cell_type": "code",
   "execution_count": 23,
   "metadata": {},
   "outputs": [
    {
     "name": "stdout",
     "output_type": "stream",
     "text": [
      "3\n",
      "false\n"
     ]
    }
   ],
   "source": [
    "public class PrimitiveDataTypes\n",
    "{\n",
    "    public static void main(String[] args)\n",
    "    {\n",
    "        int a = 3;\n",
    "        double b = 3.0;\n",
    "        b = 3; // only works for double\n",
    "        a = (int) 3.999; // casting cuts off everything after the decimal\n",
    "        System.out.println(a);\n",
    "\n",
    "        boolean c = true;\n",
    "        c = false;\n",
    "        System.out.println(c);\n",
    "    }\n",
    "}\n",
    "PrimitiveDataTypes.main(null)"
   ]
  },
  {
   "cell_type": "markdown",
   "metadata": {},
   "source": [
    "# Arithmetic Operations"
   ]
  },
  {
   "cell_type": "code",
   "execution_count": 33,
   "metadata": {},
   "outputs": [
    {
     "name": "stdout",
     "output_type": "stream",
     "text": [
      "6\n",
      "0\n",
      "9\n",
      "1\n",
      "1\n"
     ]
    }
   ],
   "source": [
    "public class Operators \n",
    "{\n",
    "    public static void main(String[] args)\n",
    "    {\n",
    "        int x;\n",
    "        x = 3;\n",
    "\n",
    "        System.out.println(3+3); \n",
    "        System.out.println(3-3);\n",
    "        System.out.println(3*3);\n",
    "        System.out.println(3/3);\n",
    "        \n",
    "        x = 3*3;\n",
    "        x = 3 * x;\n",
    "\n",
    "        System.out.println(4 % 3);\n",
    "\n",
    "    }\n",
    "}\n",
    "Operators.main(null)"
   ]
  },
  {
   "cell_type": "markdown",
   "metadata": {},
   "source": [
    "# Practice 2013 FRQ 1"
   ]
  },
  {
   "cell_type": "markdown",
   "metadata": {},
   "source": [
    "# Part A"
   ]
  },
  {
   "cell_type": "code",
   "execution_count": null,
   "metadata": {},
   "outputs": [],
   "source": [
    "public DownloadInfo getDownloadInfo(String title) { // define the class\n",
    "    for (DownloadInfo info : downloadList){\n",
    "    if (info.getTitle().equals(title)){\n",
    "     return info;\n",
    "     }\n",
    "    }\n",
    "    return null; // method inside the class\n",
    "    } "
   ]
  },
  {
   "cell_type": "markdown",
   "metadata": {},
   "source": [
    "# Part B"
   ]
  },
  {
   "cell_type": "code",
   "execution_count": null,
   "metadata": {},
   "outputs": [],
   "source": [
    "public void updateDownloads(List<String> titles) {\n",
    "    for (String title : titles) {\n",
    "    DownloadInfo foundInfo = getDownloadInfo(title); // calls method\n",
    "    if (foundInfo == null){\n",
    "    downloadList.add(new DownloadInfo(title)); // makes new object\n",
    "    }\n",
    "    else {\n",
    "    foundInfo.incrementTimesDownloaded();\n",
    "    }\n",
    "    }\n",
    "   }"
   ]
  },
  {
   "cell_type": "markdown",
   "metadata": {},
   "source": [
    "# Resources Used\n",
    "\n",
    "https://www.youtube.com/watch?v=BjRvQbWsTfM&ab_channel=BillBarnum\n",
    "\n",
    "https://uploads-ssl.webflow.com/605fe570e5454a357d1e1811/60a17976f1de864fab86c46a_AP-CS-A-Study-Guide-Unit-1.pdf"
   ]
  },
  {
   "cell_type": "markdown",
   "metadata": {},
   "source": [
    "# Homework from Presentation"
   ]
  },
  {
   "cell_type": "markdown",
   "metadata": {},
   "source": [
    "### Hack 1.1"
   ]
  },
  {
   "cell_type": "code",
   "execution_count": 2,
   "metadata": {},
   "outputs": [
    {
     "name": "stdout",
     "output_type": "stream",
     "text": [
      "Hetvi Trivedi\n",
      "JEHB\n"
     ]
    }
   ],
   "source": [
    "public class Printing {\n",
    "    public static void main(String[] args){\n",
    "        System.out.println(\"Hetvi Trivedi\");\n",
    "        System.out.println(\"JEHB\");\n",
    "}  \n",
    "}\n",
    "Printing.main(null);"
   ]
  },
  {
   "cell_type": "markdown",
   "metadata": {},
   "source": [
    "### Hack 1.2"
   ]
  },
  {
   "cell_type": "code",
   "execution_count": 4,
   "metadata": {},
   "outputs": [
    {
     "name": "stdout",
     "output_type": "stream",
     "text": [
      "Hetvi\n",
      "17\n",
      "false\n",
      "5.3\n"
     ]
    }
   ],
   "source": [
    "public class Biodata {\n",
    "\n",
    "    public static void main(String[] args) {\n",
    "        String name = \"Hetvi\";\n",
    "        int age = 17;\n",
    "        boolean underclassman = false;\n",
    "        double height = 5.3;\n",
    "\n",
    "        System.out.println(name);\n",
    "        System.out.println(age);\n",
    "        System.out.println(underclassman);\n",
    "        System.out.println(height);\n",
    "    }\n",
    "}\n",
    "\n",
    "Biodata.main(null);"
   ]
  },
  {
   "cell_type": "markdown",
   "metadata": {},
   "source": [
    "### Hack 1.3 \n"
   ]
  },
  {
   "cell_type": "code",
   "execution_count": 6,
   "metadata": {},
   "outputs": [
    {
     "name": "stdout",
     "output_type": "stream",
     "text": [
      "-7993.57\n"
     ]
    }
   ],
   "source": [
    "public class Num {\n",
    "\n",
    "    public static void main(String[] args) {\n",
    "    double num = ( ( ( 6 * 1234124 ) / 11345 ) - 890809 + 90800 ) % 980098;\n",
    "    num = num / 100;\n",
    "    System.out.println(num);\n",
    "\n",
    "}\n",
    "}\n",
    "\n",
    "Num.main(null);"
   ]
  },
  {
   "cell_type": "markdown",
   "metadata": {},
   "source": [
    "### Hack 1.4\n",
    "- Used operators slightly different in a more user friendly way!"
   ]
  },
  {
   "cell_type": "code",
   "execution_count": 7,
   "metadata": {},
   "outputs": [
    {
     "name": "stdout",
     "output_type": "stream",
     "text": [
      "-------------------------\n",
      "\n",
      "Choose from these choices\n",
      "-------------------------\n",
      "\n",
      "1 - Say Hello\n",
      "2 - Output colors\n",
      "3 - Loading in color\n",
      "4 - Greatest Common Factor\n",
      "5 - Least Common Multiple\n",
      "0 - Quit\n",
      "-------------------------\n",
      "\n",
      "4: Enter a number: \n",
      "Enter another number: \n",
      "The greatest common factor of 4 and 5 is 1\n",
      "\u001b[0m\n",
      "0: Goodbye, World!\u001b[0m\n"
     ]
    }
   ],
   "source": [
    "import java.util.Scanner; //library for user input\n",
    "import java.lang.Math; //library for random numbers\n",
    "\n",
    "\n",
    "public class Menu {\n",
    "    // Instance Variables\n",
    "    public final String DEFAULT = \"\\u001B[0m\";  // Default Terminal Color\n",
    "    public final String[][] COLORS = { // 2D Array of ANSI Terminal Colors\n",
    "        {\"Default\",DEFAULT},\n",
    "        {\"Red\", \"\\u001B[31m\"}, \n",
    "        {\"Green\", \"\\u001B[32m\"}, \n",
    "        {\"Yellow\", \"\\u001B[33m\"}, \n",
    "        {\"Blue\", \"\\u001B[34m\"}, \n",
    "        {\"Purple\", \"\\u001B[35m\"}, \n",
    "        {\"Cyan\", \"\\u001B[36m\"}, \n",
    "        {\"White\", \"\\u001B[37m\"}, \n",
    "    };\n",
    "    // 2D column location for data\n",
    "    public final int NAME = 0;\n",
    "    public final int ANSI = 1;  // ANSI is the \"standard\" for terminal codes\n",
    "\n",
    "    // Constructor on this Object takes control of menu events and actions\n",
    "    public Menu() {\n",
    "        Scanner sc = new Scanner(System.in);  // using Java Scanner Object\n",
    "        \n",
    "        this.print();  // print Menu\n",
    "        boolean quit = false;\n",
    "        while (!quit) {\n",
    "            try {  // scan for Input\n",
    "                int choice = sc.nextInt();  // using method from Java Scanner Object\n",
    "                System.out.print(\"\" + choice + \": \");\n",
    "                quit = this.action(choice);  // take action\n",
    "            } catch (Exception e) {\n",
    "                sc.nextLine(); // error: clear buffer\n",
    "                System.out.println(e + \": Not a number, try again.\");\n",
    "            }\n",
    "        }\n",
    "        sc.close();\n",
    "    }\n",
    "\n",
    "    // Print the menu options to Terminal\n",
    "    private void print() {\n",
    "        //System.out.println commands below is used to present a Menu to the user. \n",
    "        System.out.println(\"-------------------------\\n\");\n",
    "        System.out.println(\"Choose from these choices\");\n",
    "        System.out.println(\"-------------------------\\n\");\n",
    "        System.out.println(\"1 - Say Hello\");\n",
    "        System.out.println(\"2 - Output colors\");\n",
    "        System.out.println(\"3 - Loading in color\");\n",
    "        System.out.println(\"4 - Greatest Common Factor\");\n",
    "        System.out.println(\"5 - Least Common Multiple\");\n",
    "        System.out.println(\"0 - Quit\");\n",
    "        System.out.println(\"-------------------------\\n\");\n",
    "    }\n",
    "\n",
    "    // Private method to perform action and return true if action is to quit/exit\n",
    "    private boolean action(int selection) {\n",
    "        boolean quit = false;\n",
    "\n",
    "        switch (selection) {  // Switch or Switch/Case is Control Flow statement and is used to evaluate the user selection\n",
    "            case 0:  \n",
    "                System.out.print(\"Goodbye, World!\");\n",
    "                quit = true;\n",
    "                break;\n",
    "            case 1:\n",
    "                System.out.print(\"Hello, World!\");\n",
    "                break;\n",
    "            case 2:\n",
    "                for(int i = 0; i < COLORS.length; i++)  // loop through COLORS array\n",
    "                    System.out.print(COLORS[i][ANSI] + COLORS[i][NAME]);\n",
    "                break;\n",
    "            case 3:\n",
    "                System.out.print(\"Loading...\");\n",
    "                for (int i = 0; i < 20; i++) {  // fixed length loading bar\n",
    "                    int random = (int) (Math.random() * COLORS.length);  // random logic\n",
    "                    try {\n",
    "                        Thread.sleep(100);  // delay for loading\n",
    "                    } catch (Exception e) {\n",
    "                        System.out.println(e);\n",
    "                    }\n",
    "                    System.out.print(COLORS[random][ANSI] + \"#\");\n",
    "                }\n",
    "                break;\n",
    "\n",
    "            case 4:\n",
    "                // two numbers from user input\n",
    "                Scanner input = new Scanner(System.in);\n",
    "                System.out.println(\"Enter a number: \");\n",
    "                int a = input.nextInt();\n",
    "                System.out.println(\"Enter another number: \");\n",
    "                Scanner input2 = new Scanner(System.in);\n",
    "                int b = input2.nextInt();\n",
    "        \n",
    "                int c = Math.min(a, b);\n",
    "                input.close();\n",
    "                input2.close();\n",
    "                int gcd = 1;\n",
    "                for(int i = c; i > 0; i--){ // descending\n",
    "                    if(a % i == 0 && b % i == 0){\n",
    "                        gcd = i;\n",
    "                        break; // exit loop if it is a factor\n",
    "                    }\n",
    "                }\n",
    "                System.out.println(\"The greatest common factor of \" + a + \" and \" + b + \" is \" + gcd);\n",
    "                break; \n",
    "                \n",
    "            case 5:\n",
    "                Scanner num1 = new Scanner(System.in);\n",
    "                System.out.println(\"Enter a number: \");\n",
    "                int x = num1.nextInt();\n",
    "                Scanner num2 = new Scanner(System.in);\n",
    "                System.out.println(\"Enter another number: \");\n",
    "                int y = num2.nextInt();\n",
    "        \n",
    "                num1.close();\n",
    "                num2.close();\n",
    "        \n",
    "                int m = Math.max(x, y); // least common multiple must be at least as large as the larger of the two numbers\n",
    "        \n",
    "                while (true) { // repeat until break\n",
    "                    if(m % x == 0 && m % y == 0){\n",
    "                        System.out.println(\"The least common multiple of \" + x + \" and \" + y + \" is \" + m);\n",
    "                        break;\n",
    "                    }\n",
    "                    m += 1;\n",
    "                }\n",
    "                break;   \n",
    "                   \n",
    "            default:\n",
    "                //Prints error message from console\n",
    "                System.out.print(\"Unexpected choice, try again.\");\n",
    "        }\n",
    "        System.out.println(DEFAULT);  // make sure to reset color and provide new line\n",
    "        return quit;\n",
    "    }\n",
    "\n",
    "    // Static driver/tester method\n",
    "    static public void main(String[] args)  {  \n",
    "        new Menu(); // starting Menu object\n",
    "    }\n",
    "\n",
    "}\n",
    "Menu.main(null);"
   ]
  },
  {
   "cell_type": "markdown",
   "metadata": {},
   "source": [
    "### Hack 1.5"
   ]
  },
  {
   "cell_type": "code",
   "execution_count": 9,
   "metadata": {},
   "outputs": [
    {
     "name": "stdout",
     "output_type": "stream",
     "text": [
      "the double to the integer is: 123456\n"
     ]
    }
   ],
   "source": [
    "public class CastActivity {\n",
    "\n",
    "    public static void main(String[] args) {\n",
    "        double dNum = 123456.123456;\n",
    "        int dInt = (int) dNum;\n",
    "        System.out.println(\"the double to the integer is: \" + dInt);\n",
    "\n",
    "    }\n",
    "}\n",
    "\n",
    "CastActivity.main(null);"
   ]
  }
 ],
 "metadata": {
  "kernelspec": {
   "display_name": "Java",
   "language": "java",
   "name": "java"
  },
  "language_info": {
   "codemirror_mode": "java",
   "file_extension": ".jshell",
   "mimetype": "text/x-java-source",
   "name": "java",
   "pygments_lexer": "java",
   "version": "17.0.4.1+1"
  },
  "orig_nbformat": 4
 },
 "nbformat": 4,
 "nbformat_minor": 2
}
