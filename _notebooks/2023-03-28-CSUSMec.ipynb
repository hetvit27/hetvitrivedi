{
 "cells": [
  {
   "attachments": {},
   "cell_type": "markdown",
   "metadata": {},
   "source": [
    "# \"CSUSM Extra Credit Notes\"\n",
    "> \"Two graduates from CSUSM's visit\"\n",
    "\n",
    "- toc:true\n",
    "- branch: master\n",
    "- badges: true\n",
    "- comments: true\n",
    "- author: Hetvi Trivedi\n",
    "- categories: [extracredit]"
   ]
  },
  {
   "attachments": {},
   "cell_type": "markdown",
   "metadata": {},
   "source": [
    "## Introduction to the Speakers\n",
    "- Ashley and John who both majored in computer science attended CSUSM\n",
    "- John transferred to CSUSM from community college\n",
    "- Ashley is doing her PhD at UCSD"
   ]
  },
  {
   "attachments": {},
   "cell_type": "markdown",
   "metadata": {},
   "source": [
    "## Ashley's Perspective\n",
    "- Struggled in classes like Physics and even got a D\n",
    "- Never gave up because she liked the subjects and wanted to get better at them\n",
    "- Still got into a great PhD program and continuously wants to learn\n",
    "\n",
    "## John's Perspective\n",
    "- Started at Palomar and then transferred to CSUSM\n",
    "- No college debt\n",
    "- Two degrees: one in physics and one in CS\n",
    "- Believes that CS is applicable to every field no matter what you do like medicine, physics, biology, etc."
   ]
  },
  {
   "attachments": {},
   "cell_type": "markdown",
   "metadata": {},
   "source": [
    "## CSUSM\n",
    "- Top college in social mobility\n",
    "- Have multiple sciences pathways like CS and Biology \n",
    "- You can move within the pathways\n",
    "- Have similar clubs to high school like Robotics and Cyberpatriot\n",
    "- Internships: research, internships, etc.\n",
    "- Paid research internships \n",
    "- Most internships should be paid because they are at a higher level \n",
    "\n",
    "## Loans\n",
    "- Subsidized: doesn't have interest while student is in school\n",
    "- Direct Unsubsidized: has interest no matter what\n",
    "- Very easy to find scholarships, almost all schools have them\n",
    "- Apply for FAFSA because mayn schools accommodate \n"
   ]
  },
  {
   "attachments": {},
   "cell_type": "markdown",
   "metadata": {},
   "source": [
    "## Conclusion\n",
    "\n",
    "As a student on the precipice of college and one who is considering different majors, this lecture helped me realize that there are so many opportunities in college, just like there are in high school, to learn and get involved in subjects I'm passionate about. Every college has spaces for research, competitions, and more and I'm excited to find those spaces soon. For right now, I'm considering going to UCLA for computational biology and when I was researching the classes I have to take, many of them were computer science. I'm excited to explore computer science classes in the sphere of biology where I can apply everything I learned from this year in AP CSA to biological systems. After listening to Ashley talk about how she struggled in college courses and still was able to be successful, I feel comforted because I am slowly getting adjusted to the idea that I will struggle but I will also learn in that process. \n",
    "\n",
    "The idea of loans and not coming out of college with too much debt also stood out to me. As I consider where to go for my undergraduate education, I have many conversations with my dad about the affordability of different colleges. What I've discovered is that an $80k vs. a $40k college really doesn't have many differences. I've also learned that loans that are unsubsized are better. So the fact that there are universities that are affordable and have good opportunities like CSUSM is important for me to consider right now."
   ]
  }
 ],
 "metadata": {
  "kernelspec": {
   "display_name": "Java",
   "language": "java",
   "name": "java"
  },
  "language_info": {
   "codemirror_mode": "java",
   "file_extension": ".jshell",
   "mimetype": "text/x-java-source",
   "name": "Java",
   "pygments_lexer": "java",
   "version": "17.0.4.1+1"
  },
  "orig_nbformat": 4
 },
 "nbformat": 4,
 "nbformat_minor": 2
}
