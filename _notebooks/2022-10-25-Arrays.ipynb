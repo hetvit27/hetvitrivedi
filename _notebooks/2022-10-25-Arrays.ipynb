{
 "cells": [
  {
   "cell_type": "markdown",
   "metadata": {},
   "source": []
  },
  {
   "cell_type": "markdown",
   "metadata": {},
   "source": [
    "# 6.1 Array Creation and Access\n",
    "\n",
    "- Used to store one data type\n",
    "- Fixed size and canno tbe chnaged\n",
    "- Import array through: import java.util.Arrays;\n",
    "- Making Arrays: using constructors or using pre-initialized arrays\n",
    "\n",
    "# 6.2 Traversing Arrays\n",
    "- For loop or while loop\n",
    "- Bound errors: appears when using loops to access array elements\n",
    "- When there's not enough items to reach an index\n",
    "\n",
    "# 6.3 Enhanced For Loops\n",
    "- Traverse through most data structures\n",
    "- Elements in array need to have something done to\n",
    "- Mutator methods: set the value on instance variables\n",
    "\n",
    "# 6.4 Developing Algorithms using Arrays\n",
    "- Minimum and maximum of a list of elements\n",
    "- Compute sum, average, or mode\n",
    "- If you want to find if an array has a specific property\n",
    "- Can determine duplicates \n",
    "- .length can be used to find the length of an array\n",
    "- array [i] to find the value\n",
    "- change value: array [i] = new element"
   ]
  },
  {
   "cell_type": "code",
   "execution_count": null,
   "metadata": {
    "vscode": {
     "languageId": "java"
    }
   },
   "outputs": [],
   "source": [
    "int [] arrayOne = {1, 3, 5, 7, 9};\n"
   ]
  }
 ],
 "metadata": {
  "kernelspec": {
   "display_name": "Java",
   "language": "java",
   "name": "java"
  },
  "language_info": {
   "codemirror_mode": "java",
   "file_extension": ".jshell",
   "mimetype": "text/x-java-source",
   "name": "Java",
   "pygments_lexer": "java",
   "version": "17.0.4.1+1"
  },
  "orig_nbformat": 4
 },
 "nbformat": 4,
 "nbformat_minor": 2
}
