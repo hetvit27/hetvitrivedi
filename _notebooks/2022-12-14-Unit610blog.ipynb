{
 "cells": [
  {
   "attachments": {},
   "cell_type": "markdown",
   "metadata": {},
   "source": [
    "# \"Unit 6-10 Lesson Blogs\"\n",
    "> \"Lesson Notes + Tangibles\"\n",
    "\n",
    "- toc:true\n",
    "- branch: master\n",
    "- badges: true\n",
    "- comments: true\n",
    "- author: Hetvi Trivedi\n",
    "- categories: [extra]"
   ]
  },
  {
   "attachments": {},
   "cell_type": "markdown",
   "metadata": {},
   "source": [
    "# Table of Scores\n",
    "\n",
    "| Unit | Score | Grading |\n",
    "| --- | --- | --- |\n",
    "| Unit 6 | 0.9/1 | [Link]() |\n",
    "| Unit 7 | 0.95/1 | [Link]() |\n",
    "| Unit 8 | /1 | [Link]() |\n",
    "| Unit 9 | /1| [Link]() | \n",
    "| Unit 10 | 1/1|[Link]()|\n",
    "| TOTAL SCORE | /5| N/A"
   ]
  },
  {
   "attachments": {},
   "cell_type": "markdown",
   "metadata": {},
   "source": [
    "# Unit 6: Arrays \n",
    "\n",
    "[See Jupyter Notebook #1 here](https://hetvit27.github.io/hetvitrivedi/2022/10/25/Arrays.html)\n",
    "\n",
    "[See Jupyter Notebook #2 here](https://hetvit27.github.io/hetvitrivedi/jupyter/2022/10/09/ListsandArrayLists.html)\n",
    "\n",
    "Takeaways:\n",
    "- Arrays: one type of data storage\n",
    "- Reference types\n",
    "- Need import java.util Arrays \n",
    "- Initialize arrays using constructors\n",
    "- Access elements through arrayName[index]"
   ]
  },
  {
   "attachments": {},
   "cell_type": "markdown",
   "metadata": {},
   "source": [
    "# Unit 7 Array List\n",
    "[See Jupyter Notebook here](https://hetvit27.github.io/hetvitrivedi/java/labs/2022/11/30/arrayslist.html)\n",
    "\n",
    "Takeaways:\n",
    "-"
   ]
  },
  {
   "attachments": {},
   "cell_type": "markdown",
   "metadata": {},
   "source": [
    "# Unit 8 2D Arrays\n",
    "[See Jupyter Notebook here](https://hetvit27.github.io/hetvitrivedi/jupyter/2022/10/27/2DArray.html)\n",
    "\n",
    "Takeways:\n",
    "-\n",
    "- "
   ]
  },
  {
   "attachments": {},
   "cell_type": "markdown",
   "metadata": {},
   "source": [
    "# Unit 9 Inheritance\n",
    "[See Jupyter Notebook here](https://hetvit27.github.io/hetvitrivedi/collegeboard/2022/12/13/Unit9.html)\n",
    "\n",
    "Takeaways:\n"
   ]
  },
  {
   "attachments": {},
   "cell_type": "markdown",
   "metadata": {},
   "source": [
    "# Unit 10 Recursion\n",
    "\n",
    "Takeaways:\n"
   ]
  }
 ],
 "metadata": {
  "kernelspec": {
   "display_name": "Java",
   "language": "java",
   "name": "java"
  },
  "language_info": {
   "name": "java",
   "version": "3.10.6 (main, Aug 11 2022, 13:36:31) [Clang 13.1.6 (clang-1316.0.21.2.5)]"
  },
  "orig_nbformat": 4,
  "vscode": {
   "interpreter": {
    "hash": "b0fa6594d8f4cbf19f97940f81e996739fb7646882a419484c72d19e05852a7e"
   }
  }
 },
 "nbformat": 4,
 "nbformat_minor": 2
}
