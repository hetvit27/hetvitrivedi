{
 "cells": [
  {
   "attachments": {},
   "cell_type": "markdown",
   "metadata": {},
   "source": [
    "# \"Unit 6-10 Lesson Blogs\"\n",
    "> \"Lesson Notes + Tangibles\"\n",
    "\n",
    "- toc:true\n",
    "- branch: master\n",
    "- badges: true\n",
    "- comments: true\n",
    "- author: Hetvi Trivedi\n",
    "- categories: [extra]"
   ]
  },
  {
   "attachments": {},
   "cell_type": "markdown",
   "metadata": {},
   "source": [
    "# Table of Scores\n",
    "\n",
    "| Unit | Score | Grading |\n",
    "| --- | --- | --- |\n",
    "| Unit 6 | 0.9/1 | [Link]() |\n",
    "| Unit 7 | 0.95/1 | [Link]() |\n",
    "| Unit 8 | 0.9/1 | [Link]() |\n",
    "| Unit 9 | 1/1| [Link]() | \n",
    "| Unit 10 | 1/1|[Link]()|\n",
    "| TOTAL SCORE | 4.75/5| N/A"
   ]
  },
  {
   "attachments": {},
   "cell_type": "markdown",
   "metadata": {},
   "source": [
    "# Unit 6: Arrays \n",
    "\n",
    "[See Jupyter Notebook #1 here](https://hetvit27.github.io/hetvitrivedi/collegeboard/2022/10/25/Arrays.html)\n",
    "\n",
    "[See Jupyter Notebook #2 here](https://hetvit27.github.io/hetvitrivedi/jupyter/2022/10/02/Arrays&Images.html)\n",
    "\n",
    "Takeaways:\n",
    "- Arrays: one type of data storage\n",
    "- Reference types\n",
    "- Need import java.util Arrays \n",
    "- Making Arrays: using constructors or using pre-initialized arrays\n",
    "- Access elements through arrayName[index]\n",
    "- `For loop`: examines and iterates over every element the array contains in a fast, effective, and more controllable way.\n",
    "- `While loop`: initialize an array of integers, and traverse the array from start to end using while loop. Start with an index of zero, condition that index is less than the length of array, and increment index inside while loop.\n",
    "-  `Mutator methods`: reset the value of a private variable so that other classes can modify a value stored in the variable without direct access\n"
   ]
  },
  {
   "cell_type": "code",
   "execution_count": 4,
   "metadata": {},
   "outputs": [
    {
     "name": "stdout",
     "output_type": "stream",
     "text": [
      "Volvo\n",
      "BMW\n",
      "Ford\n",
      "Mazda\n"
     ]
    }
   ],
   "source": [
    "/* for loop */\n",
    "String[] cars = {\"Volvo\", \"BMW\", \"Ford\", \"Mazda\"};\n",
    "for (int i = 0; i < cars.length; i++) {\n",
    "  System.out.println(cars[i]);\n",
    "}"
   ]
  },
  {
   "cell_type": "code",
   "execution_count": 6,
   "metadata": {},
   "outputs": [
    {
     "name": "stdout",
     "output_type": "stream",
     "text": [
      "2\n",
      "4\n",
      "6\n",
      "8\n",
      "10\n"
     ]
    }
   ],
   "source": [
    "public class ArrayExample {\n",
    "    public static void main(String[] args) {\n",
    "        int[] numbers = {2, 4, 6, 8, 10};\n",
    "        int index = 0;\n",
    "        while (index < numbers.length) {\n",
    "            System.out.println(numbers[index]);\n",
    "            index++;\n",
    "        }\n",
    "    }\n",
    "}\n",
    "ArrayExample.main(null);"
   ]
  },
  {
   "attachments": {},
   "cell_type": "markdown",
   "metadata": {},
   "source": [
    "# Unit 7 Array List\n",
    "[See Jupyter Notebook here](https://hetvit27.github.io/hetvitrivedi/java/labs/2022/11/30/arrayslist.html)\n",
    "\n",
    "Takeaways:\n",
    "- Different from arrays because array lists are dynamic, part of a framework, a class with many methods, more flexible, store object references, slower than arrays, only used with import statement \n",
    "- `Primitive Data Types`: boolean, char, double, int\n",
    "- `Wrapper class data types`: boolean, character, double, int \n",
    "- Methods to know: \n",
    "    - size(): # of elements in the list\n",
    "    - add(obj): adds an element at the end\n",
    "    - add(index, object): adds element at specific index\n",
    "    - remove(index): removes element from specific index\n",
    "    - set(index, object): replaces element at index with new object\n",
    "    - get(index): returns element at index"
   ]
  },
  {
   "cell_type": "code",
   "execution_count": 7,
   "metadata": {},
   "outputs": [
    {
     "name": "stdout",
     "output_type": "stream",
     "text": [
      "items [ripped jeans, rap music, black nail polish] Hetvi's favorite things. There are 3 things in the list\n",
      "items [ripped jeans, rap music, black nail polish, bleached hair] Hetvi's favorite things. There are 4 things in the list\n"
     ]
    }
   ],
   "source": [
    "import java.util.ArrayList; \n",
    "\n",
    "public class hack1 {\n",
    "    public static void main (String[] args) {\n",
    "        ArrayList<String> hetvifavs = new ArrayList<String>(Arrays.asList(\"ripped jeans\", \"rap music\", \"black nail polish\"));\n",
    "        System.out.println( \"items \" + hetvifavs + \" Hetvi's favorite things. There are \" + hetvifavs.size() + \" things in the list\" ); \n",
    "        \n",
    "        //objects you add must be of the same data type\n",
    "        hetvifavs.add(\"bleached hair\");\n",
    "        System.out.println( \"items \" + hetvifavs + \" Hetvi's favorite things. There are \" + hetvifavs.size() + \" things in the list\" ); \n",
    "    }\n",
    "}\n",
    "\n",
    "hack1.main(null);\n"
   ]
  },
  {
   "attachments": {},
   "cell_type": "markdown",
   "metadata": {},
   "source": [
    "# Unit 8 2D Arrays\n",
    "[See Jupyter Notebook here](https://hetvit27.github.io/hetvitrivedi/jupyter/2022/10/27/2DArray.html)\n",
    "\n",
    "Takeways:\n",
    "- `Array`: a data structure used to implement a collection (list) of primitive or object reference data\n",
    "- `Element` = a single value in the array\n",
    "- `Index` = the position of the element in the array (starts from 0)\n",
    "- `Array Length` = the number of elements in the array\n",
    "- Is public, so can be accessed in any class\n",
    "- Is also final, so can’t change it after array has been created\n",
    "- `Access and update elements`: nameOf2DArray[r][c]\n",
    "- `Nested loops` used to traverse 2D arrays"
   ]
  },
  {
   "cell_type": "code",
   "execution_count": 8,
   "metadata": {},
   "outputs": [
    {
     "name": "stdout",
     "output_type": "stream",
     "text": [
      "Athens\n"
     ]
    }
   ],
   "source": [
    "/* accessing and changing elements */\n",
    "public class Test {\n",
    "\n",
    "    public static void main(String[] args) {\n",
    " \n",
    "        String[][] arr = {\n",
    "            { \"Atlanta\", \"Baltimore\", \"Chicago\" },\n",
    "            { \"Australia\", \"Boston\", \"Cincinnati\" },\n",
    "            { \"Austin\", \"Beaumont\", \"Columbus\" }\n",
    "         };\n",
    "    \n",
    "         arr[2][0]  = \"Athens\";\n",
    "         System.out.println(arr[2][0]);\n",
    "          \n",
    "       }\n",
    "    \n",
    "    }\n",
    "    Test.main(null);"
   ]
  },
  {
   "cell_type": "code",
   "execution_count": 9,
   "metadata": {},
   "outputs": [
    {
     "name": "stdout",
     "output_type": "stream",
     "text": [
      "a f g l  \n",
      "b e h k  \n",
      "c d i j  \n"
     ]
    }
   ],
   "source": [
    "/* nested loop */\n",
    "public class Test {\n",
    "\n",
    "    public static void main(String[] args) {\n",
    " \n",
    "      String[][] arr = {\n",
    "         { \"a\", \"f\", \"g\", \"l\" },\n",
    "         { \"b\", \"e\", \"h\", \"k\" },\n",
    "         { \"c\", \"d\", \"i\", \"j\" }\n",
    "      };\n",
    " \n",
    "      for (int row = 0; row < 3; row++) {\n",
    "         for (int col = 0; col < 4; col++) {\n",
    "            System.out.print(arr[row][col] + \" \");\n",
    "         }\n",
    "        System.out.println(\" \");\n",
    "      }\n",
    "       \n",
    "    }\n",
    " \n",
    " }\n",
    " Test.main(null);\n"
   ]
  },
  {
   "attachments": {},
   "cell_type": "markdown",
   "metadata": {},
   "source": [
    "# Unit 9 Inheritance\n",
    "[See Jupyter Notebook here](https://hetvit27.github.io/hetvitrivedi/collegeboard/2022/12/13/Unit9.html)\n",
    "\n",
    "Takeaways:\n",
    "- `Inheritance`: define a base class like a car class that has methods and attributes common. For example, there can be a car steering method, gas and break method, and attributes like speed\n",
    "- `Extend`: Each car that is created will extend from this base class thus inheriting the methods and attributes defined in the base class \n",
    "    - New car classes with have special features\n",
    "- `Super Class`: Base class that has all the generic methods (base Car Class that has generic methods for all cars)\n",
    "    - `protected`: access modifier isn't affected by outside\n",
    "- `Subclass constructor`: inherits all methods and attributes from super class\n",
    "    - In car example, TeslaModelS was a subclass\n",
    "    - In personal example, IphoneX and IphoneV are subclasses \n",
    "- `super Keyword`: superclass objects - used to call superclass methods and access the constructor\n",
    "     - use constructors defined in the superclass\n",
    "     - can add specific attributes\n",
    "     - super() is the use of the keywords\n",
    "- `Overloading` a method (same name different parameters): two methods with the same name but different arguments; static polymorphism or compile time polymorphism\n",
    "- `Overriding` a method (same signature of a method): subclass has specific implementation of a method that the superclass provides\n",
    "- `Polymorphism`: doing one task in many ways through inheritance\n",
    "    - gearShift in cars can be used in two different ways in two different classes - two implementations through overriding\n"
   ]
  },
  {
   "attachments": {},
   "cell_type": "markdown",
   "metadata": {},
   "source": [
    "# Unit 10 Recursion\n",
    "[My group presentation](https://www.canva.com/design/DAFUHTwLygQ/mUJNpi5BWK6fciLq32PFsQ/view?utm_content=DAFUHTwLygQ&utm_campaign=designshare&utm_medium=link2&utm_source=sharebutton)\n",
    "\n",
    "Takeaways:\n",
    "- `Recursive method` calls itself\n",
    "- `Base case`: after multiple calls base case is reached and its where recursion is stopped and value is returned --> should be written first to avoid infinite recursion\n",
    "- `Recursive calls` are apart of the method - each have different parameters\n",
    "- All recursions can be written as loops\n",
    "- `Binary search`: data must be sorted in order, more efficient than linear search\n",
    "- `Linear recursion`: a function that only makes a single call to itself each time the function runs\n",
    "- `Selection sort`: algorithm works by repeatedly finding the minimum element "
   ]
  }
 ],
 "metadata": {
  "kernelspec": {
   "display_name": "Java",
   "language": "java",
   "name": "java"
  },
  "language_info": {
   "codemirror_mode": "java",
   "file_extension": ".jshell",
   "mimetype": "text/x-java-source",
   "name": "java",
   "pygments_lexer": "java",
   "version": "17.0.4.1+1"
  },
  "orig_nbformat": 4,
  "vscode": {
   "interpreter": {
    "hash": "b0fa6594d8f4cbf19f97940f81e996739fb7646882a419484c72d19e05852a7e"
   }
  }
 },
 "nbformat": 4,
 "nbformat_minor": 2
}
