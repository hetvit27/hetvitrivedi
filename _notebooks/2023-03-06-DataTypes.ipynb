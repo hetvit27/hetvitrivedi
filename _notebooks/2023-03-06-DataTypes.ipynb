{
 "cells": [
  {
   "attachments": {},
   "cell_type": "markdown",
   "metadata": {},
   "source": [
    "# Data Types\n",
    "> \"Learning the different types of data\"\n",
    "\n",
    "- toc:true\n",
    "- branch: master\n",
    "- badges: true\n",
    "- comments: true\n",
    "- author: Hetvi Trivedi\n",
    "- categories: [collegeboard]\n"
   ]
  },
  {
   "cell_type": "code",
   "execution_count": 7,
   "metadata": {
    "vscode": {
     "languageId": "java"
    }
   },
   "outputs": [
    {
     "name": "stdout",
     "output_type": "stream",
     "text": [
      "Enter the first binary number: \n",
      " Enter the second binary number: \n",
      " 1 + 1 = 10\n"
     ]
    }
   ],
   "source": [
    "import java.util.Scanner;\n",
    "\n",
    "public class BinaryAddition {\n",
    "    public static void main(String[] args) {\n",
    "        Scanner input = new Scanner(System.in);\n",
    "        \n",
    "        System.out.print(\"Enter the first binary number: \\n \");\n",
    "        int binary1 = input.nextInt(2); // Read binary input as base-2 integer\n",
    "        \n",
    "        System.out.print(\"Enter the second binary number: \\n \");\n",
    "        int binary2 = input.nextInt(2); // Read binary input as base-2 integer\n",
    "        \n",
    "        int sum = binary1 + binary2;\n",
    "        \n",
    "        // Binary representation of sum\n",
    "        String binarySum = Integer.toBinaryString(sum); // this method returns a string representation of the integer argument as an unsigned integer in base 2. It accepts an argument in Int data-type and returns the corresponding binary string.\n",
    "        \n",
    "        // Output the result\n",
    "        System.out.println(binary1 + \" + \" + binary2 + \" = \" + binarySum);\n",
    "    }\n",
    "}\n",
    "BinaryAddition.main(null);"
   ]
  }
 ],
 "metadata": {
  "kernelspec": {
   "display_name": "Java",
   "language": "java",
   "name": "java"
  },
  "language_info": {
   "codemirror_mode": "java",
   "file_extension": ".jshell",
   "mimetype": "text/x-java-source",
   "name": "Java",
   "pygments_lexer": "java",
   "version": "17.0.4.1+1"
  },
  "orig_nbformat": 4
 },
 "nbformat": 4,
 "nbformat_minor": 2
}
