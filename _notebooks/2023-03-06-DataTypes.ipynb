{
 "cells": [
  {
   "attachments": {},
   "cell_type": "markdown",
   "metadata": {},
   "source": [
    "# Data Types\n",
    "> \"Learning the different types of data\"\n",
    "\n",
    "- toc:true\n",
    "- branch: master\n",
    "- badges: true\n",
    "- comments: true\n",
    "- author: Hetvi Trivedi, Iris Yang\n",
    "- categories: [collegeboard]\n"
   ]
  },
  {
   "attachments": {},
   "cell_type": "markdown",
   "metadata": {},
   "source": [
    "### Early Seed Award: write java code that performs binary addition of 1+1"
   ]
  },
  {
   "cell_type": "code",
   "execution_count": 7,
   "metadata": {},
   "outputs": [
    {
     "name": "stdout",
     "output_type": "stream",
     "text": [
      "Enter the first binary number: \n",
      " Enter the second binary number: \n",
      " 1 + 1 = 10\n"
     ]
    }
   ],
   "source": [
    "import java.util.Scanner;\n",
    "\n",
    "public class BinaryAddition {\n",
    "    public static void main(String[] args) {\n",
    "        Scanner input = new Scanner(System.in);\n",
    "        \n",
    "        System.out.print(\"Enter the first binary number: \\n \");\n",
    "        int binary1 = input.nextInt(2); // Read binary input as base-2 integer\n",
    "        \n",
    "        System.out.print(\"Enter the second binary number: \\n \");\n",
    "        int binary2 = input.nextInt(2); // Read binary input as base-2 integer\n",
    "        \n",
    "        int sum = binary1 + binary2;\n",
    "        \n",
    "        // Binary representation of sum\n",
    "        String binarySum = Integer.toBinaryString(sum); // this method returns a string representation of the integer argument as an unsigned integer in base 2. It accepts an argument in Int data-type and returns the corresponding binary string.\n",
    "        \n",
    "        // Output the result\n",
    "        System.out.println(binary1 + \" + \" + binary2 + \" = \" + binarySum);\n",
    "    }\n",
    "}\n",
    "BinaryAddition.main(null);"
   ]
  },
  {
   "attachments": {},
   "cell_type": "markdown",
   "metadata": {},
   "source": [
    "### Small Code Exercises\n",
    "Instructions: Write a Jupyter notebook code example on the following primitive types with a code example (4 to 5 lines), preference would be using array and methods like substring and random as applicable: int, double, boolean, char. Now convert each of the examples to corresponding Wrapper classes, using arrays.\n",
    "\n"
   ]
  },
  {
   "cell_type": "code",
   "execution_count": 1,
   "metadata": {},
   "outputs": [
    {
     "name": "stdout",
     "output_type": "stream",
     "text": [
      "Sum of numbers: 30\n"
     ]
    }
   ],
   "source": [
    "/// Primitive Data Type \"int\" within an array\n",
    "public class Example {\n",
    "    public static void main(String[] args) {\n",
    "      int[] numbers = {2, 4, 6, 8, 10}; // define array called numbers that have 5 int values\n",
    "      int sum = 0;\n",
    "      for (int i = 0; i < numbers.length; i++) { // iterate over array to sum the int values\n",
    "        sum += numbers[i];\n",
    "      }\n",
    "      System.out.println(\"Sum of numbers: \" + sum); // outputs the sum\n",
    "    }\n",
    "  }\n",
    "Example.main(null);"
   ]
  },
  {
   "cell_type": "code",
   "execution_count": 2,
   "metadata": {},
   "outputs": [
    {
     "name": "stdout",
     "output_type": "stream",
     "text": [
      "Element 0 = 3.14\n",
      "Element 1 = 2.718\n",
      "Element 2 = 1.618\n",
      "Element 3 = 0.707\n"
     ]
    }
   ],
   "source": [
    "/// Primitive Data Type \"double\" within an array\n",
    "public class DoubleArrayExample {\n",
    "    public static void main(String[] args) {\n",
    "        // declare an array of doubles\n",
    "        double[] myArray = { 3.14, 2.718, 1.618, 0.707 }; // declare an array with 4 values\n",
    "        // print out the values of the array\n",
    "        for (int i = 0; i < myArray.length; i++) {\n",
    "            System.out.println(\"Element \" + i + \" = \" + myArray[i]); // loop through the array using a for loop and print out each element in the array. Note that we use the double primitive type to declare the array and assign values to it.\n",
    "        }\n",
    "    }\n",
    "}\n",
    "DoubleArrayExample.main(null);"
   ]
  },
  {
   "cell_type": "code",
   "execution_count": 3,
   "metadata": {},
   "outputs": [
    {
     "name": "stdout",
     "output_type": "stream",
     "text": [
      "Element 0 = true\n",
      "Element 1 = false\n",
      "Element 2 = true\n",
      "Element 3 = false\n"
     ]
    }
   ],
   "source": [
    "/// Primitive Data Type \"boolean\" within an array\n",
    "public class BooleanArrayExample {\n",
    "    public static void main(String[] args) {\n",
    "        // declare an array of booleans\n",
    "        boolean[] myArray = { true, false, true, false }; // declare array with boolean data types\n",
    "\n",
    "        // print out the values of the array\n",
    "        for (int i = 0; i < myArray.length; i++) {\n",
    "            System.out.println(\"Element \" + i + \" = \" + myArray[i]);\n",
    "        }\n",
    "    }\n",
    "}\n",
    "BooleanArrayExample.main(null);\n"
   ]
  },
  {
   "cell_type": "code",
   "execution_count": 4,
   "metadata": {},
   "outputs": [
    {
     "name": "stdout",
     "output_type": "stream",
     "text": [
      "The random vowel is e\n"
     ]
    }
   ],
   "source": [
    "/// Primitive Data Type \"char\" without array\n",
    "\n",
    "import java.util.Random;\n",
    "\n",
    "public class CharExample {\n",
    "    public static void main(String[] args) {\n",
    "        Random rand = new Random(); // create random object to generate random number\n",
    "        char[] vowels = {'a', 'e', 'i', 'o', 'u'}; // array of vowels\n",
    "        char randomVowel = vowels[rand.nextInt(vowels.length)]; // next Int method of the rand object generates a random integer that retrieves a random vowel\n",
    "\n",
    "        System.out.println(\"The random vowel is \" + randomVowel);\n",
    "    }\n",
    "}\n",
    "CharExample.main(null);"
   ]
  },
  {
   "cell_type": "code",
   "execution_count": 7,
   "metadata": {},
   "outputs": [
    {
     "name": "stdout",
     "output_type": "stream",
     "text": [
      "The random vowel is u\n"
     ]
    }
   ],
   "source": [
    "/// Primitive Data Type \"char\" with an array\n",
    "\n",
    "public class CharArrayExample {\n",
    "    public static void main(String[] args) {\n",
    "        // declare an array of chars\n",
    "        char[] myArray = { 'a', 'b', 'c', 'd' };\n",
    "\n",
    "        // print out the values of the array\n",
    "        for (int i = 0; i < myArray.length; i++) {\n",
    "            System.out.println(\"Element \" + i + \" = \" + myArray[i]);\n",
    "        }\n",
    "    }\n",
    "}\n",
    "CharExample.main(null);"
   ]
  },
  {
   "attachments": {},
   "cell_type": "markdown",
   "metadata": {},
   "source": [
    "### Methods and Control Structures\n",
    "1. What are methods?\n",
    "- A method in Java is a block of code that, when called, performs specific actions mentioned in it.\n",
    "- Think of a method as a subprogram that acts on data and may, or may not, return a value. Each method has its own name.\n",
    "2. What are control structures?\n",
    "- A control structure is a blocl of code that can change the path we take through those instructions. Three types: conditional branches, loops, and branching statements\n",
    "-  Java provides Control structures that can change the path of execution and control the execution of instructions.\n",
    "3. What FRQ did you explore?\n",
    "- Explored 2018 FRQ 1. Click [here](https://hetvit27.github.io/hetvitrivedi/frq/2022/09/18/2018FRQ1.html)"
   ]
  },
  {
   "attachments": {},
   "cell_type": "markdown",
   "metadata": {},
   "source": [
    "### Exploring Mr. M's code\n",
    "1. Diverse Array\n",
    "- Matric has methods and control structures\n",
    "- It has loops and if statements\n",
    "- Has data types because it uses int and arrays\n",
    "2. Random\n",
    "- Used to generate type number greater than or equal to 0.0 and less than 1.0. The default random number always generated between 0 and 1. If you want to specific range of values, you have to multiply the returned value with the magnitude of the range.\n",
    "3. Do nothing by value\n",
    "- Doesn't change numbers locally\n",
    "- Change variable's subvalue\n",
    "4. Int by Reference\n",
    "- Value of int changes locally\n",
    "5. Menu\n",
    "- Use of catch, try, and while"
   ]
  },
  {
   "cell_type": "code",
   "execution_count": 1,
   "metadata": {},
   "outputs": [
    {
     "ename": "CompilationException",
     "evalue": "",
     "output_type": "error",
     "traceback": [
      "\u001b[1m\u001b[30m|   \u001b[1m\u001b[30m\u001b[0m\u001b[1m\u001b[30m\u001b[41m\u001b[0m\u001b[1m\u001b[30mpackage com.nighthawk.hacks.methodsDataTypes;\u001b[0m",
      "\u001b[1m\u001b[31millegal start of expression\u001b[0m",
      ""
     ]
    }
   ],
   "source": [
    "package com.nighthawk.hacks.methodsDataTypes;\n",
    "\n",
    "import java.util.HashMap;\n",
    "import java.util.Map;\n",
    "import java.util.Scanner;\n",
    "\n",
    "/**\n",
    " * Menu: custom implementation\n",
    " * @author     John Mortensen\n",
    " *\n",
    " * Uses String to contain Title for an Option\n",
    " * Uses Runnable to store Class-Method to be run when Title is selected\n",
    " */\n",
    "\n",
    "// The Menu Class has a HashMap of Menu Rows\n",
    "public class Menu {\n",
    "    // Format\n",
    "    // Key {0, 1, 2, ...} created based on order of input menu\n",
    "    // Value {MenuRow0, MenuRow1, MenuRow2,...} each corresponds to key\n",
    "    // MenuRow  {<Exit,Noop>, Option1, Option2, ...}\n",
    "    Map<Integer, MenuRow> menu = new HashMap<>();\n",
    "\n",
    "    /**\n",
    "     *  Constructor for Menu,\n",
    "     *\n",
    "     * @param  rows,  is the row data for menu.\n",
    "     */\n",
    "    public Menu(MenuRow[] rows) {\n",
    "        int i = 0;\n",
    "        for (MenuRow row : rows) {\n",
    "            // Build HashMap for lookup convenience\n",
    "            menu.put(i++, new MenuRow(row.getTitle(), row.getAction()));\n",
    "        }\n",
    "    }\n",
    "\n",
    "    /**\n",
    "     *  Get Row from Menu,\n",
    "     *\n",
    "     * @param  i,  HashMap key (k)\n",
    "     *\n",
    "     * @return  MenuRow, the selected menu\n",
    "     */\n",
    "    public MenuRow get(int i) {\n",
    "        return menu.get(i);\n",
    "    }\n",
    "\n",
    "    /**\n",
    "     *  Iterate through and print rows in HashMap\n",
    "     */\n",
    "    public void print() {\n",
    "        for (Map.Entry<Integer, MenuRow> pair : menu.entrySet()) {\n",
    "            System.out.println(pair.getKey() + \" ==> \" + pair.getValue().getTitle());\n",
    "        }\n",
    "    }\n",
    "\n",
    "    /**\n",
    "     *  To test run Driver\n",
    "     */\n",
    "    public static void main(String[] args) {\n",
    "        Driver.main(args);\n",
    "    }\n",
    "\n",
    "}\n",
    "\n",
    "// The MenuRow Class has title and action for individual line item in menu\n",
    "class MenuRow {\n",
    "    String title;       // menu item title\n",
    "    Runnable action;    // menu item action, using Runnable\n",
    "\n",
    "    /**\n",
    "     *  Constructor for MenuRow,\n",
    "     *\n",
    "     * @param  title,  is the description of the menu item\n",
    "     * @param  action, is the run-able action for the menu item\n",
    "     */\n",
    "    public MenuRow(String title, Runnable action) {\n",
    "        this.title = title;\n",
    "        this.action = action;\n",
    "    }\n",
    "\n",
    "    /**\n",
    "     *  Getters\n",
    "     */\n",
    "    public String getTitle() {\n",
    "        return this.title;\n",
    "    }\n",
    "    public Runnable getAction() {\n",
    "        return this.action;\n",
    "    }\n",
    "\n",
    "    /**\n",
    "     *  Runs the action using Runnable (.run)\n",
    "     */\n",
    "    public void run() {\n",
    "        action.run();\n",
    "    }\n",
    "}\n",
    "\n",
    "// The Main Class illustrates initializing and using Menu with Runnable action\n",
    "class Driver {\n",
    "    /**\n",
    "     *  Menu Control Example\n",
    "     */\n",
    "    public static void main(String[] args) {\n",
    "        // Row initialize\n",
    "        MenuRow[] rows = new MenuRow[]{\n",
    "            // lambda style, () -> to point to Class.Method\n",
    "            new MenuRow(\"Exit\", () -> main(null)),\n",
    "            new MenuRow(\"Do Nothing\", () -> DoNothingByValue.main(null)),\n",
    "            new MenuRow(\"Swap if Hi-Low\", () -> IntByReference.main(null)),\n",
    "            new MenuRow(\"Matrix Reverse\", () -> Matrix.main(null)),\n",
    "            new MenuRow(\"Diverse Array\", () -> Matrix.main(null)),\n",
    "            new MenuRow(\"Random Squirrels\", () -> Number.main(null))\n",
    "        };\n",
    "\n",
    "        // Menu construction\n",
    "        Menu menu = new Menu(rows);\n",
    "\n",
    "        // Run menu forever, exit condition contained in loop\n",
    "        while (true) {\n",
    "            System.out.println(\"Hacks Menu:\");\n",
    "            // print rows\n",
    "            menu.print();\n",
    "\n",
    "            // Scan for input\n",
    "            try {\n",
    "                Scanner scan = new Scanner(System.in);\n",
    "                int selection = scan.nextInt();\n",
    "\n",
    "                // menu action\n",
    "                try {\n",
    "                    MenuRow row = menu.get(selection);\n",
    "                    // stop menu\n",
    "                    if (row.getTitle().equals(\"Exit\")) {\n",
    "                        if (scan != null) \n",
    "                            scan.close();  // scanner resource requires release\n",
    "                        return;\n",
    "                    }\n",
    "                    // run option\n",
    "                    row.run();\n",
    "                } catch (Exception e) {\n",
    "                    System.out.printf(\"Invalid selection %d\\n\", selection);\n",
    "                }\n",
    "\n",
    "            } catch (Exception e) {\n",
    "                System.out.println(\"Not a number\");\n",
    "            }\n",
    "        }\n",
    "    }\n",
    "}"
   ]
  },
  {
   "attachments": {},
   "cell_type": "markdown",
   "metadata": {},
   "source": [
    "### Exploring 2017 FRQ\n",
    "- Two data types: int and boolean\n",
    "- Since the question involves identifying and processing the digits of a non-negative integer, it's best to use int\n",
    "- Boolean is used to store numbers as true or false if even or odd\n",
    "- Main methods are Digits and isStrictlyIncreasing\n",
    "- Digits utilizes if, while statements\n",
    "- isStrictlyIncreasing utilizes for loops"
   ]
  },
  {
   "cell_type": "code",
   "execution_count": null,
   "metadata": {},
   "outputs": [],
   "source": [
    "/// Part A\n",
    "public Digits(int num)\n",
    "{\n",
    "    digitList = new ArrayList<Integer>();\n",
    "        if (num == 0){\n",
    "        digitList.add(new Integer(0));\n",
    "        }\n",
    "        while (num > 0)\n",
    "        {\n",
    "        digitList.add(0, new Integer(num % 10));\n",
    "        num /= 10;\n",
    "        }\n",
    "}\n",
    "\n",
    "/// Part B\n",
    "public boolean isStrictlyIncreasing()\n",
    "{\n",
    "for (int i = 0; i < digitList.size()-1; i++){\n",
    "    if (digitList.get(i).intValue() >= digitList.get(i+1).intValue())\n",
    "{\n",
    "    return false;\n",
    "}\n",
    "}\n",
    "    return true;\n",
    "}"
   ]
  }
 ],
 "metadata": {
  "kernelspec": {
   "display_name": "Java",
   "language": "java",
   "name": "java"
  },
  "language_info": {
   "codemirror_mode": "java",
   "file_extension": ".jshell",
   "mimetype": "text/x-java-source",
   "name": "java",
   "pygments_lexer": "java",
   "version": "17.0.4.1+1"
  },
  "orig_nbformat": 4
 },
 "nbformat": 4,
 "nbformat_minor": 2
}
