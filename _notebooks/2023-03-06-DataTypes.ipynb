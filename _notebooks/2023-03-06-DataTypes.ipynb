{
 "cells": [
  {
   "attachments": {},
   "cell_type": "markdown",
   "metadata": {},
   "source": [
    "# Data Types\n",
    "> \"Learning the different types of data\"\n",
    "\n",
    "- toc:true\n",
    "- branch: master\n",
    "- badges: true\n",
    "- comments: true\n",
    "- author: Hetvi Trivedi\n",
    "- categories: [collegeboard]\n"
   ]
  },
  {
   "attachments": {},
   "cell_type": "markdown",
   "metadata": {},
   "source": [
    "### Early Seed Award: write java code that performs binary addition of 1+1"
   ]
  },
  {
   "cell_type": "code",
   "execution_count": 7,
   "metadata": {
    "vscode": {
     "languageId": "java"
    }
   },
   "outputs": [
    {
     "name": "stdout",
     "output_type": "stream",
     "text": [
      "Enter the first binary number: \n",
      " Enter the second binary number: \n",
      " 1 + 1 = 10\n"
     ]
    }
   ],
   "source": [
    "import java.util.Scanner;\n",
    "\n",
    "public class BinaryAddition {\n",
    "    public static void main(String[] args) {\n",
    "        Scanner input = new Scanner(System.in);\n",
    "        \n",
    "        System.out.print(\"Enter the first binary number: \\n \");\n",
    "        int binary1 = input.nextInt(2); // Read binary input as base-2 integer\n",
    "        \n",
    "        System.out.print(\"Enter the second binary number: \\n \");\n",
    "        int binary2 = input.nextInt(2); // Read binary input as base-2 integer\n",
    "        \n",
    "        int sum = binary1 + binary2;\n",
    "        \n",
    "        // Binary representation of sum\n",
    "        String binarySum = Integer.toBinaryString(sum); // this method returns a string representation of the integer argument as an unsigned integer in base 2. It accepts an argument in Int data-type and returns the corresponding binary string.\n",
    "        \n",
    "        // Output the result\n",
    "        System.out.println(binary1 + \" + \" + binary2 + \" = \" + binarySum);\n",
    "    }\n",
    "}\n",
    "BinaryAddition.main(null);"
   ]
  },
  {
   "attachments": {},
   "cell_type": "markdown",
   "metadata": {},
   "source": [
    "### Small Code Exercises\n",
    "Instructions: Write a Jupyter notebook code example on the following primitive types with a code example (4 to 5 lines), preference would be using array and methods like substring and random as applicable: int, double, boolean, char. Now convert each of the examples to corresponding Wrapper classes, using arrays.\n",
    "\n"
   ]
  },
  {
   "cell_type": "code",
   "execution_count": 1,
   "metadata": {
    "vscode": {
     "languageId": "java"
    }
   },
   "outputs": [
    {
     "name": "stdout",
     "output_type": "stream",
     "text": [
      "Sum of numbers: 30\n"
     ]
    }
   ],
   "source": [
    "/// Primitive Data Type \"int\" within an array\n",
    "public class Example {\n",
    "    public static void main(String[] args) {\n",
    "      int[] numbers = {2, 4, 6, 8, 10}; // define array called numbers that have 5 int values\n",
    "      int sum = 0;\n",
    "      for (int i = 0; i < numbers.length; i++) { // iterate over array to sum the int values\n",
    "        sum += numbers[i];\n",
    "      }\n",
    "      System.out.println(\"Sum of numbers: \" + sum); // outputs the sum\n",
    "    }\n",
    "  }\n",
    "Example.main(null);"
   ]
  },
  {
   "cell_type": "code",
   "execution_count": 2,
   "metadata": {
    "vscode": {
     "languageId": "java"
    }
   },
   "outputs": [
    {
     "name": "stdout",
     "output_type": "stream",
     "text": [
      "Element 0 = 3.14\n",
      "Element 1 = 2.718\n",
      "Element 2 = 1.618\n",
      "Element 3 = 0.707\n"
     ]
    }
   ],
   "source": [
    "/// Primitive Data Type \"double\" within an array\n",
    "public class DoubleArrayExample {\n",
    "    public static void main(String[] args) {\n",
    "        // declare an array of doubles\n",
    "        double[] myArray = { 3.14, 2.718, 1.618, 0.707 }; // declare an array with 4 values\n",
    "        // print out the values of the array\n",
    "        for (int i = 0; i < myArray.length; i++) {\n",
    "            System.out.println(\"Element \" + i + \" = \" + myArray[i]); // loop through the array using a for loop and print out each element in the array. Note that we use the double primitive type to declare the array and assign values to it.\n",
    "        }\n",
    "    }\n",
    "}\n",
    "DoubleArrayExample.main(null);"
   ]
  },
  {
   "cell_type": "code",
   "execution_count": 3,
   "metadata": {
    "vscode": {
     "languageId": "java"
    }
   },
   "outputs": [
    {
     "name": "stdout",
     "output_type": "stream",
     "text": [
      "Element 0 = true\n",
      "Element 1 = false\n",
      "Element 2 = true\n",
      "Element 3 = false\n"
     ]
    }
   ],
   "source": [
    "/// Primitive Data Type \"boolean\" within an array\n",
    "public class BooleanArrayExample {\n",
    "    public static void main(String[] args) {\n",
    "        // declare an array of booleans\n",
    "        boolean[] myArray = { true, false, true, false }; // declare array with boolean data types\n",
    "\n",
    "        // print out the values of the array\n",
    "        for (int i = 0; i < myArray.length; i++) {\n",
    "            System.out.println(\"Element \" + i + \" = \" + myArray[i]);\n",
    "        }\n",
    "    }\n",
    "}\n",
    "BooleanArrayExample.main(null);\n"
   ]
  },
  {
   "cell_type": "code",
   "execution_count": 4,
   "metadata": {
    "vscode": {
     "languageId": "java"
    }
   },
   "outputs": [
    {
     "name": "stdout",
     "output_type": "stream",
     "text": [
      "The random vowel is e\n"
     ]
    }
   ],
   "source": [
    "/// Primitive Data Type \"char\" without array\n",
    "\n",
    "import java.util.Random;\n",
    "\n",
    "public class CharExample {\n",
    "    public static void main(String[] args) {\n",
    "        Random rand = new Random(); // create random object to generate random number\n",
    "        char[] vowels = {'a', 'e', 'i', 'o', 'u'}; // array of vowels\n",
    "        char randomVowel = vowels[rand.nextInt(vowels.length)]; // next Int method of the rand object generates a random integer that retrieves a random vowel\n",
    "\n",
    "        System.out.println(\"The random vowel is \" + randomVowel);\n",
    "    }\n",
    "}\n",
    "CharExample.main(null);"
   ]
  },
  {
   "cell_type": "code",
   "execution_count": 7,
   "metadata": {
    "vscode": {
     "languageId": "java"
    }
   },
   "outputs": [
    {
     "name": "stdout",
     "output_type": "stream",
     "text": [
      "The random vowel is u\n"
     ]
    }
   ],
   "source": [
    "/// Primitive Data Type \"char\" with an array\n",
    "\n",
    "public class CharArrayExample {\n",
    "    public static void main(String[] args) {\n",
    "        // declare an array of chars\n",
    "        char[] myArray = { 'a', 'b', 'c', 'd' };\n",
    "\n",
    "        // print out the values of the array\n",
    "        for (int i = 0; i < myArray.length; i++) {\n",
    "            System.out.println(\"Element \" + i + \" = \" + myArray[i]);\n",
    "        }\n",
    "    }\n",
    "}\n",
    "CharExample.main(null);"
   ]
  }
 ],
 "metadata": {
  "kernelspec": {
   "display_name": "Java",
   "language": "java",
   "name": "java"
  },
  "language_info": {
   "codemirror_mode": "java",
   "file_extension": ".jshell",
   "mimetype": "text/x-java-source",
   "name": "Java",
   "pygments_lexer": "java",
   "version": "17.0.4.1+1"
  },
  "orig_nbformat": 4
 },
 "nbformat": 4,
 "nbformat_minor": 2
}
