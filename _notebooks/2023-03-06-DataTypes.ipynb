{
 "cells": [
  {
   "attachments": {},
   "cell_type": "markdown",
   "metadata": {},
   "source": [
    "# Data Types\n",
    "> \"Learning the different types of data\"\n",
    "\n",
    "- toc:true\n",
    "- branch: master\n",
    "- badges: true\n",
    "- comments: true\n",
    "- author: Hetvi Trivedi\n",
    "- categories: [collegeboard]\n"
   ]
  },
  {
   "cell_type": "code",
   "execution_count": 4,
   "metadata": {
    "vscode": {
     "languageId": "java"
    }
   },
   "outputs": [
    {
     "name": "stdout",
     "output_type": "stream",
     "text": [
      "Input first binary number: Input second binary number: Sum of two binary numbers: 10\n"
     ]
    }
   ],
   "source": [
    "import java.util.Scanner;\n",
    "\n",
    "public class BinaryCode {\n",
    " public static void main(String[] args)\n",
    " {\n",
    "  long binary1, binary2;\n",
    "  int i = 0, remainder = 0;\n",
    "  int[] sum = new int[20];\n",
    "  Scanner in = new Scanner(System.in);\n",
    "\n",
    "  System.out.print(\"Input first binary number: \");\n",
    "  binary1 = in.nextLong();\n",
    "\n",
    "  System.out.print(\"Input second binary number: \");\n",
    "  binary2 = in.nextLong();\n",
    "\n",
    "  while (binary1 != 0 || binary2 != 0) \n",
    "  {\n",
    "   sum[i++] = (int)((binary1 % 10 + binary2 % 10 + remainder) % 2);\n",
    "   remainder = (int)((binary1 % 10 + binary2 % 10 + remainder) / 2);\n",
    "   binary1 = binary1 / 10;\n",
    "   binary2 = binary2 / 10;\n",
    "  }\n",
    "  if (remainder != 0) {\n",
    "   sum[i++] = remainder;\n",
    "  }\n",
    "  --i;\n",
    "  System.out.print(\"Sum of two binary numbers: \");\n",
    "  while (i >= 0) {\n",
    "   System.out.print(sum[i--]);\n",
    "  }\n",
    "   System.out.print(\"\\n\");  \n",
    " }\n",
    "}\n",
    "BinaryCode.main(null);\n"
   ]
  }
 ],
 "metadata": {
  "kernelspec": {
   "display_name": "Java",
   "language": "java",
   "name": "java"
  },
  "language_info": {
   "codemirror_mode": "java",
   "file_extension": ".jshell",
   "mimetype": "text/x-java-source",
   "name": "Java",
   "pygments_lexer": "java",
   "version": "17.0.4.1+1"
  },
  "orig_nbformat": 4
 },
 "nbformat": 4,
 "nbformat_minor": 2
}
