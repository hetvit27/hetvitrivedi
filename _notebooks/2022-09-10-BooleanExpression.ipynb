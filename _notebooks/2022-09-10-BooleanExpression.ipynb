{
 "cells": [
  {
   "cell_type": "markdown",
   "metadata": {},
   "source": [
    "# \"Boolean Expressions and If Statements\"\n",
    "> \"Here, I explain if, if else statements, switch-case, De Morgan's law, and my overall learnings \"\n",
    "\n",
    "- toc:true\n",
    "- branch: master\n",
    "- badges: true\n",
    "- comments: true\n",
    "- author: Hetvi Trivedi\n",
    "- categories: [jupyter]"
   ]
  },
  {
   "cell_type": "markdown",
   "metadata": {},
   "source": [
    "# If Statements\n",
    "This type of conditional statement is composed of the idea that if a specific condition is met, then an action/code will be executed. Just check to see if something is true and will execute the code accordingly."
   ]
  },
  {
   "cell_type": "code",
   "execution_count": null,
   "metadata": {
    "vscode": {
     "languageId": "java"
    }
   },
   "outputs": [],
   "source": [
    "if (score >= 90) {//  the condition here is the score received on the test\n",
    "   grade = 'A'; // if the score is greater than 90, the action executed will be telling the user they got an A grade; if it's not true, the rest of the code will be executed and ignore what is between the brackets\n",
    "}"
   ]
  },
  {
   "cell_type": "markdown",
   "metadata": {},
   "source": [
    "# If-else Statements\n",
    "A conditional statement that runs a separate (else) code if the statement is false. It's a default action."
   ]
  },
  {
   "cell_type": "code",
   "execution_count": null,
   "metadata": {
    "vscode": {
     "languageId": "java"
    }
   },
   "outputs": [],
   "source": [
    "if (score >= 90) {//  the condition here is the score received on the test\n",
    "    grade = 'A'; // if the score is greater than 90, the action executed will be telling the user they got an A grade; if it's not true, the rest of the code will be executed and ignore what is between the brackets\n",
    " }\n",
    " else {\n",
    "    grade = 'Lower than an A'; // if the score is less than a 90, then this alternate code will run\n",
    " }"
   ]
  },
  {
   "cell_type": "markdown",
   "metadata": {},
   "source": [
    "# If-else If-else Statement\n",
    "This conditional statement allows you to have a string of codes if all the specific conditions are false"
   ]
  },
  {
   "cell_type": "code",
   "execution_count": null,
   "metadata": {
    "vscode": {
     "languageId": "java"
    }
   },
   "outputs": [],
   "source": [
    "if (time < 10) { // the condition here is the time \n",
    "    greeting = \"Good morning\"; // if the time is less than 10, the code will be executed\n",
    "  } else if (time < 20) { // the second condition is here if the number is not less than 10; it must be less than 20 for the code to run\n",
    "    greeting = \"Good day\"; // if the time is less than 20 but greater than 10, the code will be executed\n",
    "  } else { // if the number is greater than 20, then this alternate code will run since the first two statements were false\n",
    "    greeting = \"Good evening\"; // this code will be executed if the number is greater than 20\n",
    "  }"
   ]
  },
  {
   "cell_type": "markdown",
   "metadata": {},
   "source": [
    "# If-else 5 conditions example\n",
    "Here is a code I wrote"
   ]
  },
  {
   "cell_type": "code",
   "execution_count": 34,
   "metadata": {
    "vscode": {
     "languageId": "java"
    }
   },
   "outputs": [
    {
     "name": "stdout",
     "output_type": "stream",
     "text": [
      "You got an A\n"
     ]
    }
   ],
   "source": [
    "import java.util.Scanner;\n",
    "\n",
    "public class IfElseStatements {\n",
    "    public void go() {\n",
    "        Scanner scan = new Scanner(System.in);\n",
    "        int score = scan.nextInt();\n",
    "        if (score <= 60) {\n",
    "            System.out.println(\"You got an F\");\n",
    "        } else if (score <= 70) {\n",
    "            System.out.println(\"You got a D\");\n",
    "        } else if (score <= 80) {\n",
    "            System.out.println(\"You got a C\");\n",
    "        } else if (score <= 90) {\n",
    "            System.out.println(\"You got a B\");\n",
    "        } else if (score <= 100) {\n",
    "            System.out.println(\"You got an A\");\n",
    "        } else {\n",
    "            System.out.println(\"You didn't even get a grade!\");\n",
    "        }\n",
    "    }\n",
    "\n",
    "    public static void main(String[] args) {\n",
    "        IfElseStatements cond = new IfElseStatements();\n",
    "        cond.go();\n",
    "    }\n",
    "}\n",
    "IfElseStatements.main(null);\n"
   ]
  },
  {
   "cell_type": "markdown",
   "metadata": {},
   "source": [
    "# Switch Case\n",
    "A switch case is an if-else ladder that checks multiple conditions at once. The value that is inputted is checked with each given case until a match is found. Things to remember: two cases can't have the same value, data variable needs to be the same in all cases, and the value needs to be literal or constant not a variable."
   ]
  },
  {
   "cell_type": "code",
   "execution_count": 61,
   "metadata": {
    "vscode": {
     "languageId": "java"
    }
   },
   "outputs": [
    {
     "name": "stdout",
     "output_type": "stream",
     "text": [
      "You got an F\n"
     ]
    }
   ],
   "source": [
    "import java.util.Scanner;\n",
    "\n",
    "public class SwitchExample { // sets up class and objects for scanner\n",
    "    public void go() {\n",
    "        Scanner scan = new Scanner(System.in);\n",
    "        int score = scan.nextInt();\n",
    " \n",
    "        switch (score){ // switch statement with condition that goes through different cases to find a match\n",
    "            case 1: // for the score of less than 60\n",
    "                    System.out.println(\"You got an F\");\n",
    "                    break;    \n",
    "            case 2: // for the score  between 60 and 70\n",
    "                System.out.println(\"You got a D\");\n",
    "                break;\n",
    "            case 3: // for a score between 70 and 80\n",
    "                System.out.println(\"You got a C\");\n",
    "                break;\n",
    "            case 4: // for a score between an 80 and a 90\n",
    "                System.out.println(\"You got a B\");\n",
    "                break;\n",
    "            case 5: // for a score between a 90 and 100\n",
    "                System.out.println(\"You got an A\");\n",
    "                break;\n",
    "            default: // if none of the cases are a match, this is what will be the code automatically executed\n",
    "                System.out.println(\"You didn't even get a grade\");\n",
    "        }\n",
    "    }\n",
    "\n",
    "    public static void main(String[] args) {\n",
    "        SwitchExample cond = new SwitchExample();\n",
    "        cond.go();\n",
    "    }\n",
    "}\n",
    "\n",
    "SwitchExample.main(null);"
   ]
  },
  {
   "cell_type": "markdown",
   "metadata": {},
   "source": [
    "# De Morgan's Law\n",
    "Allows for specific Boolean statements to be written in different ways to have the same effect. It's similar to probability in statistics.\n",
    "The || means \"or\" and the && means \"and\"\n",
    "\n",
    "Written as:\n",
    "not (A or B) = (not A) and (not B)\n",
    "\n",
    "not (A and B) = (not A) or (not B)\n",
    "\n",
    "In code it's written as:\n",
    "\n",
    "!(A && B) == !A || !B\n",
    "!(A && B) == !A && !B"
   ]
  },
  {
   "cell_type": "code",
   "execution_count": 72,
   "metadata": {
    "vscode": {
     "languageId": "java"
    }
   },
   "outputs": [
    {
     "name": "stdout",
     "output_type": "stream",
     "text": [
      "You have a dog\n"
     ]
    }
   ],
   "source": [
    "if (!((true == true) && (true == false))) { // using the \"and\" \n",
    "    System.out.println(\"You have a dog\");\n",
    "}\n",
    "else {\n",
    "    System.out.println (\"You have a cat\");\n",
    "}"
   ]
  },
  {
   "cell_type": "code",
   "execution_count": 71,
   "metadata": {
    "vscode": {
     "languageId": "java"
    }
   },
   "outputs": [
    {
     "name": "stdout",
     "output_type": "stream",
     "text": [
      "You have a cat\n"
     ]
    }
   ],
   "source": [
    "if (!((true == true) || (true == false))) { // using the \"or\" \n",
    "    System.out.println(\"You have a dog\");\n",
    "}\n",
    "else {\n",
    "    System.out.println (\"You have a cat\");\n",
    "}"
   ]
  }
 ],
 "metadata": {
  "kernelspec": {
   "display_name": "Java",
   "language": "java",
   "name": "java"
  },
  "language_info": {
   "codemirror_mode": "java",
   "file_extension": ".jshell",
   "mimetype": "text/x-java-source",
   "name": "Java",
   "pygments_lexer": "java",
   "version": "17.0.4.1+1"
  },
  "orig_nbformat": 4
 },
 "nbformat": 4,
 "nbformat_minor": 2
}
