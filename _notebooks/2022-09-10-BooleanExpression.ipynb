{
 "cells": [
  {
   "cell_type": "markdown",
   "metadata": {},
   "source": [
    "# \"Boolean Expressions and If Statements\"\n",
    "> \"Here, I explain if, if else statements, switch-case, De Morgan's law, and my overall learnings \"\n",
    "\n",
    "- toc:true\n",
    "- branch: master\n",
    "- badges: true\n",
    "- comments: true\n",
    "- author: Hetvi Trivedi\n",
    "- categories: [jupyter]"
   ]
  },
  {
   "cell_type": "markdown",
   "metadata": {},
   "source": [
    "# If Statements\n",
    "This type of conditional statement is composed of the idea that if a specific condition is met, then an action/code will be executed. Just check to see if something is true and will execute the code accordingly."
   ]
  },
  {
   "cell_type": "code",
   "execution_count": null,
   "metadata": {
    "vscode": {
     "languageId": "java"
    }
   },
   "outputs": [],
   "source": [
    "if (score >= 90) {//  the condition here is the score received on the test\n",
    "   grade = 'A'; // if the score is greater than 90, the action executed will be telling the user they got an A grade; if it's not true, the rest of the code will be executed and ignore what is between the brackets\n",
    "}"
   ]
  },
  {
   "cell_type": "markdown",
   "metadata": {},
   "source": [
    "# If-else Statements\n",
    "A conditional statement that runs a separate (else) code if the statement is false. It's a default action."
   ]
  },
  {
   "cell_type": "code",
   "execution_count": null,
   "metadata": {
    "vscode": {
     "languageId": "java"
    }
   },
   "outputs": [],
   "source": [
    "if (score >= 90) {//  the condition here is the score received on the test\n",
    "    grade = 'A'; // if the score is greater than 90, the action executed will be telling the user they got an A grade; if it's not true, the rest of the code will be executed and ignore what is between the brackets\n",
    " }\n",
    " else {\n",
    "    grade = 'Lower than an A'; // if the score is less than a 90, then this alternate code will run\n",
    " }"
   ]
  },
  {
   "cell_type": "markdown",
   "metadata": {},
   "source": [
    "# If-else If-else Statement\n",
    "This conditional statement allows you to have a string of codes if all the specific conditions are false"
   ]
  },
  {
   "cell_type": "code",
   "execution_count": null,
   "metadata": {
    "vscode": {
     "languageId": "java"
    }
   },
   "outputs": [],
   "source": [
    "if (time < 10) { // the condition here is the time \n",
    "    greeting = \"Good morning\"; // if the time is less than 10, the code will be executed\n",
    "  } else if (time < 20) { // the second condition is here if the number is not less than 10; it must be less than 20 for the code to run\n",
    "    greeting = \"Good day\"; // if the time is less than 20 but greater than 10, the code will be executed\n",
    "  } else { // if the number is greater than 20, then this alternate code will run since the first two statements were false\n",
    "    greeting = \"Good evening\"; // this code will be executed if the number is greater than 20\n",
    "  }"
   ]
  },
  {
   "cell_type": "markdown",
   "metadata": {},
   "source": [
    "# If-else 5 conditions example\n",
    "Here is a code I wrote"
   ]
  },
  {
   "cell_type": "code",
   "execution_count": 29,
   "metadata": {
    "vscode": {
     "languageId": "java"
    }
   },
   "outputs": [
    {
     "name": "stdout",
     "output_type": "stream",
     "text": [
      "You got a D\n"
     ]
    }
   ],
   "source": [
    "import java.util.Scanner;\n",
    "\n",
    "public class IfElseStatements {\n",
    "    public void go() {\n",
    "        Scanner scan = new Scanner(System.in);\n",
    "        int score = scan.nextInt();\n",
    "        if (num == 1) {\n",
    "            System.out.println(\"You got an A\");\n",
    "        } else if (num == 2) {\n",
    "            System.out.println(\"You got a B\");\n",
    "        } else if (num ==3) {\n",
    "            System.out.println(\"You got a C\");\n",
    "        } else if (num ==4) {\n",
    "            System.out.println(\"You got a D\");\n",
    "        } else if (num ==5) {\n",
    "            System.out.println(\"You got an F\");\n",
    "        } else {\n",
    "            System.out.println(\"You didn't even get a grade!\");\n",
    "        }\n",
    "    }\n",
    "\n",
    "    public static void main(String[] args) {\n",
    "        IfElseStatements cond = new IfElseStatements();\n",
    "        cond.go();\n",
    "    }\n",
    "}\n",
    "IfElseStatements.main(null);\n"
   ]
  }
 ],
 "metadata": {
  "kernelspec": {
   "display_name": "Java",
   "language": "java",
   "name": "java"
  },
  "language_info": {
   "codemirror_mode": "java",
   "file_extension": ".jshell",
   "mimetype": "text/x-java-source",
   "name": "Java",
   "pygments_lexer": "java",
   "version": "17.0.4.1+1"
  },
  "orig_nbformat": 4
 },
 "nbformat": 4,
 "nbformat_minor": 2
}
