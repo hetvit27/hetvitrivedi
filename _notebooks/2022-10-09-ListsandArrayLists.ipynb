{
 "cells": [
  {
   "attachments": {},
   "cell_type": "markdown",
   "metadata": {},
   "source": [
    "# Lists and Array Lists\n",
    "> \"Show usage of Lists interfaces in a Jupyter Notebook example. Try using List interface and making a ArrayList object. Consider using an example that will be part of interest or final projects. This will probably become your favorite Data Structure in Java.\"\n",
    "\n",
    "- toc:true\n",
    "- branch: master\n",
    "- badges: true\n",
    "- comments: true\n",
    "- author: Hetvi Trivedi\n",
    "- categories: [arraylists]"
   ]
  },
  {
   "cell_type": "code",
   "execution_count": 13,
   "metadata": {},
   "outputs": [],
   "source": [
    "import java.util.ArrayList;\n",
    "\n",
    "ArrayList<String> physics = new ArrayList<String>();"
   ]
  },
  {
   "cell_type": "markdown",
   "metadata": {},
   "source": [
    "add(int index, element)"
   ]
  },
  {
   "cell_type": "code",
   "execution_count": 14,
   "metadata": {},
   "outputs": [
    {
     "data": {
      "text/plain": [
       "true"
      ]
     },
     "execution_count": 14,
     "metadata": {},
     "output_type": "execute_result"
    }
   ],
   "source": [
    "physics.add(\"potential energy\");\n",
    "physics.add(\"kinetic energy\");\n",
    "physics.add(\"conservation of energy\");"
   ]
  },
  {
   "cell_type": "markdown",
   "metadata": {},
   "source": [
    "addAll(int index, Collection collection) "
   ]
  },
  {
   "cell_type": "code",
   "execution_count": 15,
   "metadata": {},
   "outputs": [
    {
     "name": "stdout",
     "output_type": "stream",
     "text": [
      "Calculators:[potential energy, kinetic energy, conservation of energy]\n",
      "\n"
     ]
    }
   ],
   "source": [
    "import java.util.ArrayList;\n",
    "\n",
    "ArrayList<String> calculators = new ArrayList<String>();\n",
    "\n",
    "physics.addAll(calculators);\n",
    "System.out.println(\"Calculators:\" + physics + \"\\n\");\n"
   ]
  },
  {
   "cell_type": "markdown",
   "metadata": {},
   "source": [
    "size() This method is used to return the size of the list.\n",
    "\n"
   ]
  },
  {
   "cell_type": "code",
   "execution_count": 16,
   "metadata": {},
   "outputs": [
    {
     "name": "stdout",
     "output_type": "stream",
     "text": [
      "The number of calculators on the website is currently 3\n"
     ]
    }
   ],
   "source": [
    "System.out.println(\"The number of calculators on the website is currently \" + physics.size());"
   ]
  },
  {
   "cell_type": "markdown",
   "metadata": {},
   "source": [
    "clear() This method is used to remove all the elements in the list. However, the reference of the list created is still stored.\n"
   ]
  },
  {
   "cell_type": "code",
   "execution_count": 17,
   "metadata": {},
   "outputs": [
    {
     "name": "stdout",
     "output_type": "stream",
     "text": [
      "Calculators: []\n"
     ]
    }
   ],
   "source": [
    "calculators.clear();\n",
    "System.out.println(\"Calculators: \" + calculators);\n"
   ]
  },
  {
   "cell_type": "markdown",
   "metadata": {},
   "source": [
    "remove(int index) This method removes an element from the specified index. It shifts subsequent elements(if any) to left and decreases their indexes by 1."
   ]
  },
  {
   "cell_type": "code",
   "execution_count": 18,
   "metadata": {},
   "outputs": [
    {
     "name": "stdout",
     "output_type": "stream",
     "text": [
      "Calculators: [kinetic energy, conservation of energy]\n"
     ]
    }
   ],
   "source": [
    "physics.remove(0);\n",
    "System.out.println(\"Calculators: \" + physics);"
   ]
  },
  {
   "cell_type": "markdown",
   "metadata": {},
   "source": [
    "remove(element) This method is used to remove the first occurrence of the given element in the list."
   ]
  },
  {
   "cell_type": "code",
   "execution_count": 19,
   "metadata": {},
   "outputs": [
    {
     "name": "stdout",
     "output_type": "stream",
     "text": [
      "Calculators[kinetic energy, conservation of energy, Work]\n"
     ]
    }
   ],
   "source": [
    "physics.add(\"Work\");\n",
    "\n",
    "physics.remove(\"Potential Energy\");\n",
    "System.out.println(\"Calculators\" + physics);"
   ]
  },
  {
   "cell_type": "markdown",
   "metadata": {},
   "source": [
    "get(int index) This method returns elements at the specified index.\n"
   ]
  },
  {
   "cell_type": "code",
   "execution_count": 21,
   "metadata": {},
   "outputs": [
    {
     "name": "stdout",
     "output_type": "stream",
     "text": [
      "The first calculator is kinetic energy\n"
     ]
    }
   ],
   "source": [
    "System.out.println(\"The first calculator is \" + physics.get(0));\n"
   ]
  },
  {
   "cell_type": "markdown",
   "metadata": {},
   "source": [
    "set(int index, element) This method replaces elements at a given index with the new element. This function returns the element which was just replaced by a new element.\n",
    "\n"
   ]
  },
  {
   "cell_type": "code",
   "execution_count": 22,
   "metadata": {},
   "outputs": [
    {
     "name": "stdout",
     "output_type": "stream",
     "text": [
      "Calculators: [Kinetic Energy, conservation of energy, Work]\n"
     ]
    }
   ],
   "source": [
    "physics.set(0, \"Kinetic Energy\");\n",
    "System.out.println(\"Calculators: \" + physics);"
   ]
  },
  {
   "cell_type": "markdown",
   "metadata": {},
   "source": [
    "indexOf(element) This method returns the first occurrence of the given element or -1 if the element is not present in the list."
   ]
  },
  {
   "cell_type": "code",
   "execution_count": 26,
   "metadata": {},
   "outputs": [
    {
     "name": "stdout",
     "output_type": "stream",
     "text": [
      "The gravity calculator is -1\n"
     ]
    }
   ],
   "source": [
    "System.out.println(\"The gravity calculator is \" + physics.indexOf(\"the first calculator\"));\n"
   ]
  },
  {
   "cell_type": "markdown",
   "metadata": {},
   "source": [
    "lastIndexOf(element) This method returns the last occurrence of the given element or -1 if the element is not present in the list.\n",
    "\n"
   ]
  },
  {
   "cell_type": "code",
   "execution_count": 27,
   "metadata": {},
   "outputs": [
    {
     "name": "stdout",
     "output_type": "stream",
     "text": [
      "The potential energy calculator is -1\n"
     ]
    }
   ],
   "source": [
    "System.out.println(\"The potential energy calculator is \" + physics.indexOf(\"Physics Tutoring 1 hr sessions\"));"
   ]
  },
  {
   "cell_type": "markdown",
   "metadata": {},
   "source": [
    "equals(element) This method is used to compare the equality of the given element with the elements of the list."
   ]
  },
  {
   "cell_type": "code",
   "execution_count": 30,
   "metadata": {},
   "outputs": [
    {
     "name": "stdout",
     "output_type": "stream",
     "text": [
      "The inventory does not match the listings!\n"
     ]
    }
   ],
   "source": [
    "if (physics.equals(calculators) == true) {\n",
    "    System.out.println(\"The inventory matches the listings!\");\n",
    "}\n",
    "else {\n",
    "    System.out.println(\"The inventory does not match the listings!\");\n",
    "}"
   ]
  },
  {
   "cell_type": "markdown",
   "metadata": {},
   "source": [
    "hashCode() This method is used to return the hashcode value of the given list.\n",
    "\n"
   ]
  },
  {
   "cell_type": "code",
   "execution_count": 31,
   "metadata": {},
   "outputs": [
    {
     "name": "stdout",
     "output_type": "stream",
     "text": [
      "The hashcode for this list is 832184209\n"
     ]
    }
   ],
   "source": [
    "System.out.println(\"The hashcode for this list is \" + physics.hashCode());\n"
   ]
  },
  {
   "cell_type": "markdown",
   "metadata": {},
   "source": [
    "isEmpty() This method is used to check if the list is empty or not. It returns true if the list is empty, else false.\n",
    "\n"
   ]
  },
  {
   "cell_type": "code",
   "execution_count": 32,
   "metadata": {},
   "outputs": [
    {
     "name": "stdout",
     "output_type": "stream",
     "text": [
      "Calculators is empty false\n"
     ]
    }
   ],
   "source": [
    "System.out.println(\"Calculators is empty \" + physics.isEmpty());\n"
   ]
  },
  {
   "cell_type": "markdown",
   "metadata": {},
   "source": [
    "contains(element) This method is used to check if the list contains the given element or not. It returns true if the list contains the element."
   ]
  },
  {
   "cell_type": "code",
   "execution_count": 33,
   "metadata": {},
   "outputs": [
    {
     "name": "stdout",
     "output_type": "stream",
     "text": [
      "Calculators contains potential energy is false\n"
     ]
    }
   ],
   "source": [
    "System.out.println(\"Calculators contains potential energy is \" + physics.contains(\"potential energy\"));\n"
   ]
  },
  {
   "cell_type": "markdown",
   "metadata": {},
   "source": [
    "containsAll(Collection collection) This method is used to check if the list contains all the collection of elements.\n",
    "\n"
   ]
  },
  {
   "cell_type": "code",
   "execution_count": 34,
   "metadata": {},
   "outputs": [
    {
     "name": "stdout",
     "output_type": "stream",
     "text": [
      "The calculators are all working\n"
     ]
    }
   ],
   "source": [
    "if (physics.containsAll(calculators) == true) {\n",
    "    System.out.println(\"The calculators are all working\");\n",
    "}\n",
    "else {\n",
    "    System.out.println(\"The calculators are broken\");\n",
    "}\n"
   ]
  },
  {
   "cell_type": "markdown",
   "metadata": {},
   "source": [
    "sort(Comparator comp) This method is used to sort the elements of the list on the basis of the given comparator."
   ]
  },
  {
   "cell_type": "code",
   "execution_count": 35,
   "metadata": {},
   "outputs": [
    {
     "name": "stdout",
     "output_type": "stream",
     "text": [
      "Calculators arranged [Kinetic Energy, Work, conservation of energy]\n"
     ]
    }
   ],
   "source": [
    "Collections.sort(physics);\n",
    "System.out.println(\"Calculators arranged \" + physics);"
   ]
  }
 ],
 "metadata": {
  "kernelspec": {
   "display_name": "Java",
   "language": "java",
   "name": "java"
  },
  "language_info": {
   "codemirror_mode": "java",
   "file_extension": ".jshell",
   "mimetype": "text/x-java-source",
   "name": "java",
   "pygments_lexer": "java",
   "version": "17.0.4.1+1"
  },
  "orig_nbformat": 4
 },
 "nbformat": 4,
 "nbformat_minor": 2
}
